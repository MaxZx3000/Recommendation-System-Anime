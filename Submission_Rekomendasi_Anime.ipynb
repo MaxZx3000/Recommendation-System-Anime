{
  "nbformat": 4,
  "nbformat_minor": 0,
  "metadata": {
    "colab": {
      "name": "Submission_Rekomendasi_Anime.ipynb",
      "provenance": [],
      "collapsed_sections": [
        "gtD-Oz2P-Q-C",
        "5Y-LXqCaCgEj",
        "wrY19jjOQpEF",
        "lZQ3Mhsua3Fz",
        "fHD-1_DWFUqf",
        "EJ2J5mkFZZIL",
        "BlHpH2_DnkNz",
        "PsHCqiWs9DKi",
        "r6YOROtykpZx",
        "Lx-abA_elwIN",
        "16GzeIJHl6km",
        "afxB3Rlzl-sd",
        "CHp-mLOH4M2u"
      ]
    },
    "kernelspec": {
      "name": "python3",
      "display_name": "Python 3"
    },
    "language_info": {
      "name": "python"
    },
    "accelerator": "GPU"
  },
  "cells": [
    {
      "cell_type": "markdown",
      "source": [
        "# Submission Sistem Rekomendasi Anime\n",
        "\n",
        "Nama: Anthony Kevin Oktavius\n"
      ],
      "metadata": {
        "id": "Zy4eGn4GYHdk"
      }
    },
    {
      "cell_type": "markdown",
      "source": [
        "Library Imports"
      ],
      "metadata": {
        "id": "sZq90AQVjFA8"
      }
    },
    {
      "cell_type": "code",
      "source": [
        "import numpy as np\n",
        "import gensim\n",
        "import matplotlib.pyplot as plt\n",
        "import pandas as pd\n",
        "import seaborn as sns\n",
        "import requests\n",
        "from google.colab import files\n",
        "from scipy.stats.stats import kendalltau\n",
        "from pylab import rcParams\n",
        "%matplotlib inline"
      ],
      "metadata": {
        "id": "yPl7H3BzjGUd"
      },
      "execution_count": 1,
      "outputs": []
    },
    {
      "cell_type": "markdown",
      "source": [
        "Kaggle Upload"
      ],
      "metadata": {
        "id": "CYTW2T68qg-h"
      }
    },
    {
      "cell_type": "code",
      "source": [
        "from google.colab import files\n",
        "\n",
        "uploaded = files.upload()\n",
        "\n",
        "for fn in uploaded.keys():\n",
        "  print('Kaggle.json has been uploaded!')\n",
        "\n",
        "!mkdir -p ~/.kaggle/ && mv kaggle.json ~/.kaggle/ && chmod 600 ~/.kaggle/kaggle.json"
      ],
      "metadata": {
        "colab": {
          "resources": {
            "http://localhost:8080/nbextensions/google.colab/files.js": {
              "data": "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",
              "ok": true,
              "headers": [
                [
                  "content-type",
                  "application/javascript"
                ]
              ],
              "status": 200,
              "status_text": ""
            }
          },
          "base_uri": "https://localhost:8080/",
          "height": 93
        },
        "id": "WiFjyllKqiLI",
        "outputId": "b596c6c2-96a8-472f-a92b-633d1966b167"
      },
      "execution_count": 2,
      "outputs": [
        {
          "output_type": "display_data",
          "data": {
            "text/plain": [
              "<IPython.core.display.HTML object>"
            ],
            "text/html": [
              "\n",
              "     <input type=\"file\" id=\"files-e6ad1358-083e-4ba2-aba9-5b2f9c72db3e\" name=\"files[]\" multiple disabled\n",
              "        style=\"border:none\" />\n",
              "     <output id=\"result-e6ad1358-083e-4ba2-aba9-5b2f9c72db3e\">\n",
              "      Upload widget is only available when the cell has been executed in the\n",
              "      current browser session. Please rerun this cell to enable.\n",
              "      </output>\n",
              "      <script src=\"/nbextensions/google.colab/files.js\"></script> "
            ]
          },
          "metadata": {}
        },
        {
          "output_type": "stream",
          "name": "stdout",
          "text": [
            "Saving kaggle.json to kaggle.json\n",
            "Kaggle.json has been uploaded!\n"
          ]
        }
      ]
    },
    {
      "cell_type": "markdown",
      "source": [
        "Dataset Download"
      ],
      "metadata": {
        "id": "NJKKvcQRmyyG"
      }
    },
    {
      "cell_type": "code",
      "source": [
        "!kaggle datasets download -d CooperUnion/anime-recommendations-database\n",
        "!unzip -o anime-recommendations-database.zip"
      ],
      "metadata": {
        "colab": {
          "base_uri": "https://localhost:8080/"
        },
        "id": "gc8JZ5r2pK_-",
        "outputId": "b44ed85f-1a27-4556-b7e2-c45114a4ff02"
      },
      "execution_count": 3,
      "outputs": [
        {
          "output_type": "stream",
          "name": "stdout",
          "text": [
            "Downloading anime-recommendations-database.zip to /content\n",
            " 64% 16.0M/25.0M [00:00<00:00, 54.8MB/s]\n",
            "100% 25.0M/25.0M [00:00<00:00, 66.9MB/s]\n",
            "Archive:  anime-recommendations-database.zip\n",
            "  inflating: anime.csv               \n",
            "  inflating: rating.csv              \n"
          ]
        }
      ]
    },
    {
      "cell_type": "markdown",
      "source": [
        "Anime Dataset Preview"
      ],
      "metadata": {
        "id": "hY1MJcAziu7l"
      }
    },
    {
      "cell_type": "code",
      "source": [
        "anime_dataset_name = \"anime.csv\"\n",
        "anime_df = pd.read_csv(anime_dataset_name)\n",
        "anime_df "
      ],
      "metadata": {
        "colab": {
          "base_uri": "https://localhost:8080/",
          "height": 423
        },
        "id": "cCzMSm1pivJE",
        "outputId": "d9a83c48-f8bc-491d-d7b8-c15639b90ebc"
      },
      "execution_count": 4,
      "outputs": [
        {
          "output_type": "execute_result",
          "data": {
            "text/plain": [
              "       anime_id                                               name  \\\n",
              "0         32281                                     Kimi no Na wa.   \n",
              "1          5114                   Fullmetal Alchemist: Brotherhood   \n",
              "2         28977                                           Gintama°   \n",
              "3          9253                                        Steins;Gate   \n",
              "4          9969                                      Gintama&#039;   \n",
              "...         ...                                                ...   \n",
              "12289      9316       Toushindai My Lover: Minami tai Mecha-Minami   \n",
              "12290      5543                                        Under World   \n",
              "12291      5621                     Violence Gekiga David no Hoshi   \n",
              "12292      6133  Violence Gekiga Shin David no Hoshi: Inma Dens...   \n",
              "12293     26081                   Yasuji no Pornorama: Yacchimae!!   \n",
              "\n",
              "                                                   genre   type episodes  \\\n",
              "0                   Drama, Romance, School, Supernatural  Movie        1   \n",
              "1      Action, Adventure, Drama, Fantasy, Magic, Mili...     TV       64   \n",
              "2      Action, Comedy, Historical, Parody, Samurai, S...     TV       51   \n",
              "3                                       Sci-Fi, Thriller     TV       24   \n",
              "4      Action, Comedy, Historical, Parody, Samurai, S...     TV       51   \n",
              "...                                                  ...    ...      ...   \n",
              "12289                                             Hentai    OVA        1   \n",
              "12290                                             Hentai    OVA        1   \n",
              "12291                                             Hentai    OVA        4   \n",
              "12292                                             Hentai    OVA        1   \n",
              "12293                                             Hentai  Movie        1   \n",
              "\n",
              "       rating  members  \n",
              "0        9.37   200630  \n",
              "1        9.26   793665  \n",
              "2        9.25   114262  \n",
              "3        9.17   673572  \n",
              "4        9.16   151266  \n",
              "...       ...      ...  \n",
              "12289    4.15      211  \n",
              "12290    4.28      183  \n",
              "12291    4.88      219  \n",
              "12292    4.98      175  \n",
              "12293    5.46      142  \n",
              "\n",
              "[12294 rows x 7 columns]"
            ],
            "text/html": [
              "\n",
              "  <div id=\"df-1c3ff032-f719-42f4-a081-fa1c1829ab3a\">\n",
              "    <div class=\"colab-df-container\">\n",
              "      <div>\n",
              "<style scoped>\n",
              "    .dataframe tbody tr th:only-of-type {\n",
              "        vertical-align: middle;\n",
              "    }\n",
              "\n",
              "    .dataframe tbody tr th {\n",
              "        vertical-align: top;\n",
              "    }\n",
              "\n",
              "    .dataframe thead th {\n",
              "        text-align: right;\n",
              "    }\n",
              "</style>\n",
              "<table border=\"1\" class=\"dataframe\">\n",
              "  <thead>\n",
              "    <tr style=\"text-align: right;\">\n",
              "      <th></th>\n",
              "      <th>anime_id</th>\n",
              "      <th>name</th>\n",
              "      <th>genre</th>\n",
              "      <th>type</th>\n",
              "      <th>episodes</th>\n",
              "      <th>rating</th>\n",
              "      <th>members</th>\n",
              "    </tr>\n",
              "  </thead>\n",
              "  <tbody>\n",
              "    <tr>\n",
              "      <th>0</th>\n",
              "      <td>32281</td>\n",
              "      <td>Kimi no Na wa.</td>\n",
              "      <td>Drama, Romance, School, Supernatural</td>\n",
              "      <td>Movie</td>\n",
              "      <td>1</td>\n",
              "      <td>9.37</td>\n",
              "      <td>200630</td>\n",
              "    </tr>\n",
              "    <tr>\n",
              "      <th>1</th>\n",
              "      <td>5114</td>\n",
              "      <td>Fullmetal Alchemist: Brotherhood</td>\n",
              "      <td>Action, Adventure, Drama, Fantasy, Magic, Mili...</td>\n",
              "      <td>TV</td>\n",
              "      <td>64</td>\n",
              "      <td>9.26</td>\n",
              "      <td>793665</td>\n",
              "    </tr>\n",
              "    <tr>\n",
              "      <th>2</th>\n",
              "      <td>28977</td>\n",
              "      <td>Gintama°</td>\n",
              "      <td>Action, Comedy, Historical, Parody, Samurai, S...</td>\n",
              "      <td>TV</td>\n",
              "      <td>51</td>\n",
              "      <td>9.25</td>\n",
              "      <td>114262</td>\n",
              "    </tr>\n",
              "    <tr>\n",
              "      <th>3</th>\n",
              "      <td>9253</td>\n",
              "      <td>Steins;Gate</td>\n",
              "      <td>Sci-Fi, Thriller</td>\n",
              "      <td>TV</td>\n",
              "      <td>24</td>\n",
              "      <td>9.17</td>\n",
              "      <td>673572</td>\n",
              "    </tr>\n",
              "    <tr>\n",
              "      <th>4</th>\n",
              "      <td>9969</td>\n",
              "      <td>Gintama&amp;#039;</td>\n",
              "      <td>Action, Comedy, Historical, Parody, Samurai, S...</td>\n",
              "      <td>TV</td>\n",
              "      <td>51</td>\n",
              "      <td>9.16</td>\n",
              "      <td>151266</td>\n",
              "    </tr>\n",
              "    <tr>\n",
              "      <th>...</th>\n",
              "      <td>...</td>\n",
              "      <td>...</td>\n",
              "      <td>...</td>\n",
              "      <td>...</td>\n",
              "      <td>...</td>\n",
              "      <td>...</td>\n",
              "      <td>...</td>\n",
              "    </tr>\n",
              "    <tr>\n",
              "      <th>12289</th>\n",
              "      <td>9316</td>\n",
              "      <td>Toushindai My Lover: Minami tai Mecha-Minami</td>\n",
              "      <td>Hentai</td>\n",
              "      <td>OVA</td>\n",
              "      <td>1</td>\n",
              "      <td>4.15</td>\n",
              "      <td>211</td>\n",
              "    </tr>\n",
              "    <tr>\n",
              "      <th>12290</th>\n",
              "      <td>5543</td>\n",
              "      <td>Under World</td>\n",
              "      <td>Hentai</td>\n",
              "      <td>OVA</td>\n",
              "      <td>1</td>\n",
              "      <td>4.28</td>\n",
              "      <td>183</td>\n",
              "    </tr>\n",
              "    <tr>\n",
              "      <th>12291</th>\n",
              "      <td>5621</td>\n",
              "      <td>Violence Gekiga David no Hoshi</td>\n",
              "      <td>Hentai</td>\n",
              "      <td>OVA</td>\n",
              "      <td>4</td>\n",
              "      <td>4.88</td>\n",
              "      <td>219</td>\n",
              "    </tr>\n",
              "    <tr>\n",
              "      <th>12292</th>\n",
              "      <td>6133</td>\n",
              "      <td>Violence Gekiga Shin David no Hoshi: Inma Dens...</td>\n",
              "      <td>Hentai</td>\n",
              "      <td>OVA</td>\n",
              "      <td>1</td>\n",
              "      <td>4.98</td>\n",
              "      <td>175</td>\n",
              "    </tr>\n",
              "    <tr>\n",
              "      <th>12293</th>\n",
              "      <td>26081</td>\n",
              "      <td>Yasuji no Pornorama: Yacchimae!!</td>\n",
              "      <td>Hentai</td>\n",
              "      <td>Movie</td>\n",
              "      <td>1</td>\n",
              "      <td>5.46</td>\n",
              "      <td>142</td>\n",
              "    </tr>\n",
              "  </tbody>\n",
              "</table>\n",
              "<p>12294 rows × 7 columns</p>\n",
              "</div>\n",
              "      <button class=\"colab-df-convert\" onclick=\"convertToInteractive('df-1c3ff032-f719-42f4-a081-fa1c1829ab3a')\"\n",
              "              title=\"Convert this dataframe to an interactive table.\"\n",
              "              style=\"display:none;\">\n",
              "        \n",
              "  <svg xmlns=\"http://www.w3.org/2000/svg\" height=\"24px\"viewBox=\"0 0 24 24\"\n",
              "       width=\"24px\">\n",
              "    <path d=\"M0 0h24v24H0V0z\" fill=\"none\"/>\n",
              "    <path d=\"M18.56 5.44l.94 2.06.94-2.06 2.06-.94-2.06-.94-.94-2.06-.94 2.06-2.06.94zm-11 1L8.5 8.5l.94-2.06 2.06-.94-2.06-.94L8.5 2.5l-.94 2.06-2.06.94zm10 10l.94 2.06.94-2.06 2.06-.94-2.06-.94-.94-2.06-.94 2.06-2.06.94z\"/><path d=\"M17.41 7.96l-1.37-1.37c-.4-.4-.92-.59-1.43-.59-.52 0-1.04.2-1.43.59L10.3 9.45l-7.72 7.72c-.78.78-.78 2.05 0 2.83L4 21.41c.39.39.9.59 1.41.59.51 0 1.02-.2 1.41-.59l7.78-7.78 2.81-2.81c.8-.78.8-2.07 0-2.86zM5.41 20L4 18.59l7.72-7.72 1.47 1.35L5.41 20z\"/>\n",
              "  </svg>\n",
              "      </button>\n",
              "      \n",
              "  <style>\n",
              "    .colab-df-container {\n",
              "      display:flex;\n",
              "      flex-wrap:wrap;\n",
              "      gap: 12px;\n",
              "    }\n",
              "\n",
              "    .colab-df-convert {\n",
              "      background-color: #E8F0FE;\n",
              "      border: none;\n",
              "      border-radius: 50%;\n",
              "      cursor: pointer;\n",
              "      display: none;\n",
              "      fill: #1967D2;\n",
              "      height: 32px;\n",
              "      padding: 0 0 0 0;\n",
              "      width: 32px;\n",
              "    }\n",
              "\n",
              "    .colab-df-convert:hover {\n",
              "      background-color: #E2EBFA;\n",
              "      box-shadow: 0px 1px 2px rgba(60, 64, 67, 0.3), 0px 1px 3px 1px rgba(60, 64, 67, 0.15);\n",
              "      fill: #174EA6;\n",
              "    }\n",
              "\n",
              "    [theme=dark] .colab-df-convert {\n",
              "      background-color: #3B4455;\n",
              "      fill: #D2E3FC;\n",
              "    }\n",
              "\n",
              "    [theme=dark] .colab-df-convert:hover {\n",
              "      background-color: #434B5C;\n",
              "      box-shadow: 0px 1px 3px 1px rgba(0, 0, 0, 0.15);\n",
              "      filter: drop-shadow(0px 1px 2px rgba(0, 0, 0, 0.3));\n",
              "      fill: #FFFFFF;\n",
              "    }\n",
              "  </style>\n",
              "\n",
              "      <script>\n",
              "        const buttonEl =\n",
              "          document.querySelector('#df-1c3ff032-f719-42f4-a081-fa1c1829ab3a button.colab-df-convert');\n",
              "        buttonEl.style.display =\n",
              "          google.colab.kernel.accessAllowed ? 'block' : 'none';\n",
              "\n",
              "        async function convertToInteractive(key) {\n",
              "          const element = document.querySelector('#df-1c3ff032-f719-42f4-a081-fa1c1829ab3a');\n",
              "          const dataTable =\n",
              "            await google.colab.kernel.invokeFunction('convertToInteractive',\n",
              "                                                     [key], {});\n",
              "          if (!dataTable) return;\n",
              "\n",
              "          const docLinkHtml = 'Like what you see? Visit the ' +\n",
              "            '<a target=\"_blank\" href=https://colab.research.google.com/notebooks/data_table.ipynb>data table notebook</a>'\n",
              "            + ' to learn more about interactive tables.';\n",
              "          element.innerHTML = '';\n",
              "          dataTable['output_type'] = 'display_data';\n",
              "          await google.colab.output.renderOutput(dataTable, element);\n",
              "          const docLink = document.createElement('div');\n",
              "          docLink.innerHTML = docLinkHtml;\n",
              "          element.appendChild(docLink);\n",
              "        }\n",
              "      </script>\n",
              "    </div>\n",
              "  </div>\n",
              "  "
            ]
          },
          "metadata": {},
          "execution_count": 4
        }
      ]
    },
    {
      "cell_type": "markdown",
      "source": [
        "Rating Dataset Preview"
      ],
      "metadata": {
        "id": "5DfYCOAU7arY"
      }
    },
    {
      "cell_type": "code",
      "source": [
        "anime_rating_name = \"rating.csv\"\n",
        "anime_rating_df = pd.read_csv(anime_rating_name)\n",
        "anime_rating_df "
      ],
      "metadata": {
        "colab": {
          "base_uri": "https://localhost:8080/",
          "height": 423
        },
        "id": "lyCnaFjR7cy7",
        "outputId": "3b376567-dd99-4992-8d86-fecf590eae9c"
      },
      "execution_count": 5,
      "outputs": [
        {
          "output_type": "execute_result",
          "data": {
            "text/plain": [
              "         user_id  anime_id  rating\n",
              "0              1        20      -1\n",
              "1              1        24      -1\n",
              "2              1        79      -1\n",
              "3              1       226      -1\n",
              "4              1       241      -1\n",
              "...          ...       ...     ...\n",
              "7813732    73515     16512       7\n",
              "7813733    73515     17187       9\n",
              "7813734    73515     22145      10\n",
              "7813735    73516       790       9\n",
              "7813736    73516      8074       9\n",
              "\n",
              "[7813737 rows x 3 columns]"
            ],
            "text/html": [
              "\n",
              "  <div id=\"df-441ff64a-cb77-4433-afb0-d31bfd62ccfb\">\n",
              "    <div class=\"colab-df-container\">\n",
              "      <div>\n",
              "<style scoped>\n",
              "    .dataframe tbody tr th:only-of-type {\n",
              "        vertical-align: middle;\n",
              "    }\n",
              "\n",
              "    .dataframe tbody tr th {\n",
              "        vertical-align: top;\n",
              "    }\n",
              "\n",
              "    .dataframe thead th {\n",
              "        text-align: right;\n",
              "    }\n",
              "</style>\n",
              "<table border=\"1\" class=\"dataframe\">\n",
              "  <thead>\n",
              "    <tr style=\"text-align: right;\">\n",
              "      <th></th>\n",
              "      <th>user_id</th>\n",
              "      <th>anime_id</th>\n",
              "      <th>rating</th>\n",
              "    </tr>\n",
              "  </thead>\n",
              "  <tbody>\n",
              "    <tr>\n",
              "      <th>0</th>\n",
              "      <td>1</td>\n",
              "      <td>20</td>\n",
              "      <td>-1</td>\n",
              "    </tr>\n",
              "    <tr>\n",
              "      <th>1</th>\n",
              "      <td>1</td>\n",
              "      <td>24</td>\n",
              "      <td>-1</td>\n",
              "    </tr>\n",
              "    <tr>\n",
              "      <th>2</th>\n",
              "      <td>1</td>\n",
              "      <td>79</td>\n",
              "      <td>-1</td>\n",
              "    </tr>\n",
              "    <tr>\n",
              "      <th>3</th>\n",
              "      <td>1</td>\n",
              "      <td>226</td>\n",
              "      <td>-1</td>\n",
              "    </tr>\n",
              "    <tr>\n",
              "      <th>4</th>\n",
              "      <td>1</td>\n",
              "      <td>241</td>\n",
              "      <td>-1</td>\n",
              "    </tr>\n",
              "    <tr>\n",
              "      <th>...</th>\n",
              "      <td>...</td>\n",
              "      <td>...</td>\n",
              "      <td>...</td>\n",
              "    </tr>\n",
              "    <tr>\n",
              "      <th>7813732</th>\n",
              "      <td>73515</td>\n",
              "      <td>16512</td>\n",
              "      <td>7</td>\n",
              "    </tr>\n",
              "    <tr>\n",
              "      <th>7813733</th>\n",
              "      <td>73515</td>\n",
              "      <td>17187</td>\n",
              "      <td>9</td>\n",
              "    </tr>\n",
              "    <tr>\n",
              "      <th>7813734</th>\n",
              "      <td>73515</td>\n",
              "      <td>22145</td>\n",
              "      <td>10</td>\n",
              "    </tr>\n",
              "    <tr>\n",
              "      <th>7813735</th>\n",
              "      <td>73516</td>\n",
              "      <td>790</td>\n",
              "      <td>9</td>\n",
              "    </tr>\n",
              "    <tr>\n",
              "      <th>7813736</th>\n",
              "      <td>73516</td>\n",
              "      <td>8074</td>\n",
              "      <td>9</td>\n",
              "    </tr>\n",
              "  </tbody>\n",
              "</table>\n",
              "<p>7813737 rows × 3 columns</p>\n",
              "</div>\n",
              "      <button class=\"colab-df-convert\" onclick=\"convertToInteractive('df-441ff64a-cb77-4433-afb0-d31bfd62ccfb')\"\n",
              "              title=\"Convert this dataframe to an interactive table.\"\n",
              "              style=\"display:none;\">\n",
              "        \n",
              "  <svg xmlns=\"http://www.w3.org/2000/svg\" height=\"24px\"viewBox=\"0 0 24 24\"\n",
              "       width=\"24px\">\n",
              "    <path d=\"M0 0h24v24H0V0z\" fill=\"none\"/>\n",
              "    <path d=\"M18.56 5.44l.94 2.06.94-2.06 2.06-.94-2.06-.94-.94-2.06-.94 2.06-2.06.94zm-11 1L8.5 8.5l.94-2.06 2.06-.94-2.06-.94L8.5 2.5l-.94 2.06-2.06.94zm10 10l.94 2.06.94-2.06 2.06-.94-2.06-.94-.94-2.06-.94 2.06-2.06.94z\"/><path d=\"M17.41 7.96l-1.37-1.37c-.4-.4-.92-.59-1.43-.59-.52 0-1.04.2-1.43.59L10.3 9.45l-7.72 7.72c-.78.78-.78 2.05 0 2.83L4 21.41c.39.39.9.59 1.41.59.51 0 1.02-.2 1.41-.59l7.78-7.78 2.81-2.81c.8-.78.8-2.07 0-2.86zM5.41 20L4 18.59l7.72-7.72 1.47 1.35L5.41 20z\"/>\n",
              "  </svg>\n",
              "      </button>\n",
              "      \n",
              "  <style>\n",
              "    .colab-df-container {\n",
              "      display:flex;\n",
              "      flex-wrap:wrap;\n",
              "      gap: 12px;\n",
              "    }\n",
              "\n",
              "    .colab-df-convert {\n",
              "      background-color: #E8F0FE;\n",
              "      border: none;\n",
              "      border-radius: 50%;\n",
              "      cursor: pointer;\n",
              "      display: none;\n",
              "      fill: #1967D2;\n",
              "      height: 32px;\n",
              "      padding: 0 0 0 0;\n",
              "      width: 32px;\n",
              "    }\n",
              "\n",
              "    .colab-df-convert:hover {\n",
              "      background-color: #E2EBFA;\n",
              "      box-shadow: 0px 1px 2px rgba(60, 64, 67, 0.3), 0px 1px 3px 1px rgba(60, 64, 67, 0.15);\n",
              "      fill: #174EA6;\n",
              "    }\n",
              "\n",
              "    [theme=dark] .colab-df-convert {\n",
              "      background-color: #3B4455;\n",
              "      fill: #D2E3FC;\n",
              "    }\n",
              "\n",
              "    [theme=dark] .colab-df-convert:hover {\n",
              "      background-color: #434B5C;\n",
              "      box-shadow: 0px 1px 3px 1px rgba(0, 0, 0, 0.15);\n",
              "      filter: drop-shadow(0px 1px 2px rgba(0, 0, 0, 0.3));\n",
              "      fill: #FFFFFF;\n",
              "    }\n",
              "  </style>\n",
              "\n",
              "      <script>\n",
              "        const buttonEl =\n",
              "          document.querySelector('#df-441ff64a-cb77-4433-afb0-d31bfd62ccfb button.colab-df-convert');\n",
              "        buttonEl.style.display =\n",
              "          google.colab.kernel.accessAllowed ? 'block' : 'none';\n",
              "\n",
              "        async function convertToInteractive(key) {\n",
              "          const element = document.querySelector('#df-441ff64a-cb77-4433-afb0-d31bfd62ccfb');\n",
              "          const dataTable =\n",
              "            await google.colab.kernel.invokeFunction('convertToInteractive',\n",
              "                                                     [key], {});\n",
              "          if (!dataTable) return;\n",
              "\n",
              "          const docLinkHtml = 'Like what you see? Visit the ' +\n",
              "            '<a target=\"_blank\" href=https://colab.research.google.com/notebooks/data_table.ipynb>data table notebook</a>'\n",
              "            + ' to learn more about interactive tables.';\n",
              "          element.innerHTML = '';\n",
              "          dataTable['output_type'] = 'display_data';\n",
              "          await google.colab.output.renderOutput(dataTable, element);\n",
              "          const docLink = document.createElement('div');\n",
              "          docLink.innerHTML = docLinkHtml;\n",
              "          element.appendChild(docLink);\n",
              "        }\n",
              "      </script>\n",
              "    </div>\n",
              "  </div>\n",
              "  "
            ]
          },
          "metadata": {},
          "execution_count": 5
        }
      ]
    },
    {
      "cell_type": "markdown",
      "source": [
        "Inisialisasi field pada masing-masing data, agar field-field tersebut lebih mudah dikelola."
      ],
      "metadata": {
        "id": "mwQIr-b-DM7j"
      }
    },
    {
      "cell_type": "code",
      "source": [
        "# Field yang ada pada kedua dataset\n",
        "anime_id_field = \"anime_id\"\n",
        "rating_field = \"rating\"\n",
        "\n",
        "\n",
        "# Field-field pada rating\n",
        "name_field = \"name\"\n",
        "genre_field = \"genre\"\n",
        "type_field = \"type\"\n",
        "episodes_field = \"episodes\"\n",
        "rating_field = \"rating\"\n",
        "members_field = \"members\"\n",
        "\n",
        "# Field-field pada rating dataset\n",
        "user_id_field = \"user_id\"\n",
        "user_rating_field = \"user_rating\""
      ],
      "metadata": {
        "id": "BE96NYL4EBjl"
      },
      "execution_count": 6,
      "outputs": []
    },
    {
      "cell_type": "markdown",
      "source": [
        "## Exploratory Data Analysis"
      ],
      "metadata": {
        "id": "PcO3rF0ZkmMy"
      }
    },
    {
      "cell_type": "markdown",
      "source": [
        "Definisi fungsi untuk kebutuhan eksplorasi data"
      ],
      "metadata": {
        "id": "S_YrdPSKZ57D"
      }
    },
    {
      "cell_type": "code",
      "source": [
        "def plot_continous_data(plot_title, x_title, y_title, data):\n",
        "  plt.plot(data)\n",
        "  plt.title(plot_title)\n",
        "  plt.xlabel(x_title)\n",
        "  plt.ylabel(y_title)\n",
        "  plt.show()\n",
        "\n",
        "def dynamically_increment_update(dictionary, key, increment_value):\n",
        "   try:\n",
        "      dictionary[key] = dictionary[key] + increment_value\n",
        "   except KeyError:\n",
        "      dictionary[key] = increment_value\n",
        "  \n",
        "   return dictionary"
      ],
      "metadata": {
        "id": "sJRPkMIUZ9Dj"
      },
      "execution_count": 7,
      "outputs": []
    },
    {
      "cell_type": "markdown",
      "source": [
        "### Exploratory Data Analysis Anime"
      ],
      "metadata": {
        "id": "gtD-Oz2P-Q-C"
      }
    },
    {
      "cell_type": "markdown",
      "source": [
        "#### Variable Analysis\n",
        "\n",
        "Melihat deskripsi data dengan numpy dengan info() dan describe(). \n",
        "\n",
        "* **info()**: menjelaskan jumlah kolom yang non-null dan data type.\n",
        "    \n",
        "* **describe()**: menjelaskan beberapa informasi mengenai statistika suatu data."
      ],
      "metadata": {
        "id": "5Y-LXqCaCgEj"
      }
    },
    {
      "cell_type": "code",
      "source": [
        "anime_df_analysis = anime_df"
      ],
      "metadata": {
        "id": "cSHSqomRDF6x"
      },
      "execution_count": 8,
      "outputs": []
    },
    {
      "cell_type": "markdown",
      "source": [
        "Melihat jumlah kolom yang non-null dan data type "
      ],
      "metadata": {
        "id": "628NQNosAYLR"
      }
    },
    {
      "cell_type": "code",
      "source": [
        "anime_df_analysis.info()"
      ],
      "metadata": {
        "colab": {
          "base_uri": "https://localhost:8080/"
        },
        "id": "SN2sqWKI-RQW",
        "outputId": "59e0e14d-eec9-4762-ee1c-549fae7d1b7f"
      },
      "execution_count": 9,
      "outputs": [
        {
          "output_type": "stream",
          "name": "stdout",
          "text": [
            "<class 'pandas.core.frame.DataFrame'>\n",
            "RangeIndex: 12294 entries, 0 to 12293\n",
            "Data columns (total 7 columns):\n",
            " #   Column    Non-Null Count  Dtype  \n",
            "---  ------    --------------  -----  \n",
            " 0   anime_id  12294 non-null  int64  \n",
            " 1   name      12294 non-null  object \n",
            " 2   genre     12232 non-null  object \n",
            " 3   type      12269 non-null  object \n",
            " 4   episodes  12294 non-null  object \n",
            " 5   rating    12064 non-null  float64\n",
            " 6   members   12294 non-null  int64  \n",
            "dtypes: float64(1), int64(2), object(4)\n",
            "memory usage: 672.5+ KB\n"
          ]
        }
      ]
    },
    {
      "cell_type": "code",
      "source": [
        "anime_df_analysis.describe()"
      ],
      "metadata": {
        "colab": {
          "base_uri": "https://localhost:8080/",
          "height": 0
        },
        "id": "2sBENwLnsR_v",
        "outputId": "f13ca13d-123f-43d0-d009-b851483b7460"
      },
      "execution_count": 10,
      "outputs": [
        {
          "output_type": "execute_result",
          "data": {
            "text/plain": [
              "           anime_id        rating       members\n",
              "count  12294.000000  12064.000000  1.229400e+04\n",
              "mean   14058.221653      6.473902  1.807134e+04\n",
              "std    11455.294701      1.026746  5.482068e+04\n",
              "min        1.000000      1.670000  5.000000e+00\n",
              "25%     3484.250000      5.880000  2.250000e+02\n",
              "50%    10260.500000      6.570000  1.550000e+03\n",
              "75%    24794.500000      7.180000  9.437000e+03\n",
              "max    34527.000000     10.000000  1.013917e+06"
            ],
            "text/html": [
              "\n",
              "  <div id=\"df-e299a67f-82b0-497e-b5d3-91f405f56628\">\n",
              "    <div class=\"colab-df-container\">\n",
              "      <div>\n",
              "<style scoped>\n",
              "    .dataframe tbody tr th:only-of-type {\n",
              "        vertical-align: middle;\n",
              "    }\n",
              "\n",
              "    .dataframe tbody tr th {\n",
              "        vertical-align: top;\n",
              "    }\n",
              "\n",
              "    .dataframe thead th {\n",
              "        text-align: right;\n",
              "    }\n",
              "</style>\n",
              "<table border=\"1\" class=\"dataframe\">\n",
              "  <thead>\n",
              "    <tr style=\"text-align: right;\">\n",
              "      <th></th>\n",
              "      <th>anime_id</th>\n",
              "      <th>rating</th>\n",
              "      <th>members</th>\n",
              "    </tr>\n",
              "  </thead>\n",
              "  <tbody>\n",
              "    <tr>\n",
              "      <th>count</th>\n",
              "      <td>12294.000000</td>\n",
              "      <td>12064.000000</td>\n",
              "      <td>1.229400e+04</td>\n",
              "    </tr>\n",
              "    <tr>\n",
              "      <th>mean</th>\n",
              "      <td>14058.221653</td>\n",
              "      <td>6.473902</td>\n",
              "      <td>1.807134e+04</td>\n",
              "    </tr>\n",
              "    <tr>\n",
              "      <th>std</th>\n",
              "      <td>11455.294701</td>\n",
              "      <td>1.026746</td>\n",
              "      <td>5.482068e+04</td>\n",
              "    </tr>\n",
              "    <tr>\n",
              "      <th>min</th>\n",
              "      <td>1.000000</td>\n",
              "      <td>1.670000</td>\n",
              "      <td>5.000000e+00</td>\n",
              "    </tr>\n",
              "    <tr>\n",
              "      <th>25%</th>\n",
              "      <td>3484.250000</td>\n",
              "      <td>5.880000</td>\n",
              "      <td>2.250000e+02</td>\n",
              "    </tr>\n",
              "    <tr>\n",
              "      <th>50%</th>\n",
              "      <td>10260.500000</td>\n",
              "      <td>6.570000</td>\n",
              "      <td>1.550000e+03</td>\n",
              "    </tr>\n",
              "    <tr>\n",
              "      <th>75%</th>\n",
              "      <td>24794.500000</td>\n",
              "      <td>7.180000</td>\n",
              "      <td>9.437000e+03</td>\n",
              "    </tr>\n",
              "    <tr>\n",
              "      <th>max</th>\n",
              "      <td>34527.000000</td>\n",
              "      <td>10.000000</td>\n",
              "      <td>1.013917e+06</td>\n",
              "    </tr>\n",
              "  </tbody>\n",
              "</table>\n",
              "</div>\n",
              "      <button class=\"colab-df-convert\" onclick=\"convertToInteractive('df-e299a67f-82b0-497e-b5d3-91f405f56628')\"\n",
              "              title=\"Convert this dataframe to an interactive table.\"\n",
              "              style=\"display:none;\">\n",
              "        \n",
              "  <svg xmlns=\"http://www.w3.org/2000/svg\" height=\"24px\"viewBox=\"0 0 24 24\"\n",
              "       width=\"24px\">\n",
              "    <path d=\"M0 0h24v24H0V0z\" fill=\"none\"/>\n",
              "    <path d=\"M18.56 5.44l.94 2.06.94-2.06 2.06-.94-2.06-.94-.94-2.06-.94 2.06-2.06.94zm-11 1L8.5 8.5l.94-2.06 2.06-.94-2.06-.94L8.5 2.5l-.94 2.06-2.06.94zm10 10l.94 2.06.94-2.06 2.06-.94-2.06-.94-.94-2.06-.94 2.06-2.06.94z\"/><path d=\"M17.41 7.96l-1.37-1.37c-.4-.4-.92-.59-1.43-.59-.52 0-1.04.2-1.43.59L10.3 9.45l-7.72 7.72c-.78.78-.78 2.05 0 2.83L4 21.41c.39.39.9.59 1.41.59.51 0 1.02-.2 1.41-.59l7.78-7.78 2.81-2.81c.8-.78.8-2.07 0-2.86zM5.41 20L4 18.59l7.72-7.72 1.47 1.35L5.41 20z\"/>\n",
              "  </svg>\n",
              "      </button>\n",
              "      \n",
              "  <style>\n",
              "    .colab-df-container {\n",
              "      display:flex;\n",
              "      flex-wrap:wrap;\n",
              "      gap: 12px;\n",
              "    }\n",
              "\n",
              "    .colab-df-convert {\n",
              "      background-color: #E8F0FE;\n",
              "      border: none;\n",
              "      border-radius: 50%;\n",
              "      cursor: pointer;\n",
              "      display: none;\n",
              "      fill: #1967D2;\n",
              "      height: 32px;\n",
              "      padding: 0 0 0 0;\n",
              "      width: 32px;\n",
              "    }\n",
              "\n",
              "    .colab-df-convert:hover {\n",
              "      background-color: #E2EBFA;\n",
              "      box-shadow: 0px 1px 2px rgba(60, 64, 67, 0.3), 0px 1px 3px 1px rgba(60, 64, 67, 0.15);\n",
              "      fill: #174EA6;\n",
              "    }\n",
              "\n",
              "    [theme=dark] .colab-df-convert {\n",
              "      background-color: #3B4455;\n",
              "      fill: #D2E3FC;\n",
              "    }\n",
              "\n",
              "    [theme=dark] .colab-df-convert:hover {\n",
              "      background-color: #434B5C;\n",
              "      box-shadow: 0px 1px 3px 1px rgba(0, 0, 0, 0.15);\n",
              "      filter: drop-shadow(0px 1px 2px rgba(0, 0, 0, 0.3));\n",
              "      fill: #FFFFFF;\n",
              "    }\n",
              "  </style>\n",
              "\n",
              "      <script>\n",
              "        const buttonEl =\n",
              "          document.querySelector('#df-e299a67f-82b0-497e-b5d3-91f405f56628 button.colab-df-convert');\n",
              "        buttonEl.style.display =\n",
              "          google.colab.kernel.accessAllowed ? 'block' : 'none';\n",
              "\n",
              "        async function convertToInteractive(key) {\n",
              "          const element = document.querySelector('#df-e299a67f-82b0-497e-b5d3-91f405f56628');\n",
              "          const dataTable =\n",
              "            await google.colab.kernel.invokeFunction('convertToInteractive',\n",
              "                                                     [key], {});\n",
              "          if (!dataTable) return;\n",
              "\n",
              "          const docLinkHtml = 'Like what you see? Visit the ' +\n",
              "            '<a target=\"_blank\" href=https://colab.research.google.com/notebooks/data_table.ipynb>data table notebook</a>'\n",
              "            + ' to learn more about interactive tables.';\n",
              "          element.innerHTML = '';\n",
              "          dataTable['output_type'] = 'display_data';\n",
              "          await google.colab.output.renderOutput(dataTable, element);\n",
              "          const docLink = document.createElement('div');\n",
              "          docLink.innerHTML = docLinkHtml;\n",
              "          element.appendChild(docLink);\n",
              "        }\n",
              "      </script>\n",
              "    </div>\n",
              "  </div>\n",
              "  "
            ]
          },
          "metadata": {},
          "execution_count": 10
        }
      ]
    },
    {
      "cell_type": "markdown",
      "source": [
        "#### Missing Value"
      ],
      "metadata": {
        "id": "wrY19jjOQpEF"
      }
    },
    {
      "cell_type": "markdown",
      "source": [
        "Menghapus data yang null, karena kita masih punya 12017 data."
      ],
      "metadata": {
        "id": "xSxvijGpznvd"
      }
    },
    {
      "cell_type": "code",
      "source": [
        "anime_df_analysis.dropna(inplace=True)\n",
        "anime_df_analysis.info()"
      ],
      "metadata": {
        "colab": {
          "base_uri": "https://localhost:8080/"
        },
        "id": "WYpVOv0rzoD8",
        "outputId": "ef3c1b10-7089-4afb-9b81-93e4708f5a98"
      },
      "execution_count": 11,
      "outputs": [
        {
          "output_type": "stream",
          "name": "stdout",
          "text": [
            "<class 'pandas.core.frame.DataFrame'>\n",
            "Int64Index: 12017 entries, 0 to 12293\n",
            "Data columns (total 7 columns):\n",
            " #   Column    Non-Null Count  Dtype  \n",
            "---  ------    --------------  -----  \n",
            " 0   anime_id  12017 non-null  int64  \n",
            " 1   name      12017 non-null  object \n",
            " 2   genre     12017 non-null  object \n",
            " 3   type      12017 non-null  object \n",
            " 4   episodes  12017 non-null  object \n",
            " 5   rating    12017 non-null  float64\n",
            " 6   members   12017 non-null  int64  \n",
            "dtypes: float64(1), int64(2), object(4)\n",
            "memory usage: 751.1+ KB\n"
          ]
        }
      ]
    },
    {
      "cell_type": "markdown",
      "source": [
        "Melihat jumlah episode yang \"unknown\""
      ],
      "metadata": {
        "id": "bffyPHjy7hbE"
      }
    },
    {
      "cell_type": "code",
      "source": [
        "anime_df_analysis[anime_df_analysis[episodes_field].str.contains(\"Unknown\")].sum()"
      ],
      "metadata": {
        "colab": {
          "base_uri": "https://localhost:8080/"
        },
        "id": "Yx7-tcf77lEe",
        "outputId": "443ddfc6-8175-4fc4-c2c4-28a4b9acefe9"
      },
      "execution_count": 12,
      "outputs": [
        {
          "output_type": "execute_result",
          "data": {
            "text/plain": [
              "anime_id                                              5316763\n",
              "name        One PieceDetective ConanNaruto: ShippuudenCray...\n",
              "genre       Action, Adventure, Comedy, Drama, Fantasy, Sho...\n",
              "type        TVTVTVTVSpecialTVTVSpecialTVTVTVTVONATVTVTVTVT...\n",
              "episodes    UnknownUnknownUnknownUnknownUnknownUnknownUnkn...\n",
              "rating                                                1136.38\n",
              "members                                               1513316\n",
              "dtype: object"
            ]
          },
          "metadata": {},
          "execution_count": 12
        }
      ]
    },
    {
      "cell_type": "markdown",
      "source": [
        "Hapus field-field episodes yang memiliki data \"Unknown\""
      ],
      "metadata": {
        "id": "QjpukAG8qByc"
      }
    },
    {
      "cell_type": "code",
      "source": [
        "anime_df_analysis = anime_df_analysis.drop(anime_df_analysis[anime_df_analysis[episodes_field].str.contains(\"Unknown\")].index)"
      ],
      "metadata": {
        "id": "ll_wz9KcqCFV"
      },
      "execution_count": 13,
      "outputs": []
    },
    {
      "cell_type": "markdown",
      "source": [
        "Ubah field episodes menjadi tipe float64"
      ],
      "metadata": {
        "id": "ZaGv3cQJmTUH"
      }
    },
    {
      "cell_type": "code",
      "source": [
        "anime_df_analysis[episodes_field] = anime_df_analysis[episodes_field].astype(\n",
        "    'float64'\n",
        ")"
      ],
      "metadata": {
        "id": "i5w9RjkSl9sK"
      },
      "execution_count": 14,
      "outputs": []
    },
    {
      "cell_type": "markdown",
      "source": [
        "Menjelaskan kembali beberapa informasi mengenai statistika pada data anime."
      ],
      "metadata": {
        "id": "VUH-7SFqAXmh"
      }
    },
    {
      "cell_type": "code",
      "source": [
        "anime_df_analysis.describe()"
      ],
      "metadata": {
        "colab": {
          "base_uri": "https://localhost:8080/",
          "height": 0
        },
        "id": "95KKRtbJAX6p",
        "outputId": "a3984af1-9adb-46af-a8eb-761bfd77171a"
      },
      "execution_count": 15,
      "outputs": [
        {
          "output_type": "execute_result",
          "data": {
            "text/plain": [
              "           anime_id      episodes        rating       members\n",
              "count  11830.000000  11830.000000  11830.000000  1.183000e+04\n",
              "mean   13404.150211     12.486729      6.484609  1.851100e+04\n",
              "std    11110.087616     47.097131      1.019147  5.537144e+04\n",
              "min        1.000000      1.000000      1.670000  1.200000e+01\n",
              "25%     3326.250000      1.000000      5.892500  2.322500e+02\n",
              "50%     9820.500000      2.000000      6.570000  1.589500e+03\n",
              "75%    23302.500000     12.000000      7.190000  9.832000e+03\n",
              "max    34519.000000   1818.000000     10.000000  1.013917e+06"
            ],
            "text/html": [
              "\n",
              "  <div id=\"df-36e92812-1dc5-462a-9d09-d1e7d5adfb3e\">\n",
              "    <div class=\"colab-df-container\">\n",
              "      <div>\n",
              "<style scoped>\n",
              "    .dataframe tbody tr th:only-of-type {\n",
              "        vertical-align: middle;\n",
              "    }\n",
              "\n",
              "    .dataframe tbody tr th {\n",
              "        vertical-align: top;\n",
              "    }\n",
              "\n",
              "    .dataframe thead th {\n",
              "        text-align: right;\n",
              "    }\n",
              "</style>\n",
              "<table border=\"1\" class=\"dataframe\">\n",
              "  <thead>\n",
              "    <tr style=\"text-align: right;\">\n",
              "      <th></th>\n",
              "      <th>anime_id</th>\n",
              "      <th>episodes</th>\n",
              "      <th>rating</th>\n",
              "      <th>members</th>\n",
              "    </tr>\n",
              "  </thead>\n",
              "  <tbody>\n",
              "    <tr>\n",
              "      <th>count</th>\n",
              "      <td>11830.000000</td>\n",
              "      <td>11830.000000</td>\n",
              "      <td>11830.000000</td>\n",
              "      <td>1.183000e+04</td>\n",
              "    </tr>\n",
              "    <tr>\n",
              "      <th>mean</th>\n",
              "      <td>13404.150211</td>\n",
              "      <td>12.486729</td>\n",
              "      <td>6.484609</td>\n",
              "      <td>1.851100e+04</td>\n",
              "    </tr>\n",
              "    <tr>\n",
              "      <th>std</th>\n",
              "      <td>11110.087616</td>\n",
              "      <td>47.097131</td>\n",
              "      <td>1.019147</td>\n",
              "      <td>5.537144e+04</td>\n",
              "    </tr>\n",
              "    <tr>\n",
              "      <th>min</th>\n",
              "      <td>1.000000</td>\n",
              "      <td>1.000000</td>\n",
              "      <td>1.670000</td>\n",
              "      <td>1.200000e+01</td>\n",
              "    </tr>\n",
              "    <tr>\n",
              "      <th>25%</th>\n",
              "      <td>3326.250000</td>\n",
              "      <td>1.000000</td>\n",
              "      <td>5.892500</td>\n",
              "      <td>2.322500e+02</td>\n",
              "    </tr>\n",
              "    <tr>\n",
              "      <th>50%</th>\n",
              "      <td>9820.500000</td>\n",
              "      <td>2.000000</td>\n",
              "      <td>6.570000</td>\n",
              "      <td>1.589500e+03</td>\n",
              "    </tr>\n",
              "    <tr>\n",
              "      <th>75%</th>\n",
              "      <td>23302.500000</td>\n",
              "      <td>12.000000</td>\n",
              "      <td>7.190000</td>\n",
              "      <td>9.832000e+03</td>\n",
              "    </tr>\n",
              "    <tr>\n",
              "      <th>max</th>\n",
              "      <td>34519.000000</td>\n",
              "      <td>1818.000000</td>\n",
              "      <td>10.000000</td>\n",
              "      <td>1.013917e+06</td>\n",
              "    </tr>\n",
              "  </tbody>\n",
              "</table>\n",
              "</div>\n",
              "      <button class=\"colab-df-convert\" onclick=\"convertToInteractive('df-36e92812-1dc5-462a-9d09-d1e7d5adfb3e')\"\n",
              "              title=\"Convert this dataframe to an interactive table.\"\n",
              "              style=\"display:none;\">\n",
              "        \n",
              "  <svg xmlns=\"http://www.w3.org/2000/svg\" height=\"24px\"viewBox=\"0 0 24 24\"\n",
              "       width=\"24px\">\n",
              "    <path d=\"M0 0h24v24H0V0z\" fill=\"none\"/>\n",
              "    <path d=\"M18.56 5.44l.94 2.06.94-2.06 2.06-.94-2.06-.94-.94-2.06-.94 2.06-2.06.94zm-11 1L8.5 8.5l.94-2.06 2.06-.94-2.06-.94L8.5 2.5l-.94 2.06-2.06.94zm10 10l.94 2.06.94-2.06 2.06-.94-2.06-.94-.94-2.06-.94 2.06-2.06.94z\"/><path d=\"M17.41 7.96l-1.37-1.37c-.4-.4-.92-.59-1.43-.59-.52 0-1.04.2-1.43.59L10.3 9.45l-7.72 7.72c-.78.78-.78 2.05 0 2.83L4 21.41c.39.39.9.59 1.41.59.51 0 1.02-.2 1.41-.59l7.78-7.78 2.81-2.81c.8-.78.8-2.07 0-2.86zM5.41 20L4 18.59l7.72-7.72 1.47 1.35L5.41 20z\"/>\n",
              "  </svg>\n",
              "      </button>\n",
              "      \n",
              "  <style>\n",
              "    .colab-df-container {\n",
              "      display:flex;\n",
              "      flex-wrap:wrap;\n",
              "      gap: 12px;\n",
              "    }\n",
              "\n",
              "    .colab-df-convert {\n",
              "      background-color: #E8F0FE;\n",
              "      border: none;\n",
              "      border-radius: 50%;\n",
              "      cursor: pointer;\n",
              "      display: none;\n",
              "      fill: #1967D2;\n",
              "      height: 32px;\n",
              "      padding: 0 0 0 0;\n",
              "      width: 32px;\n",
              "    }\n",
              "\n",
              "    .colab-df-convert:hover {\n",
              "      background-color: #E2EBFA;\n",
              "      box-shadow: 0px 1px 2px rgba(60, 64, 67, 0.3), 0px 1px 3px 1px rgba(60, 64, 67, 0.15);\n",
              "      fill: #174EA6;\n",
              "    }\n",
              "\n",
              "    [theme=dark] .colab-df-convert {\n",
              "      background-color: #3B4455;\n",
              "      fill: #D2E3FC;\n",
              "    }\n",
              "\n",
              "    [theme=dark] .colab-df-convert:hover {\n",
              "      background-color: #434B5C;\n",
              "      box-shadow: 0px 1px 3px 1px rgba(0, 0, 0, 0.15);\n",
              "      filter: drop-shadow(0px 1px 2px rgba(0, 0, 0, 0.3));\n",
              "      fill: #FFFFFF;\n",
              "    }\n",
              "  </style>\n",
              "\n",
              "      <script>\n",
              "        const buttonEl =\n",
              "          document.querySelector('#df-36e92812-1dc5-462a-9d09-d1e7d5adfb3e button.colab-df-convert');\n",
              "        buttonEl.style.display =\n",
              "          google.colab.kernel.accessAllowed ? 'block' : 'none';\n",
              "\n",
              "        async function convertToInteractive(key) {\n",
              "          const element = document.querySelector('#df-36e92812-1dc5-462a-9d09-d1e7d5adfb3e');\n",
              "          const dataTable =\n",
              "            await google.colab.kernel.invokeFunction('convertToInteractive',\n",
              "                                                     [key], {});\n",
              "          if (!dataTable) return;\n",
              "\n",
              "          const docLinkHtml = 'Like what you see? Visit the ' +\n",
              "            '<a target=\"_blank\" href=https://colab.research.google.com/notebooks/data_table.ipynb>data table notebook</a>'\n",
              "            + ' to learn more about interactive tables.';\n",
              "          element.innerHTML = '';\n",
              "          dataTable['output_type'] = 'display_data';\n",
              "          await google.colab.output.renderOutput(dataTable, element);\n",
              "          const docLink = document.createElement('div');\n",
              "          docLink.innerHTML = docLinkHtml;\n",
              "          element.appendChild(docLink);\n",
              "        }\n",
              "      </script>\n",
              "    </div>\n",
              "  </div>\n",
              "  "
            ]
          },
          "metadata": {},
          "execution_count": 15
        }
      ]
    },
    {
      "cell_type": "markdown",
      "source": [
        "#### Eskplorasi Data Genre"
      ],
      "metadata": {
        "id": "lZQ3Mhsua3Fz"
      }
    },
    {
      "cell_type": "code",
      "source": [
        "genres_anime_data = anime_df_analysis[genre_field]\n",
        "genres_anime_data"
      ],
      "metadata": {
        "colab": {
          "base_uri": "https://localhost:8080/"
        },
        "id": "2QfehsNGvWl_",
        "outputId": "ddaad23f-c631-4a7a-9db1-90b27d91ae89"
      },
      "execution_count": 16,
      "outputs": [
        {
          "output_type": "execute_result",
          "data": {
            "text/plain": [
              "0                     Drama, Romance, School, Supernatural\n",
              "1        Action, Adventure, Drama, Fantasy, Magic, Mili...\n",
              "2        Action, Comedy, Historical, Parody, Samurai, S...\n",
              "3                                         Sci-Fi, Thriller\n",
              "4        Action, Comedy, Historical, Parody, Samurai, S...\n",
              "                               ...                        \n",
              "12289                                               Hentai\n",
              "12290                                               Hentai\n",
              "12291                                               Hentai\n",
              "12292                                               Hentai\n",
              "12293                                               Hentai\n",
              "Name: genre, Length: 11830, dtype: object"
            ]
          },
          "metadata": {},
          "execution_count": 16
        }
      ]
    },
    {
      "cell_type": "code",
      "source": [
        "number_per_genre = dict()\n",
        "\n",
        "for i in range(len(genres_anime_data)):\n",
        "  genre_anime_data = genres_anime_data.iloc[[i][0]]\n",
        "  splitted_text = genre_anime_data.split(', ')\n",
        "\n",
        "  # Mendapatkan masing-masing genre\n",
        "  for i in range(len(splitted_text)):\n",
        "    number_per_genre = dynamically_increment_update(number_per_genre, \n",
        "                                                    splitted_text[i], \n",
        "                                                    1)\n",
        "\n",
        "key_genre_dictionary = list(number_per_genre.keys())\n",
        "value_genre_dictionary = list(number_per_genre.values())"
      ],
      "metadata": {
        "id": "HwuRjT7da3XP"
      },
      "execution_count": 17,
      "outputs": []
    },
    {
      "cell_type": "markdown",
      "source": [
        "**Visualisasi Data Genre yang ada dengan menggunakan tabel**\n",
        "\n",
        "Melihat jumlah data pada genre individual."
      ],
      "metadata": {
        "id": "HirH5FKrDT4C"
      }
    },
    {
      "cell_type": "code",
      "source": [
        "count_field = \"Count\"\n",
        "\n",
        "anime_genre_dataframe = pd.DataFrame(\n",
        "    data = value_genre_dictionary,\n",
        "    index = key_genre_dictionary,\n",
        "    columns = [count_field]\n",
        ")\n",
        "\n",
        "print(f\"Total anime genres: {anime_genre_dataframe.shape[0]}\")\n",
        "anime_genre_dataframe.sort_values(by=count_field, ascending=False)"
      ],
      "metadata": {
        "colab": {
          "base_uri": "https://localhost:8080/",
          "height": 0
        },
        "id": "yW7vFkBYDWEH",
        "outputId": "9cc7a994-2f9c-4eec-cbe7-75be78bfa9c3"
      },
      "execution_count": 18,
      "outputs": [
        {
          "output_type": "stream",
          "name": "stdout",
          "text": [
            "Total anime genres: 43\n"
          ]
        },
        {
          "output_type": "execute_result",
          "data": {
            "text/plain": [
              "               Count\n",
              "Comedy          4483\n",
              "Action          2748\n",
              "Adventure       2293\n",
              "Fantasy         2219\n",
              "Sci-Fi          2028\n",
              "Drama           1972\n",
              "Shounen         1669\n",
              "Kids            1550\n",
              "Romance         1436\n",
              "Slice of Life   1180\n",
              "School          1164\n",
              "Hentai          1099\n",
              "Supernatural     993\n",
              "Mecha            927\n",
              "Music            832\n",
              "Historical       787\n",
              "Magic            742\n",
              "Ecchi            627\n",
              "Shoujo           587\n",
              "Seinen           530\n",
              "Sports           527\n",
              "Mystery          482\n",
              "Super Power      445\n",
              "Military         415\n",
              "Parody           397\n",
              "Space            376\n",
              "Horror           360\n",
              "Harem            312\n",
              "Demons           287\n",
              "Martial Arts     258\n",
              "Dementia         238\n",
              "Psychological    226\n",
              "Police           194\n",
              "Game             170\n",
              "Samurai          145\n",
              "Vampire          100\n",
              "Thriller          86\n",
              "Cars              71\n",
              "Shounen Ai        62\n",
              "Shoujo Ai         54\n",
              "Josei             52\n",
              "Yuri              41\n",
              "Yaoi              37"
            ],
            "text/html": [
              "\n",
              "  <div id=\"df-be631522-7819-412e-a85a-8d9806ae0ac3\">\n",
              "    <div class=\"colab-df-container\">\n",
              "      <div>\n",
              "<style scoped>\n",
              "    .dataframe tbody tr th:only-of-type {\n",
              "        vertical-align: middle;\n",
              "    }\n",
              "\n",
              "    .dataframe tbody tr th {\n",
              "        vertical-align: top;\n",
              "    }\n",
              "\n",
              "    .dataframe thead th {\n",
              "        text-align: right;\n",
              "    }\n",
              "</style>\n",
              "<table border=\"1\" class=\"dataframe\">\n",
              "  <thead>\n",
              "    <tr style=\"text-align: right;\">\n",
              "      <th></th>\n",
              "      <th>Count</th>\n",
              "    </tr>\n",
              "  </thead>\n",
              "  <tbody>\n",
              "    <tr>\n",
              "      <th>Comedy</th>\n",
              "      <td>4483</td>\n",
              "    </tr>\n",
              "    <tr>\n",
              "      <th>Action</th>\n",
              "      <td>2748</td>\n",
              "    </tr>\n",
              "    <tr>\n",
              "      <th>Adventure</th>\n",
              "      <td>2293</td>\n",
              "    </tr>\n",
              "    <tr>\n",
              "      <th>Fantasy</th>\n",
              "      <td>2219</td>\n",
              "    </tr>\n",
              "    <tr>\n",
              "      <th>Sci-Fi</th>\n",
              "      <td>2028</td>\n",
              "    </tr>\n",
              "    <tr>\n",
              "      <th>Drama</th>\n",
              "      <td>1972</td>\n",
              "    </tr>\n",
              "    <tr>\n",
              "      <th>Shounen</th>\n",
              "      <td>1669</td>\n",
              "    </tr>\n",
              "    <tr>\n",
              "      <th>Kids</th>\n",
              "      <td>1550</td>\n",
              "    </tr>\n",
              "    <tr>\n",
              "      <th>Romance</th>\n",
              "      <td>1436</td>\n",
              "    </tr>\n",
              "    <tr>\n",
              "      <th>Slice of Life</th>\n",
              "      <td>1180</td>\n",
              "    </tr>\n",
              "    <tr>\n",
              "      <th>School</th>\n",
              "      <td>1164</td>\n",
              "    </tr>\n",
              "    <tr>\n",
              "      <th>Hentai</th>\n",
              "      <td>1099</td>\n",
              "    </tr>\n",
              "    <tr>\n",
              "      <th>Supernatural</th>\n",
              "      <td>993</td>\n",
              "    </tr>\n",
              "    <tr>\n",
              "      <th>Mecha</th>\n",
              "      <td>927</td>\n",
              "    </tr>\n",
              "    <tr>\n",
              "      <th>Music</th>\n",
              "      <td>832</td>\n",
              "    </tr>\n",
              "    <tr>\n",
              "      <th>Historical</th>\n",
              "      <td>787</td>\n",
              "    </tr>\n",
              "    <tr>\n",
              "      <th>Magic</th>\n",
              "      <td>742</td>\n",
              "    </tr>\n",
              "    <tr>\n",
              "      <th>Ecchi</th>\n",
              "      <td>627</td>\n",
              "    </tr>\n",
              "    <tr>\n",
              "      <th>Shoujo</th>\n",
              "      <td>587</td>\n",
              "    </tr>\n",
              "    <tr>\n",
              "      <th>Seinen</th>\n",
              "      <td>530</td>\n",
              "    </tr>\n",
              "    <tr>\n",
              "      <th>Sports</th>\n",
              "      <td>527</td>\n",
              "    </tr>\n",
              "    <tr>\n",
              "      <th>Mystery</th>\n",
              "      <td>482</td>\n",
              "    </tr>\n",
              "    <tr>\n",
              "      <th>Super Power</th>\n",
              "      <td>445</td>\n",
              "    </tr>\n",
              "    <tr>\n",
              "      <th>Military</th>\n",
              "      <td>415</td>\n",
              "    </tr>\n",
              "    <tr>\n",
              "      <th>Parody</th>\n",
              "      <td>397</td>\n",
              "    </tr>\n",
              "    <tr>\n",
              "      <th>Space</th>\n",
              "      <td>376</td>\n",
              "    </tr>\n",
              "    <tr>\n",
              "      <th>Horror</th>\n",
              "      <td>360</td>\n",
              "    </tr>\n",
              "    <tr>\n",
              "      <th>Harem</th>\n",
              "      <td>312</td>\n",
              "    </tr>\n",
              "    <tr>\n",
              "      <th>Demons</th>\n",
              "      <td>287</td>\n",
              "    </tr>\n",
              "    <tr>\n",
              "      <th>Martial Arts</th>\n",
              "      <td>258</td>\n",
              "    </tr>\n",
              "    <tr>\n",
              "      <th>Dementia</th>\n",
              "      <td>238</td>\n",
              "    </tr>\n",
              "    <tr>\n",
              "      <th>Psychological</th>\n",
              "      <td>226</td>\n",
              "    </tr>\n",
              "    <tr>\n",
              "      <th>Police</th>\n",
              "      <td>194</td>\n",
              "    </tr>\n",
              "    <tr>\n",
              "      <th>Game</th>\n",
              "      <td>170</td>\n",
              "    </tr>\n",
              "    <tr>\n",
              "      <th>Samurai</th>\n",
              "      <td>145</td>\n",
              "    </tr>\n",
              "    <tr>\n",
              "      <th>Vampire</th>\n",
              "      <td>100</td>\n",
              "    </tr>\n",
              "    <tr>\n",
              "      <th>Thriller</th>\n",
              "      <td>86</td>\n",
              "    </tr>\n",
              "    <tr>\n",
              "      <th>Cars</th>\n",
              "      <td>71</td>\n",
              "    </tr>\n",
              "    <tr>\n",
              "      <th>Shounen Ai</th>\n",
              "      <td>62</td>\n",
              "    </tr>\n",
              "    <tr>\n",
              "      <th>Shoujo Ai</th>\n",
              "      <td>54</td>\n",
              "    </tr>\n",
              "    <tr>\n",
              "      <th>Josei</th>\n",
              "      <td>52</td>\n",
              "    </tr>\n",
              "    <tr>\n",
              "      <th>Yuri</th>\n",
              "      <td>41</td>\n",
              "    </tr>\n",
              "    <tr>\n",
              "      <th>Yaoi</th>\n",
              "      <td>37</td>\n",
              "    </tr>\n",
              "  </tbody>\n",
              "</table>\n",
              "</div>\n",
              "      <button class=\"colab-df-convert\" onclick=\"convertToInteractive('df-be631522-7819-412e-a85a-8d9806ae0ac3')\"\n",
              "              title=\"Convert this dataframe to an interactive table.\"\n",
              "              style=\"display:none;\">\n",
              "        \n",
              "  <svg xmlns=\"http://www.w3.org/2000/svg\" height=\"24px\"viewBox=\"0 0 24 24\"\n",
              "       width=\"24px\">\n",
              "    <path d=\"M0 0h24v24H0V0z\" fill=\"none\"/>\n",
              "    <path d=\"M18.56 5.44l.94 2.06.94-2.06 2.06-.94-2.06-.94-.94-2.06-.94 2.06-2.06.94zm-11 1L8.5 8.5l.94-2.06 2.06-.94-2.06-.94L8.5 2.5l-.94 2.06-2.06.94zm10 10l.94 2.06.94-2.06 2.06-.94-2.06-.94-.94-2.06-.94 2.06-2.06.94z\"/><path d=\"M17.41 7.96l-1.37-1.37c-.4-.4-.92-.59-1.43-.59-.52 0-1.04.2-1.43.59L10.3 9.45l-7.72 7.72c-.78.78-.78 2.05 0 2.83L4 21.41c.39.39.9.59 1.41.59.51 0 1.02-.2 1.41-.59l7.78-7.78 2.81-2.81c.8-.78.8-2.07 0-2.86zM5.41 20L4 18.59l7.72-7.72 1.47 1.35L5.41 20z\"/>\n",
              "  </svg>\n",
              "      </button>\n",
              "      \n",
              "  <style>\n",
              "    .colab-df-container {\n",
              "      display:flex;\n",
              "      flex-wrap:wrap;\n",
              "      gap: 12px;\n",
              "    }\n",
              "\n",
              "    .colab-df-convert {\n",
              "      background-color: #E8F0FE;\n",
              "      border: none;\n",
              "      border-radius: 50%;\n",
              "      cursor: pointer;\n",
              "      display: none;\n",
              "      fill: #1967D2;\n",
              "      height: 32px;\n",
              "      padding: 0 0 0 0;\n",
              "      width: 32px;\n",
              "    }\n",
              "\n",
              "    .colab-df-convert:hover {\n",
              "      background-color: #E2EBFA;\n",
              "      box-shadow: 0px 1px 2px rgba(60, 64, 67, 0.3), 0px 1px 3px 1px rgba(60, 64, 67, 0.15);\n",
              "      fill: #174EA6;\n",
              "    }\n",
              "\n",
              "    [theme=dark] .colab-df-convert {\n",
              "      background-color: #3B4455;\n",
              "      fill: #D2E3FC;\n",
              "    }\n",
              "\n",
              "    [theme=dark] .colab-df-convert:hover {\n",
              "      background-color: #434B5C;\n",
              "      box-shadow: 0px 1px 3px 1px rgba(0, 0, 0, 0.15);\n",
              "      filter: drop-shadow(0px 1px 2px rgba(0, 0, 0, 0.3));\n",
              "      fill: #FFFFFF;\n",
              "    }\n",
              "  </style>\n",
              "\n",
              "      <script>\n",
              "        const buttonEl =\n",
              "          document.querySelector('#df-be631522-7819-412e-a85a-8d9806ae0ac3 button.colab-df-convert');\n",
              "        buttonEl.style.display =\n",
              "          google.colab.kernel.accessAllowed ? 'block' : 'none';\n",
              "\n",
              "        async function convertToInteractive(key) {\n",
              "          const element = document.querySelector('#df-be631522-7819-412e-a85a-8d9806ae0ac3');\n",
              "          const dataTable =\n",
              "            await google.colab.kernel.invokeFunction('convertToInteractive',\n",
              "                                                     [key], {});\n",
              "          if (!dataTable) return;\n",
              "\n",
              "          const docLinkHtml = 'Like what you see? Visit the ' +\n",
              "            '<a target=\"_blank\" href=https://colab.research.google.com/notebooks/data_table.ipynb>data table notebook</a>'\n",
              "            + ' to learn more about interactive tables.';\n",
              "          element.innerHTML = '';\n",
              "          dataTable['output_type'] = 'display_data';\n",
              "          await google.colab.output.renderOutput(dataTable, element);\n",
              "          const docLink = document.createElement('div');\n",
              "          docLink.innerHTML = docLinkHtml;\n",
              "          element.appendChild(docLink);\n",
              "        }\n",
              "      </script>\n",
              "    </div>\n",
              "  </div>\n",
              "  "
            ]
          },
          "metadata": {},
          "execution_count": 18
        }
      ]
    },
    {
      "cell_type": "markdown",
      "source": [
        "#### Explorasi Data Type\n",
        "\n",
        "Melakukan persebaran data type dengan menggunakan value_counts. Lalu, saya menggunakan plot bar untuk melihat persebaran tipe anime."
      ],
      "metadata": {
        "id": "fHD-1_DWFUqf"
      }
    },
    {
      "cell_type": "code",
      "source": [
        "anime_types_data = anime_df_analysis[type_field]\n",
        "anime_types_data"
      ],
      "metadata": {
        "id": "AvbKBI28FafT",
        "colab": {
          "base_uri": "https://localhost:8080/"
        },
        "outputId": "a92296b0-c078-4c87-9870-5cf01649de78"
      },
      "execution_count": 19,
      "outputs": [
        {
          "output_type": "execute_result",
          "data": {
            "text/plain": [
              "0        Movie\n",
              "1           TV\n",
              "2           TV\n",
              "3           TV\n",
              "4           TV\n",
              "         ...  \n",
              "12289      OVA\n",
              "12290      OVA\n",
              "12291      OVA\n",
              "12292      OVA\n",
              "12293    Movie\n",
              "Name: type, Length: 11830, dtype: object"
            ]
          },
          "metadata": {},
          "execution_count": 19
        }
      ]
    },
    {
      "cell_type": "code",
      "source": [
        "count_anime_types = anime_types_data.value_counts()"
      ],
      "metadata": {
        "id": "fJO2EQqIMP1Q"
      },
      "execution_count": 20,
      "outputs": []
    },
    {
      "cell_type": "code",
      "source": [
        "count_anime_types.plot(kind='bar', title = \"Anime Types\")"
      ],
      "metadata": {
        "id": "GndlxmCXMyzj",
        "colab": {
          "base_uri": "https://localhost:8080/",
          "height": 0
        },
        "outputId": "6eda393b-ad78-4121-bb8e-7fe7afb0cac2"
      },
      "execution_count": 21,
      "outputs": [
        {
          "output_type": "execute_result",
          "data": {
            "text/plain": [
              "<matplotlib.axes._subplots.AxesSubplot at 0x7f2489a04310>"
            ]
          },
          "metadata": {},
          "execution_count": 21
        },
        {
          "output_type": "display_data",
          "data": {
            "text/plain": [
              "<Figure size 432x288 with 1 Axes>"
            ],
            "image/png": "[encoded data removed]"
          },
          "metadata": {
            "needs_background": "light"
          }
        }
      ]
    },
    {
      "cell_type": "markdown",
      "source": [
        "#### Ekplorasi Data Episodes\n",
        "\n",
        "Melihat persebaran data episode dengan menggunakan plot histogram."
      ],
      "metadata": {
        "id": "EJ2J5mkFZZIL"
      }
    },
    {
      "cell_type": "code",
      "source": [
        "anime_df[episodes_field].hist(bins=50)"
      ],
      "metadata": {
        "colab": {
          "base_uri": "https://localhost:8080/",
          "height": 0
        },
        "id": "csS1u4GMZea8",
        "outputId": "d5dc420d-7e4e-4040-ca42-b5978002322b"
      },
      "execution_count": 22,
      "outputs": [
        {
          "output_type": "execute_result",
          "data": {
            "text/plain": [
              "<matplotlib.axes._subplots.AxesSubplot at 0x7f24894a1a90>"
            ]
          },
          "metadata": {},
          "execution_count": 22
        },
        {
          "output_type": "display_data",
          "data": {
            "text/plain": [
              "<Figure size 432x288 with 1 Axes>"
            ],
            "image/png": "[encoded data removed]"
          },
          "metadata": {
            "needs_background": "light"
          }
        }
      ]
    },
    {
      "cell_type": "markdown",
      "source": [
        "#### Eksplorasi Data Rating"
      ],
      "metadata": {
        "id": "BlHpH2_DnkNz"
      }
    },
    {
      "cell_type": "markdown",
      "source": [
        "Visualisasi Data Rating"
      ],
      "metadata": {
        "id": "JjXsSmCNlCD4"
      }
    },
    {
      "cell_type": "code",
      "source": [
        "anime_df[rating_field].hist(bins=200)"
      ],
      "metadata": {
        "id": "73hE83L0n3Fg",
        "colab": {
          "base_uri": "https://localhost:8080/",
          "height": 0
        },
        "outputId": "15ee088b-dcc5-41ef-efe5-4e3a40ba1d6d"
      },
      "execution_count": 23,
      "outputs": [
        {
          "output_type": "execute_result",
          "data": {
            "text/plain": [
              "<matplotlib.axes._subplots.AxesSubplot at 0x7f2489222a90>"
            ]
          },
          "metadata": {},
          "execution_count": 23
        },
        {
          "output_type": "display_data",
          "data": {
            "text/plain": [
              "<Figure size 432x288 with 1 Axes>"
            ],
            "image/png": "[encoded data removed]"
          },
          "metadata": {
            "needs_background": "light"
          }
        }
      ]
    },
    {
      "cell_type": "markdown",
      "source": [
        "### Exploratory Data Analysis Rating"
      ],
      "metadata": {
        "id": "PsHCqiWs9DKi"
      }
    },
    {
      "cell_type": "markdown",
      "source": [
        "#### Variable Analysis"
      ],
      "metadata": {
        "id": "ytB12O7tCj1y"
      }
    },
    {
      "cell_type": "markdown",
      "source": [
        "Melihat jumlah kolom yang non-null dan data type "
      ],
      "metadata": {
        "id": "LGdF5pk52sSR"
      }
    },
    {
      "cell_type": "code",
      "source": [
        "anime_rating_analysis_df = anime_rating_df\n",
        "anime_rating_analysis_df.info()"
      ],
      "metadata": {
        "colab": {
          "base_uri": "https://localhost:8080/"
        },
        "id": "AfGUY4Tz4etX",
        "outputId": "65fe6efa-d513-4fe1-f1cc-8d6bdecc2fae"
      },
      "execution_count": 24,
      "outputs": [
        {
          "output_type": "stream",
          "name": "stdout",
          "text": [
            "<class 'pandas.core.frame.DataFrame'>\n",
            "RangeIndex: 7813737 entries, 0 to 7813736\n",
            "Data columns (total 3 columns):\n",
            " #   Column    Dtype\n",
            "---  ------    -----\n",
            " 0   user_id   int64\n",
            " 1   anime_id  int64\n",
            " 2   rating    int64\n",
            "dtypes: int64(3)\n",
            "memory usage: 178.8 MB\n"
          ]
        }
      ]
    },
    {
      "cell_type": "markdown",
      "source": [
        "Menjelaskan beberapa informasi mengenai statistika pada data rating."
      ],
      "metadata": {
        "id": "itJ1HaOD4fBl"
      }
    },
    {
      "cell_type": "code",
      "source": [
        "anime_rating_analysis_df.describe()"
      ],
      "metadata": {
        "colab": {
          "base_uri": "https://localhost:8080/",
          "height": 0
        },
        "id": "j_90SBAI4feB",
        "outputId": "8f632780-35af-4de3-e5ef-865a71a162a2"
      },
      "execution_count": 25,
      "outputs": [
        {
          "output_type": "execute_result",
          "data": {
            "text/plain": [
              "            user_id      anime_id        rating\n",
              "count  7.813737e+06  7.813737e+06  7.813737e+06\n",
              "mean   3.672796e+04  8.909072e+03  6.144030e+00\n",
              "std    2.099795e+04  8.883950e+03  3.727800e+00\n",
              "min    1.000000e+00  1.000000e+00 -1.000000e+00\n",
              "25%    1.897400e+04  1.240000e+03  6.000000e+00\n",
              "50%    3.679100e+04  6.213000e+03  7.000000e+00\n",
              "75%    5.475700e+04  1.409300e+04  9.000000e+00\n",
              "max    7.351600e+04  3.451900e+04  1.000000e+01"
            ],
            "text/html": [
              "\n",
              "  <div id=\"df-33cc6fb4-dc44-4005-a39e-4b0bd2319dd8\">\n",
              "    <div class=\"colab-df-container\">\n",
              "      <div>\n",
              "<style scoped>\n",
              "    .dataframe tbody tr th:only-of-type {\n",
              "        vertical-align: middle;\n",
              "    }\n",
              "\n",
              "    .dataframe tbody tr th {\n",
              "        vertical-align: top;\n",
              "    }\n",
              "\n",
              "    .dataframe thead th {\n",
              "        text-align: right;\n",
              "    }\n",
              "</style>\n",
              "<table border=\"1\" class=\"dataframe\">\n",
              "  <thead>\n",
              "    <tr style=\"text-align: right;\">\n",
              "      <th></th>\n",
              "      <th>user_id</th>\n",
              "      <th>anime_id</th>\n",
              "      <th>rating</th>\n",
              "    </tr>\n",
              "  </thead>\n",
              "  <tbody>\n",
              "    <tr>\n",
              "      <th>count</th>\n",
              "      <td>7.813737e+06</td>\n",
              "      <td>7.813737e+06</td>\n",
              "      <td>7.813737e+06</td>\n",
              "    </tr>\n",
              "    <tr>\n",
              "      <th>mean</th>\n",
              "      <td>3.672796e+04</td>\n",
              "      <td>8.909072e+03</td>\n",
              "      <td>6.144030e+00</td>\n",
              "    </tr>\n",
              "    <tr>\n",
              "      <th>std</th>\n",
              "      <td>2.099795e+04</td>\n",
              "      <td>8.883950e+03</td>\n",
              "      <td>3.727800e+00</td>\n",
              "    </tr>\n",
              "    <tr>\n",
              "      <th>min</th>\n",
              "      <td>1.000000e+00</td>\n",
              "      <td>1.000000e+00</td>\n",
              "      <td>-1.000000e+00</td>\n",
              "    </tr>\n",
              "    <tr>\n",
              "      <th>25%</th>\n",
              "      <td>1.897400e+04</td>\n",
              "      <td>1.240000e+03</td>\n",
              "      <td>6.000000e+00</td>\n",
              "    </tr>\n",
              "    <tr>\n",
              "      <th>50%</th>\n",
              "      <td>3.679100e+04</td>\n",
              "      <td>6.213000e+03</td>\n",
              "      <td>7.000000e+00</td>\n",
              "    </tr>\n",
              "    <tr>\n",
              "      <th>75%</th>\n",
              "      <td>5.475700e+04</td>\n",
              "      <td>1.409300e+04</td>\n",
              "      <td>9.000000e+00</td>\n",
              "    </tr>\n",
              "    <tr>\n",
              "      <th>max</th>\n",
              "      <td>7.351600e+04</td>\n",
              "      <td>3.451900e+04</td>\n",
              "      <td>1.000000e+01</td>\n",
              "    </tr>\n",
              "  </tbody>\n",
              "</table>\n",
              "</div>\n",
              "      <button class=\"colab-df-convert\" onclick=\"convertToInteractive('df-33cc6fb4-dc44-4005-a39e-4b0bd2319dd8')\"\n",
              "              title=\"Convert this dataframe to an interactive table.\"\n",
              "              style=\"display:none;\">\n",
              "        \n",
              "  <svg xmlns=\"http://www.w3.org/2000/svg\" height=\"24px\"viewBox=\"0 0 24 24\"\n",
              "       width=\"24px\">\n",
              "    <path d=\"M0 0h24v24H0V0z\" fill=\"none\"/>\n",
              "    <path d=\"M18.56 5.44l.94 2.06.94-2.06 2.06-.94-2.06-.94-.94-2.06-.94 2.06-2.06.94zm-11 1L8.5 8.5l.94-2.06 2.06-.94-2.06-.94L8.5 2.5l-.94 2.06-2.06.94zm10 10l.94 2.06.94-2.06 2.06-.94-2.06-.94-.94-2.06-.94 2.06-2.06.94z\"/><path d=\"M17.41 7.96l-1.37-1.37c-.4-.4-.92-.59-1.43-.59-.52 0-1.04.2-1.43.59L10.3 9.45l-7.72 7.72c-.78.78-.78 2.05 0 2.83L4 21.41c.39.39.9.59 1.41.59.51 0 1.02-.2 1.41-.59l7.78-7.78 2.81-2.81c.8-.78.8-2.07 0-2.86zM5.41 20L4 18.59l7.72-7.72 1.47 1.35L5.41 20z\"/>\n",
              "  </svg>\n",
              "      </button>\n",
              "      \n",
              "  <style>\n",
              "    .colab-df-container {\n",
              "      display:flex;\n",
              "      flex-wrap:wrap;\n",
              "      gap: 12px;\n",
              "    }\n",
              "\n",
              "    .colab-df-convert {\n",
              "      background-color: #E8F0FE;\n",
              "      border: none;\n",
              "      border-radius: 50%;\n",
              "      cursor: pointer;\n",
              "      display: none;\n",
              "      fill: #1967D2;\n",
              "      height: 32px;\n",
              "      padding: 0 0 0 0;\n",
              "      width: 32px;\n",
              "    }\n",
              "\n",
              "    .colab-df-convert:hover {\n",
              "      background-color: #E2EBFA;\n",
              "      box-shadow: 0px 1px 2px rgba(60, 64, 67, 0.3), 0px 1px 3px 1px rgba(60, 64, 67, 0.15);\n",
              "      fill: #174EA6;\n",
              "    }\n",
              "\n",
              "    [theme=dark] .colab-df-convert {\n",
              "      background-color: #3B4455;\n",
              "      fill: #D2E3FC;\n",
              "    }\n",
              "\n",
              "    [theme=dark] .colab-df-convert:hover {\n",
              "      background-color: #434B5C;\n",
              "      box-shadow: 0px 1px 3px 1px rgba(0, 0, 0, 0.15);\n",
              "      filter: drop-shadow(0px 1px 2px rgba(0, 0, 0, 0.3));\n",
              "      fill: #FFFFFF;\n",
              "    }\n",
              "  </style>\n",
              "\n",
              "      <script>\n",
              "        const buttonEl =\n",
              "          document.querySelector('#df-33cc6fb4-dc44-4005-a39e-4b0bd2319dd8 button.colab-df-convert');\n",
              "        buttonEl.style.display =\n",
              "          google.colab.kernel.accessAllowed ? 'block' : 'none';\n",
              "\n",
              "        async function convertToInteractive(key) {\n",
              "          const element = document.querySelector('#df-33cc6fb4-dc44-4005-a39e-4b0bd2319dd8');\n",
              "          const dataTable =\n",
              "            await google.colab.kernel.invokeFunction('convertToInteractive',\n",
              "                                                     [key], {});\n",
              "          if (!dataTable) return;\n",
              "\n",
              "          const docLinkHtml = 'Like what you see? Visit the ' +\n",
              "            '<a target=\"_blank\" href=https://colab.research.google.com/notebooks/data_table.ipynb>data table notebook</a>'\n",
              "            + ' to learn more about interactive tables.';\n",
              "          element.innerHTML = '';\n",
              "          dataTable['output_type'] = 'display_data';\n",
              "          await google.colab.output.renderOutput(dataTable, element);\n",
              "          const docLink = document.createElement('div');\n",
              "          docLink.innerHTML = docLinkHtml;\n",
              "          element.appendChild(docLink);\n",
              "        }\n",
              "      </script>\n",
              "    </div>\n",
              "  </div>\n",
              "  "
            ]
          },
          "metadata": {},
          "execution_count": 25
        }
      ]
    },
    {
      "cell_type": "markdown",
      "source": [
        "##### Eksplorasi Data Rating\n",
        "\n",
        "Melihat persebaran data anime rating dengan menggunakan plot histogram.\n",
        "\n"
      ],
      "metadata": {
        "id": "L-A7_OyVs2nr"
      }
    },
    {
      "cell_type": "code",
      "source": [
        "anime_rating_analysis_df[rating_field].hist()"
      ],
      "metadata": {
        "colab": {
          "base_uri": "https://localhost:8080/",
          "height": 0
        },
        "id": "kQTQOpA6s4TA",
        "outputId": "85d6ef17-c7ac-47cf-c802-4000a7dfa7c4"
      },
      "execution_count": 26,
      "outputs": [
        {
          "output_type": "execute_result",
          "data": {
            "text/plain": [
              "<matplotlib.axes._subplots.AxesSubplot at 0x7f2488e8fe90>"
            ]
          },
          "metadata": {},
          "execution_count": 26
        },
        {
          "output_type": "display_data",
          "data": {
            "text/plain": [
              "<Figure size 432x288 with 1 Axes>"
            ],
            "image/png": "[encoded data removed]"
          },
          "metadata": {
            "needs_background": "light"
          }
        }
      ]
    },
    {
      "cell_type": "markdown",
      "source": [
        "Menghapus rating yang memiliki rating -1. -1 artinya adalah user belum melakukan rating sama sekali."
      ],
      "metadata": {
        "id": "YGfxCVEIxC_Z"
      }
    },
    {
      "cell_type": "code",
      "source": [
        "anomaly_ratings_df = anime_rating_analysis_df[anime_rating_analysis_df[rating_field] == -1]\n",
        "\n",
        "print(f\"Total number of -1: {len(anomaly_ratings_df)}\")\n",
        "\n",
        "anime_rating_analysis_df.drop(\n",
        "    anomaly_ratings_df.index, \n",
        "    inplace=True)\n",
        "\n",
        "print(len(anime_rating_analysis_df))"
      ],
      "metadata": {
        "colab": {
          "base_uri": "https://localhost:8080/"
        },
        "id": "jtqPOccsxDaT",
        "outputId": "4ebf806e-f51b-43f6-dddf-2d6cbd0dffc3"
      },
      "execution_count": 27,
      "outputs": [
        {
          "output_type": "stream",
          "name": "stdout",
          "text": [
            "Total number of -1: 1476496\n",
            "6337241\n"
          ]
        }
      ]
    },
    {
      "cell_type": "markdown",
      "source": [
        "### Melihat jumlah user, place, dan rating yang tidak duplikat pada dataset rating"
      ],
      "metadata": {
        "id": "pWkEGh7TWD_8"
      }
    },
    {
      "cell_type": "code",
      "source": [
        "print(\"Unique Data:\")\n",
        "\n",
        "print(f\"Total user_id: {len(anime_rating_analysis_df[user_id_field].unique())}\")\n",
        "print(f\"Total anime_id: {len(anime_rating_analysis_df[anime_id_field].unique())}\")\n",
        "print(f\"Total rating: {len(anime_rating_analysis_df[rating_field].unique())}\")"
      ],
      "metadata": {
        "colab": {
          "base_uri": "https://localhost:8080/"
        },
        "id": "Aeuu417ZWEWt",
        "outputId": "705e6c76-e948-486c-8c7e-db67eb67ea28"
      },
      "execution_count": 28,
      "outputs": [
        {
          "output_type": "stream",
          "name": "stdout",
          "text": [
            "Unique Data:\n",
            "Total user_id: 69600\n",
            "Total anime_id: 9927\n",
            "Total rating: 10\n"
          ]
        }
      ]
    },
    {
      "cell_type": "markdown",
      "source": [
        "## Data Preparation dan Modelling"
      ],
      "metadata": {
        "id": "-cmnfErdlfnk"
      }
    },
    {
      "cell_type": "code",
      "source": [
        "anime_rating_cbf_df = anime_rating_analysis_df\n",
        "anime_cbf_df = anime_df_analysis"
      ],
      "metadata": {
        "id": "x7G5Nc2oqJMB"
      },
      "execution_count": 45,
      "outputs": []
    },
    {
      "cell_type": "markdown",
      "source": [
        "### Content based filtering Cosine Similarity dan TF IDF Vectorizer\n",
        "\n",
        "* **TF IDF Vectorizer:**\n",
        "\n",
        "  TD-IDF (Term Frequency - Inverse Document Frequency) mengukur seberapa pentingnya suatu kata terhadap kata-kata lain dalam dokumen. Ia dibagi menjadi 2 komponen, yaitu TF dan IDF.\n",
        "\n",
        "  * TF mengukur seberapa sering kata muncul dalam teks tertentu. Teks yang berbeda dalam dokumen mungkin panjangnya berbeda, karena ada faktor dari panjang dokumen. Teks yang berbeda memiliki panjang yang berbeda. Maka dari itu, harus dinormalisasi dengan membagi jumlah kemunculan terhadap panjang dokumen.\n",
        "\n",
        "  * IDF mengukur pentingnya suatu istilah di dalam korpus. Ia memastikan agar kepentingan suatu kata di dalam kalimat itu sama. Misalkan stop words seperti is, am, are, dsb sering muncul di suatu kalimat, namun mereka tidak penting kehadirannya. Maka dari itu, semua kata dinormalisasikan agar setiap kata bisa mendapatkan nilai kepentingan yang fair.\n",
        "\n",
        "  Dari kesimpulan di atas, kita bisa mendapatkan rumus sebagai berikut.\n",
        "\n",
        "  ![Rumus TF-IDF](https://cdn-media-1.freecodecamp.org/images/1*nSqHXwOIJ2fa_EFLTh5KYw.png)\n",
        "\n",
        "  Dalam fungsi ini, kita bisa menggunakan TfIdfVectorizer. TFIdfVectorizer adalah salah satu fungsi yang disediakan dari sklearn.\n",
        "\n",
        "* **Cosine Similarity:**\n",
        "\n",
        "  Cosine similarity adalah salah satu metrik untuk mengukur kesamaan. Cosine similarity mengukur kesamaan dua vektor dengan menentukan apakah kedua vektornya sudah mengarah kepada arah yang sama. Semakin kecil sudut cosinus, semakin besar nilai cosine similarity.\n",
        "\n",
        "  Metrik ini sering digunakan untuk analisis teks. Dalam hal ini, dari hasil TF IDF, kita akan mengukur kesamaan antar satu item dengan fitur yang ada pada item tersebut, sehingga kita bisa merekomendasikan anime yang cocok dengan genre yang diberikan.\n",
        "\n",
        "  Rumusnya adalah sebagai berikut.\n",
        "\n",
        "    ![Rumus Cosine Similarity](https://neo4j.com/docs/graph-data-science/current/_images/cosine-similarity.png)\n"
      ],
      "metadata": {
        "id": "e3hZtgOiadoK"
      }
    },
    {
      "cell_type": "code",
      "source": [
        "anime_genre_cbf_df = anime_cbf_df[genre_field].to_list()\n",
        "anime_genre_cbf_df[:5]"
      ],
      "metadata": {
        "colab": {
          "base_uri": "https://localhost:8080/"
        },
        "id": "9VFsEIWiX8_q",
        "outputId": "43e09d7c-104d-49c4-98a5-3337e8dcba65"
      },
      "execution_count": 46,
      "outputs": [
        {
          "output_type": "execute_result",
          "data": {
            "text/plain": [
              "['Drama, Romance, School, Supernatural',\n",
              " 'Action, Adventure, Drama, Fantasy, Magic, Military, Shounen',\n",
              " 'Action, Comedy, Historical, Parody, Samurai, Sci-Fi, Shounen',\n",
              " 'Sci-Fi, Thriller',\n",
              " 'Action, Comedy, Historical, Parody, Samurai, Sci-Fi, Shounen']"
            ]
          },
          "metadata": {},
          "execution_count": 46
        }
      ]
    },
    {
      "cell_type": "markdown",
      "source": [
        "#### Data Preparation dan Training Model"
      ],
      "metadata": {
        "id": "r6YOROtykpZx"
      }
    },
    {
      "cell_type": "markdown",
      "source": [
        "**Data Preparation:**\n",
        "\n",
        "Melakukan splitting value ketika ada tanda koma (,), agar kita bisa merekomendasikan anime yang memiliki genre tambahan selain genre yang ditentukan.\n",
        "\n"
      ],
      "metadata": {
        "id": "CRAY5NpCjPas"
      }
    },
    {
      "cell_type": "code",
      "source": [
        "from sklearn.feature_extraction.text import TfidfVectorizer\n",
        "\n",
        "def split_token(value):\n",
        "  return value.split(', ')\n",
        "\n",
        "tf_idf_vectorizer = TfidfVectorizer(tokenizer = split_token)\n",
        "\n",
        "tf_idf_vectorizer.fit(anime_genre_cbf_df)\n",
        "\n",
        "tf_idf_vectorizer.get_feature_names()"
      ],
      "metadata": {
        "colab": {
          "base_uri": "https://localhost:8080/"
        },
        "id": "tdCYKeesaoCH",
        "outputId": "0519d26c-1e0c-4bc3-d327-e78f2cf914a8"
      },
      "execution_count": 47,
      "outputs": [
        {
          "output_type": "stream",
          "name": "stderr",
          "text": [
            "/usr/local/lib/python3.7/dist-packages/sklearn/feature_extraction/text.py:517: UserWarning: The parameter 'token_pattern' will not be used since 'tokenizer' is not None'\n",
            "  \"The parameter 'token_pattern' will not be used\"\n",
            "/usr/local/lib/python3.7/dist-packages/sklearn/utils/deprecation.py:87: FutureWarning: Function get_feature_names is deprecated; get_feature_names is deprecated in 1.0 and will be removed in 1.2. Please use get_feature_names_out instead.\n",
            "  warnings.warn(msg, category=FutureWarning)\n"
          ]
        },
        {
          "output_type": "execute_result",
          "data": {
            "text/plain": [
              "['action',\n",
              " 'adventure',\n",
              " 'cars',\n",
              " 'comedy',\n",
              " 'dementia',\n",
              " 'demons',\n",
              " 'drama',\n",
              " 'ecchi',\n",
              " 'fantasy',\n",
              " 'game',\n",
              " 'harem',\n",
              " 'hentai',\n",
              " 'historical',\n",
              " 'horror',\n",
              " 'josei',\n",
              " 'kids',\n",
              " 'magic',\n",
              " 'martial arts',\n",
              " 'mecha',\n",
              " 'military',\n",
              " 'music',\n",
              " 'mystery',\n",
              " 'parody',\n",
              " 'police',\n",
              " 'psychological',\n",
              " 'romance',\n",
              " 'samurai',\n",
              " 'school',\n",
              " 'sci-fi',\n",
              " 'seinen',\n",
              " 'shoujo',\n",
              " 'shoujo ai',\n",
              " 'shounen',\n",
              " 'shounen ai',\n",
              " 'slice of life',\n",
              " 'space',\n",
              " 'sports',\n",
              " 'super power',\n",
              " 'supernatural',\n",
              " 'thriller',\n",
              " 'vampire',\n",
              " 'yaoi',\n",
              " 'yuri']"
            ]
          },
          "metadata": {},
          "execution_count": 47
        }
      ]
    },
    {
      "cell_type": "markdown",
      "source": [
        "Mengecek ukuran bentuk matriks pada data anime_id dan genre."
      ],
      "metadata": {
        "id": "QrWci5s2oeDQ"
      }
    },
    {
      "cell_type": "code",
      "source": [
        "tf_idf_matrix = tf_idf_vectorizer.fit_transform(anime_genre_cbf_df)\n",
        "\n",
        "tf_idf_matrix.shape"
      ],
      "metadata": {
        "colab": {
          "base_uri": "https://localhost:8080/"
        },
        "id": "HiqFWFIJodlL",
        "outputId": "9621ee25-e1b2-4183-e023-c1fadc90fe5a"
      },
      "execution_count": 48,
      "outputs": [
        {
          "output_type": "execute_result",
          "data": {
            "text/plain": [
              "(11830, 43)"
            ]
          },
          "metadata": {},
          "execution_count": 48
        }
      ]
    },
    {
      "cell_type": "markdown",
      "source": [
        "Melakukan testing dengan data pada indeks pertama"
      ],
      "metadata": {
        "id": "B3K2gX9Kou5g"
      }
    },
    {
      "cell_type": "code",
      "source": [
        "tf_idf_matrix.todense()[0]"
      ],
      "metadata": {
        "colab": {
          "base_uri": "https://localhost:8080/"
        },
        "id": "Nzq7V0soovPn",
        "outputId": "c7ab6fab-0138-4431-a58c-e6ffe8c4a265"
      },
      "execution_count": 49,
      "outputs": [
        {
          "output_type": "execute_result",
          "data": {
            "text/plain": [
              "matrix([[0.        , 0.        , 0.        , 0.        , 0.        ,\n",
              "         0.        , 0.43832909, 0.        , 0.        , 0.        ,\n",
              "         0.        , 0.        , 0.        , 0.        , 0.        ,\n",
              "         0.        , 0.        , 0.        , 0.        , 0.        ,\n",
              "         0.        , 0.        , 0.        , 0.        , 0.        ,\n",
              "         0.48811086, 0.        , 0.52106389, 0.        , 0.        ,\n",
              "         0.        , 0.        , 0.        , 0.        , 0.        ,\n",
              "         0.        , 0.        , 0.        , 0.54599252, 0.        ,\n",
              "         0.        , 0.        , 0.        ]])"
            ]
          },
          "metadata": {},
          "execution_count": 49
        }
      ]
    },
    {
      "cell_type": "markdown",
      "source": [
        "Mengukur kesamaan antar elemen yang satu dengan elemen yang lain, dengan menggunakan cosine similarity"
      ],
      "metadata": {
        "id": "lAWXzXtrtWy3"
      }
    },
    {
      "cell_type": "code",
      "source": [
        "from sklearn.metrics.pairwise import cosine_similarity\n",
        "\n",
        "cosine_similarity_value = cosine_similarity(tf_idf_matrix)\n",
        "cosine_similarity_value"
      ],
      "metadata": {
        "colab": {
          "base_uri": "https://localhost:8080/"
        },
        "id": "xhElfxXxtXFU",
        "outputId": "8d6c3351-835e-4f8c-aea4-466d8747f887"
      },
      "execution_count": 50,
      "outputs": [
        {
          "output_type": "execute_result",
          "data": {
            "text/plain": [
              "array([[1.        , 0.1464293 , 0.        , ..., 0.        , 0.        ,\n",
              "        0.        ],\n",
              "       [0.1464293 , 1.        , 0.18834688, ..., 0.        , 0.        ,\n",
              "        0.        ],\n",
              "       [0.        , 0.18834688, 1.        , ..., 0.        , 0.        ,\n",
              "        0.        ],\n",
              "       ...,\n",
              "       [0.        , 0.        , 0.        , ..., 1.        , 1.        ,\n",
              "        1.        ],\n",
              "       [0.        , 0.        , 0.        , ..., 1.        , 1.        ,\n",
              "        1.        ],\n",
              "       [0.        , 0.        , 0.        , ..., 1.        , 1.        ,\n",
              "        1.        ]])"
            ]
          },
          "metadata": {},
          "execution_count": 50
        }
      ]
    },
    {
      "cell_type": "code",
      "source": [
        "cosine_similarity_df = pd.DataFrame(\n",
        "    cosine_similarity_value,\n",
        "    index = anime_cbf_df[name_field],\n",
        "    columns = anime_cbf_df[name_field]\n",
        ")\n",
        "\n",
        "cosine_similarity_df"
      ],
      "metadata": {
        "colab": {
          "base_uri": "https://localhost:8080/",
          "height": 848
        },
        "id": "2fVzmhfzuh7n",
        "outputId": "8fbd27a6-1063-4e2f-ac2b-bc7e7a714686"
      },
      "execution_count": 51,
      "outputs": [
        {
          "output_type": "execute_result",
          "data": {
            "text/plain": [
              "name                                                Kimi no Na wa.  \\\n",
              "name                                                                 \n",
              "Kimi no Na wa.                                            1.000000   \n",
              "Fullmetal Alchemist: Brotherhood                          0.146429   \n",
              "Gintama°                                                  0.000000   \n",
              "Steins;Gate                                               0.000000   \n",
              "Gintama&#039;                                             0.000000   \n",
              "...                                                            ...   \n",
              "Toushindai My Lover: Minami tai Mecha-Minami              0.000000   \n",
              "Under World                                               0.000000   \n",
              "Violence Gekiga David no Hoshi                            0.000000   \n",
              "Violence Gekiga Shin David no Hoshi: Inma Densetsu        0.000000   \n",
              "Yasuji no Pornorama: Yacchimae!!                          0.000000   \n",
              "\n",
              "name                                                Fullmetal Alchemist: Brotherhood  \\\n",
              "name                                                                                   \n",
              "Kimi no Na wa.                                                              0.146429   \n",
              "Fullmetal Alchemist: Brotherhood                                            1.000000   \n",
              "Gintama°                                                                    0.188347   \n",
              "Steins;Gate                                                                 0.000000   \n",
              "Gintama&#039;                                                               0.188347   \n",
              "...                                                                              ...   \n",
              "Toushindai My Lover: Minami tai Mecha-Minami                                0.000000   \n",
              "Under World                                                                 0.000000   \n",
              "Violence Gekiga David no Hoshi                                              0.000000   \n",
              "Violence Gekiga Shin David no Hoshi: Inma Densetsu                          0.000000   \n",
              "Yasuji no Pornorama: Yacchimae!!                                            0.000000   \n",
              "\n",
              "name                                                Gintama°  Steins;Gate  \\\n",
              "name                                                                        \n",
              "Kimi no Na wa.                                      0.000000     0.000000   \n",
              "Fullmetal Alchemist: Brotherhood                    0.188347     0.000000   \n",
              "Gintama°                                            1.000000     0.124379   \n",
              "Steins;Gate                                         0.124379     1.000000   \n",
              "Gintama&#039;                                       1.000000     0.124379   \n",
              "...                                                      ...          ...   \n",
              "Toushindai My Lover: Minami tai Mecha-Minami        0.000000     0.000000   \n",
              "Under World                                         0.000000     0.000000   \n",
              "Violence Gekiga David no Hoshi                      0.000000     0.000000   \n",
              "Violence Gekiga Shin David no Hoshi: Inma Densetsu  0.000000     0.000000   \n",
              "Yasuji no Pornorama: Yacchimae!!                    0.000000     0.000000   \n",
              "\n",
              "name                                                Gintama&#039;  \\\n",
              "name                                                                \n",
              "Kimi no Na wa.                                           0.000000   \n",
              "Fullmetal Alchemist: Brotherhood                         0.188347   \n",
              "Gintama°                                                 1.000000   \n",
              "Steins;Gate                                              0.124379   \n",
              "Gintama&#039;                                            1.000000   \n",
              "...                                                           ...   \n",
              "Toushindai My Lover: Minami tai Mecha-Minami             0.000000   \n",
              "Under World                                              0.000000   \n",
              "Violence Gekiga David no Hoshi                           0.000000   \n",
              "Violence Gekiga Shin David no Hoshi: Inma Densetsu       0.000000   \n",
              "Yasuji no Pornorama: Yacchimae!!                         0.000000   \n",
              "\n",
              "name                                                Haikyuu!!: Karasuno Koukou VS Shiratorizawa Gakuen Koukou  \\\n",
              "name                                                                                                            \n",
              "Kimi no Na wa.                                                                               0.424715           \n",
              "Fullmetal Alchemist: Brotherhood                                                             0.284837           \n",
              "Gintama°                                                                                     0.193237           \n",
              "Steins;Gate                                                                                  0.000000           \n",
              "Gintama&#039;                                                                                0.193237           \n",
              "...                                                                                               ...           \n",
              "Toushindai My Lover: Minami tai Mecha-Minami                                                 0.000000           \n",
              "Under World                                                                                  0.000000           \n",
              "Violence Gekiga David no Hoshi                                                               0.000000           \n",
              "Violence Gekiga Shin David no Hoshi: Inma Densetsu                                           0.000000           \n",
              "Yasuji no Pornorama: Yacchimae!!                                                             0.000000           \n",
              "\n",
              "name                                                Hunter x Hunter (2011)  \\\n",
              "name                                                                         \n",
              "Kimi no Na wa.                                                    0.000000   \n",
              "Fullmetal Alchemist: Brotherhood                                  0.411651   \n",
              "Gintama°                                                          0.248584   \n",
              "Steins;Gate                                                       0.000000   \n",
              "Gintama&#039;                                                     0.248584   \n",
              "...                                                                    ...   \n",
              "Toushindai My Lover: Minami tai Mecha-Minami                      0.000000   \n",
              "Under World                                                       0.000000   \n",
              "Violence Gekiga David no Hoshi                                    0.000000   \n",
              "Violence Gekiga Shin David no Hoshi: Inma Densetsu                0.000000   \n",
              "Yasuji no Pornorama: Yacchimae!!                                  0.000000   \n",
              "\n",
              "name                                                Ginga Eiyuu Densetsu  \\\n",
              "name                                                                       \n",
              "Kimi no Na wa.                                                  0.166339   \n",
              "Fullmetal Alchemist: Brotherhood                                0.434373   \n",
              "Gintama°                                                        0.110365   \n",
              "Steins;Gate                                                     0.159058   \n",
              "Gintama&#039;                                                   0.110365   \n",
              "...                                                                  ...   \n",
              "Toushindai My Lover: Minami tai Mecha-Minami                    0.000000   \n",
              "Under World                                                     0.000000   \n",
              "Violence Gekiga David no Hoshi                                  0.000000   \n",
              "Violence Gekiga Shin David no Hoshi: Inma Densetsu              0.000000   \n",
              "Yasuji no Pornorama: Yacchimae!!                                0.000000   \n",
              "\n",
              "name                                                Gintama Movie: Kanketsu-hen - Yorozuya yo Eien Nare  \\\n",
              "name                                                                                                      \n",
              "Kimi no Na wa.                                                                               0.000000     \n",
              "Fullmetal Alchemist: Brotherhood                                                             0.188347     \n",
              "Gintama°                                                                                     1.000000     \n",
              "Steins;Gate                                                                                  0.124379     \n",
              "Gintama&#039;                                                                                1.000000     \n",
              "...                                                                                               ...     \n",
              "Toushindai My Lover: Minami tai Mecha-Minami                                                 0.000000     \n",
              "Under World                                                                                  0.000000     \n",
              "Violence Gekiga David no Hoshi                                                               0.000000     \n",
              "Violence Gekiga Shin David no Hoshi: Inma Densetsu                                           0.000000     \n",
              "Yasuji no Pornorama: Yacchimae!!                                                             0.000000     \n",
              "\n",
              "name                                                Gintama&#039;: Enchousen  \\\n",
              "name                                                                           \n",
              "Kimi no Na wa.                                                      0.000000   \n",
              "Fullmetal Alchemist: Brotherhood                                    0.188347   \n",
              "Gintama°                                                            1.000000   \n",
              "Steins;Gate                                                         0.124379   \n",
              "Gintama&#039;                                                       1.000000   \n",
              "...                                                                      ...   \n",
              "Toushindai My Lover: Minami tai Mecha-Minami                        0.000000   \n",
              "Under World                                                         0.000000   \n",
              "Violence Gekiga David no Hoshi                                      0.000000   \n",
              "Violence Gekiga Shin David no Hoshi: Inma Densetsu                  0.000000   \n",
              "Yasuji no Pornorama: Yacchimae!!                                    0.000000   \n",
              "\n",
              "name                                                ...  Silent Chaser Kagami  \\\n",
              "name                                                ...                         \n",
              "Kimi no Na wa.                                      ...                   0.0   \n",
              "Fullmetal Alchemist: Brotherhood                    ...                   0.0   \n",
              "Gintama°                                            ...                   0.0   \n",
              "Steins;Gate                                         ...                   0.0   \n",
              "Gintama&#039;                                       ...                   0.0   \n",
              "...                                                 ...                   ...   \n",
              "Toushindai My Lover: Minami tai Mecha-Minami        ...                   1.0   \n",
              "Under World                                         ...                   1.0   \n",
              "Violence Gekiga David no Hoshi                      ...                   1.0   \n",
              "Violence Gekiga Shin David no Hoshi: Inma Densetsu  ...                   1.0   \n",
              "Yasuji no Pornorama: Yacchimae!!                    ...                   1.0   \n",
              "\n",
              "name                                                Super Erotic Anime  \\\n",
              "name                                                                     \n",
              "Kimi no Na wa.                                                     0.0   \n",
              "Fullmetal Alchemist: Brotherhood                                   0.0   \n",
              "Gintama°                                                           0.0   \n",
              "Steins;Gate                                                        0.0   \n",
              "Gintama&#039;                                                      0.0   \n",
              "...                                                                ...   \n",
              "Toushindai My Lover: Minami tai Mecha-Minami                       1.0   \n",
              "Under World                                                        1.0   \n",
              "Violence Gekiga David no Hoshi                                     1.0   \n",
              "Violence Gekiga Shin David no Hoshi: Inma Densetsu                 1.0   \n",
              "Yasuji no Pornorama: Yacchimae!!                                   1.0   \n",
              "\n",
              "name                                                Teleclub no Himitsu  \\\n",
              "name                                                                      \n",
              "Kimi no Na wa.                                                      0.0   \n",
              "Fullmetal Alchemist: Brotherhood                                    0.0   \n",
              "Gintama°                                                            0.0   \n",
              "Steins;Gate                                                         0.0   \n",
              "Gintama&#039;                                                       0.0   \n",
              "...                                                                 ...   \n",
              "Toushindai My Lover: Minami tai Mecha-Minami                        1.0   \n",
              "Under World                                                         1.0   \n",
              "Violence Gekiga David no Hoshi                                      1.0   \n",
              "Violence Gekiga Shin David no Hoshi: Inma Densetsu                  1.0   \n",
              "Yasuji no Pornorama: Yacchimae!!                                    1.0   \n",
              "\n",
              "name                                                Tenshi no Habataki Jun  \\\n",
              "name                                                                         \n",
              "Kimi no Na wa.                                                         0.0   \n",
              "Fullmetal Alchemist: Brotherhood                                       0.0   \n",
              "Gintama°                                                               0.0   \n",
              "Steins;Gate                                                            0.0   \n",
              "Gintama&#039;                                                          0.0   \n",
              "...                                                                    ...   \n",
              "Toushindai My Lover: Minami tai Mecha-Minami                           1.0   \n",
              "Under World                                                            1.0   \n",
              "Violence Gekiga David no Hoshi                                         1.0   \n",
              "Violence Gekiga Shin David no Hoshi: Inma Densetsu                     1.0   \n",
              "Yasuji no Pornorama: Yacchimae!!                                       1.0   \n",
              "\n",
              "name                                                The Satisfaction  \\\n",
              "name                                                                   \n",
              "Kimi no Na wa.                                                   0.0   \n",
              "Fullmetal Alchemist: Brotherhood                                 0.0   \n",
              "Gintama°                                                         0.0   \n",
              "Steins;Gate                                                      0.0   \n",
              "Gintama&#039;                                                    0.0   \n",
              "...                                                              ...   \n",
              "Toushindai My Lover: Minami tai Mecha-Minami                     1.0   \n",
              "Under World                                                      1.0   \n",
              "Violence Gekiga David no Hoshi                                   1.0   \n",
              "Violence Gekiga Shin David no Hoshi: Inma Densetsu               1.0   \n",
              "Yasuji no Pornorama: Yacchimae!!                                 1.0   \n",
              "\n",
              "name                                                Toushindai My Lover: Minami tai Mecha-Minami  \\\n",
              "name                                                                                               \n",
              "Kimi no Na wa.                                                                               0.0   \n",
              "Fullmetal Alchemist: Brotherhood                                                             0.0   \n",
              "Gintama°                                                                                     0.0   \n",
              "Steins;Gate                                                                                  0.0   \n",
              "Gintama&#039;                                                                                0.0   \n",
              "...                                                                                          ...   \n",
              "Toushindai My Lover: Minami tai Mecha-Minami                                                 1.0   \n",
              "Under World                                                                                  1.0   \n",
              "Violence Gekiga David no Hoshi                                                               1.0   \n",
              "Violence Gekiga Shin David no Hoshi: Inma Densetsu                                           1.0   \n",
              "Yasuji no Pornorama: Yacchimae!!                                                             1.0   \n",
              "\n",
              "name                                                Under World  \\\n",
              "name                                                              \n",
              "Kimi no Na wa.                                              0.0   \n",
              "Fullmetal Alchemist: Brotherhood                            0.0   \n",
              "Gintama°                                                    0.0   \n",
              "Steins;Gate                                                 0.0   \n",
              "Gintama&#039;                                               0.0   \n",
              "...                                                         ...   \n",
              "Toushindai My Lover: Minami tai Mecha-Minami                1.0   \n",
              "Under World                                                 1.0   \n",
              "Violence Gekiga David no Hoshi                              1.0   \n",
              "Violence Gekiga Shin David no Hoshi: Inma Densetsu          1.0   \n",
              "Yasuji no Pornorama: Yacchimae!!                            1.0   \n",
              "\n",
              "name                                                Violence Gekiga David no Hoshi  \\\n",
              "name                                                                                 \n",
              "Kimi no Na wa.                                                                 0.0   \n",
              "Fullmetal Alchemist: Brotherhood                                               0.0   \n",
              "Gintama°                                                                       0.0   \n",
              "Steins;Gate                                                                    0.0   \n",
              "Gintama&#039;                                                                  0.0   \n",
              "...                                                                            ...   \n",
              "Toushindai My Lover: Minami tai Mecha-Minami                                   1.0   \n",
              "Under World                                                                    1.0   \n",
              "Violence Gekiga David no Hoshi                                                 1.0   \n",
              "Violence Gekiga Shin David no Hoshi: Inma Densetsu                             1.0   \n",
              "Yasuji no Pornorama: Yacchimae!!                                               1.0   \n",
              "\n",
              "name                                                Violence Gekiga Shin David no Hoshi: Inma Densetsu  \\\n",
              "name                                                                                                     \n",
              "Kimi no Na wa.                                                                                    0.0    \n",
              "Fullmetal Alchemist: Brotherhood                                                                  0.0    \n",
              "Gintama°                                                                                          0.0    \n",
              "Steins;Gate                                                                                       0.0    \n",
              "Gintama&#039;                                                                                     0.0    \n",
              "...                                                                                               ...    \n",
              "Toushindai My Lover: Minami tai Mecha-Minami                                                      1.0    \n",
              "Under World                                                                                       1.0    \n",
              "Violence Gekiga David no Hoshi                                                                    1.0    \n",
              "Violence Gekiga Shin David no Hoshi: Inma Densetsu                                                1.0    \n",
              "Yasuji no Pornorama: Yacchimae!!                                                                  1.0    \n",
              "\n",
              "name                                                Yasuji no Pornorama: Yacchimae!!  \n",
              "name                                                                                  \n",
              "Kimi no Na wa.                                                                   0.0  \n",
              "Fullmetal Alchemist: Brotherhood                                                 0.0  \n",
              "Gintama°                                                                         0.0  \n",
              "Steins;Gate                                                                      0.0  \n",
              "Gintama&#039;                                                                    0.0  \n",
              "...                                                                              ...  \n",
              "Toushindai My Lover: Minami tai Mecha-Minami                                     1.0  \n",
              "Under World                                                                      1.0  \n",
              "Violence Gekiga David no Hoshi                                                   1.0  \n",
              "Violence Gekiga Shin David no Hoshi: Inma Densetsu                               1.0  \n",
              "Yasuji no Pornorama: Yacchimae!!                                                 1.0  \n",
              "\n",
              "[11830 rows x 11830 columns]"
            ],
            "text/html": [
              "\n",
              "  <div id=\"df-f4da71a9-73c7-401a-b179-b483367f883c\">\n",
              "    <div class=\"colab-df-container\">\n",
              "      <div>\n",
              "<style scoped>\n",
              "    .dataframe tbody tr th:only-of-type {\n",
              "        vertical-align: middle;\n",
              "    }\n",
              "\n",
              "    .dataframe tbody tr th {\n",
              "        vertical-align: top;\n",
              "    }\n",
              "\n",
              "    .dataframe thead th {\n",
              "        text-align: right;\n",
              "    }\n",
              "</style>\n",
              "<table border=\"1\" class=\"dataframe\">\n",
              "  <thead>\n",
              "    <tr style=\"text-align: right;\">\n",
              "      <th>name</th>\n",
              "      <th>Kimi no Na wa.</th>\n",
              "      <th>Fullmetal Alchemist: Brotherhood</th>\n",
              "      <th>Gintama°</th>\n",
              "      <th>Steins;Gate</th>\n",
              "      <th>Gintama&amp;#039;</th>\n",
              "      <th>Haikyuu!!: Karasuno Koukou VS Shiratorizawa Gakuen Koukou</th>\n",
              "      <th>Hunter x Hunter (2011)</th>\n",
              "      <th>Ginga Eiyuu Densetsu</th>\n",
              "      <th>Gintama Movie: Kanketsu-hen - Yorozuya yo Eien Nare</th>\n",
              "      <th>Gintama&amp;#039;: Enchousen</th>\n",
              "      <th>...</th>\n",
              "      <th>Silent Chaser Kagami</th>\n",
              "      <th>Super Erotic Anime</th>\n",
              "      <th>Teleclub no Himitsu</th>\n",
              "      <th>Tenshi no Habataki Jun</th>\n",
              "      <th>The Satisfaction</th>\n",
              "      <th>Toushindai My Lover: Minami tai Mecha-Minami</th>\n",
              "      <th>Under World</th>\n",
              "      <th>Violence Gekiga David no Hoshi</th>\n",
              "      <th>Violence Gekiga Shin David no Hoshi: Inma Densetsu</th>\n",
              "      <th>Yasuji no Pornorama: Yacchimae!!</th>\n",
              "    </tr>\n",
              "    <tr>\n",
              "      <th>name</th>\n",
              "      <th></th>\n",
              "      <th></th>\n",
              "      <th></th>\n",
              "      <th></th>\n",
              "      <th></th>\n",
              "      <th></th>\n",
              "      <th></th>\n",
              "      <th></th>\n",
              "      <th></th>\n",
              "      <th></th>\n",
              "      <th></th>\n",
              "      <th></th>\n",
              "      <th></th>\n",
              "      <th></th>\n",
              "      <th></th>\n",
              "      <th></th>\n",
              "      <th></th>\n",
              "      <th></th>\n",
              "      <th></th>\n",
              "      <th></th>\n",
              "      <th></th>\n",
              "    </tr>\n",
              "  </thead>\n",
              "  <tbody>\n",
              "    <tr>\n",
              "      <th>Kimi no Na wa.</th>\n",
              "      <td>1.000000</td>\n",
              "      <td>0.146429</td>\n",
              "      <td>0.000000</td>\n",
              "      <td>0.000000</td>\n",
              "      <td>0.000000</td>\n",
              "      <td>0.424715</td>\n",
              "      <td>0.000000</td>\n",
              "      <td>0.166339</td>\n",
              "      <td>0.000000</td>\n",
              "      <td>0.000000</td>\n",
              "      <td>...</td>\n",
              "      <td>0.0</td>\n",
              "      <td>0.0</td>\n",
              "      <td>0.0</td>\n",
              "      <td>0.0</td>\n",
              "      <td>0.0</td>\n",
              "      <td>0.0</td>\n",
              "      <td>0.0</td>\n",
              "      <td>0.0</td>\n",
              "      <td>0.0</td>\n",
              "      <td>0.0</td>\n",
              "    </tr>\n",
              "    <tr>\n",
              "      <th>Fullmetal Alchemist: Brotherhood</th>\n",
              "      <td>0.146429</td>\n",
              "      <td>1.000000</td>\n",
              "      <td>0.188347</td>\n",
              "      <td>0.000000</td>\n",
              "      <td>0.188347</td>\n",
              "      <td>0.284837</td>\n",
              "      <td>0.411651</td>\n",
              "      <td>0.434373</td>\n",
              "      <td>0.188347</td>\n",
              "      <td>0.188347</td>\n",
              "      <td>...</td>\n",
              "      <td>0.0</td>\n",
              "      <td>0.0</td>\n",
              "      <td>0.0</td>\n",
              "      <td>0.0</td>\n",
              "      <td>0.0</td>\n",
              "      <td>0.0</td>\n",
              "      <td>0.0</td>\n",
              "      <td>0.0</td>\n",
              "      <td>0.0</td>\n",
              "      <td>0.0</td>\n",
              "    </tr>\n",
              "    <tr>\n",
              "      <th>Gintama°</th>\n",
              "      <td>0.000000</td>\n",
              "      <td>0.188347</td>\n",
              "      <td>1.000000</td>\n",
              "      <td>0.124379</td>\n",
              "      <td>1.000000</td>\n",
              "      <td>0.193237</td>\n",
              "      <td>0.248584</td>\n",
              "      <td>0.110365</td>\n",
              "      <td>1.000000</td>\n",
              "      <td>1.000000</td>\n",
              "      <td>...</td>\n",
              "      <td>0.0</td>\n",
              "      <td>0.0</td>\n",
              "      <td>0.0</td>\n",
              "      <td>0.0</td>\n",
              "      <td>0.0</td>\n",
              "      <td>0.0</td>\n",
              "      <td>0.0</td>\n",
              "      <td>0.0</td>\n",
              "      <td>0.0</td>\n",
              "      <td>0.0</td>\n",
              "    </tr>\n",
              "    <tr>\n",
              "      <th>Steins;Gate</th>\n",
              "      <td>0.000000</td>\n",
              "      <td>0.000000</td>\n",
              "      <td>0.124379</td>\n",
              "      <td>1.000000</td>\n",
              "      <td>0.124379</td>\n",
              "      <td>0.000000</td>\n",
              "      <td>0.000000</td>\n",
              "      <td>0.159058</td>\n",
              "      <td>0.124379</td>\n",
              "      <td>0.124379</td>\n",
              "      <td>...</td>\n",
              "      <td>0.0</td>\n",
              "      <td>0.0</td>\n",
              "      <td>0.0</td>\n",
              "      <td>0.0</td>\n",
              "      <td>0.0</td>\n",
              "      <td>0.0</td>\n",
              "      <td>0.0</td>\n",
              "      <td>0.0</td>\n",
              "      <td>0.0</td>\n",
              "      <td>0.0</td>\n",
              "    </tr>\n",
              "    <tr>\n",
              "      <th>Gintama&amp;#039;</th>\n",
              "      <td>0.000000</td>\n",
              "      <td>0.188347</td>\n",
              "      <td>1.000000</td>\n",
              "      <td>0.124379</td>\n",
              "      <td>1.000000</td>\n",
              "      <td>0.193237</td>\n",
              "      <td>0.248584</td>\n",
              "      <td>0.110365</td>\n",
              "      <td>1.000000</td>\n",
              "      <td>1.000000</td>\n",
              "      <td>...</td>\n",
              "      <td>0.0</td>\n",
              "      <td>0.0</td>\n",
              "      <td>0.0</td>\n",
              "      <td>0.0</td>\n",
              "      <td>0.0</td>\n",
              "      <td>0.0</td>\n",
              "      <td>0.0</td>\n",
              "      <td>0.0</td>\n",
              "      <td>0.0</td>\n",
              "      <td>0.0</td>\n",
              "    </tr>\n",
              "    <tr>\n",
              "      <th>...</th>\n",
              "      <td>...</td>\n",
              "      <td>...</td>\n",
              "      <td>...</td>\n",
              "      <td>...</td>\n",
              "      <td>...</td>\n",
              "      <td>...</td>\n",
              "      <td>...</td>\n",
              "      <td>...</td>\n",
              "      <td>...</td>\n",
              "      <td>...</td>\n",
              "      <td>...</td>\n",
              "      <td>...</td>\n",
              "      <td>...</td>\n",
              "      <td>...</td>\n",
              "      <td>...</td>\n",
              "      <td>...</td>\n",
              "      <td>...</td>\n",
              "      <td>...</td>\n",
              "      <td>...</td>\n",
              "      <td>...</td>\n",
              "      <td>...</td>\n",
              "    </tr>\n",
              "    <tr>\n",
              "      <th>Toushindai My Lover: Minami tai Mecha-Minami</th>\n",
              "      <td>0.000000</td>\n",
              "      <td>0.000000</td>\n",
              "      <td>0.000000</td>\n",
              "      <td>0.000000</td>\n",
              "      <td>0.000000</td>\n",
              "      <td>0.000000</td>\n",
              "      <td>0.000000</td>\n",
              "      <td>0.000000</td>\n",
              "      <td>0.000000</td>\n",
              "      <td>0.000000</td>\n",
              "      <td>...</td>\n",
              "      <td>1.0</td>\n",
              "      <td>1.0</td>\n",
              "      <td>1.0</td>\n",
              "      <td>1.0</td>\n",
              "      <td>1.0</td>\n",
              "      <td>1.0</td>\n",
              "      <td>1.0</td>\n",
              "      <td>1.0</td>\n",
              "      <td>1.0</td>\n",
              "      <td>1.0</td>\n",
              "    </tr>\n",
              "    <tr>\n",
              "      <th>Under World</th>\n",
              "      <td>0.000000</td>\n",
              "      <td>0.000000</td>\n",
              "      <td>0.000000</td>\n",
              "      <td>0.000000</td>\n",
              "      <td>0.000000</td>\n",
              "      <td>0.000000</td>\n",
              "      <td>0.000000</td>\n",
              "      <td>0.000000</td>\n",
              "      <td>0.000000</td>\n",
              "      <td>0.000000</td>\n",
              "      <td>...</td>\n",
              "      <td>1.0</td>\n",
              "      <td>1.0</td>\n",
              "      <td>1.0</td>\n",
              "      <td>1.0</td>\n",
              "      <td>1.0</td>\n",
              "      <td>1.0</td>\n",
              "      <td>1.0</td>\n",
              "      <td>1.0</td>\n",
              "      <td>1.0</td>\n",
              "      <td>1.0</td>\n",
              "    </tr>\n",
              "    <tr>\n",
              "      <th>Violence Gekiga David no Hoshi</th>\n",
              "      <td>0.000000</td>\n",
              "      <td>0.000000</td>\n",
              "      <td>0.000000</td>\n",
              "      <td>0.000000</td>\n",
              "      <td>0.000000</td>\n",
              "      <td>0.000000</td>\n",
              "      <td>0.000000</td>\n",
              "      <td>0.000000</td>\n",
              "      <td>0.000000</td>\n",
              "      <td>0.000000</td>\n",
              "      <td>...</td>\n",
              "      <td>1.0</td>\n",
              "      <td>1.0</td>\n",
              "      <td>1.0</td>\n",
              "      <td>1.0</td>\n",
              "      <td>1.0</td>\n",
              "      <td>1.0</td>\n",
              "      <td>1.0</td>\n",
              "      <td>1.0</td>\n",
              "      <td>1.0</td>\n",
              "      <td>1.0</td>\n",
              "    </tr>\n",
              "    <tr>\n",
              "      <th>Violence Gekiga Shin David no Hoshi: Inma Densetsu</th>\n",
              "      <td>0.000000</td>\n",
              "      <td>0.000000</td>\n",
              "      <td>0.000000</td>\n",
              "      <td>0.000000</td>\n",
              "      <td>0.000000</td>\n",
              "      <td>0.000000</td>\n",
              "      <td>0.000000</td>\n",
              "      <td>0.000000</td>\n",
              "      <td>0.000000</td>\n",
              "      <td>0.000000</td>\n",
              "      <td>...</td>\n",
              "      <td>1.0</td>\n",
              "      <td>1.0</td>\n",
              "      <td>1.0</td>\n",
              "      <td>1.0</td>\n",
              "      <td>1.0</td>\n",
              "      <td>1.0</td>\n",
              "      <td>1.0</td>\n",
              "      <td>1.0</td>\n",
              "      <td>1.0</td>\n",
              "      <td>1.0</td>\n",
              "    </tr>\n",
              "    <tr>\n",
              "      <th>Yasuji no Pornorama: Yacchimae!!</th>\n",
              "      <td>0.000000</td>\n",
              "      <td>0.000000</td>\n",
              "      <td>0.000000</td>\n",
              "      <td>0.000000</td>\n",
              "      <td>0.000000</td>\n",
              "      <td>0.000000</td>\n",
              "      <td>0.000000</td>\n",
              "      <td>0.000000</td>\n",
              "      <td>0.000000</td>\n",
              "      <td>0.000000</td>\n",
              "      <td>...</td>\n",
              "      <td>1.0</td>\n",
              "      <td>1.0</td>\n",
              "      <td>1.0</td>\n",
              "      <td>1.0</td>\n",
              "      <td>1.0</td>\n",
              "      <td>1.0</td>\n",
              "      <td>1.0</td>\n",
              "      <td>1.0</td>\n",
              "      <td>1.0</td>\n",
              "      <td>1.0</td>\n",
              "    </tr>\n",
              "  </tbody>\n",
              "</table>\n",
              "<p>11830 rows × 11830 columns</p>\n",
              "</div>\n",
              "      <button class=\"colab-df-convert\" onclick=\"convertToInteractive('df-f4da71a9-73c7-401a-b179-b483367f883c')\"\n",
              "              title=\"Convert this dataframe to an interactive table.\"\n",
              "              style=\"display:none;\">\n",
              "        \n",
              "  <svg xmlns=\"http://www.w3.org/2000/svg\" height=\"24px\"viewBox=\"0 0 24 24\"\n",
              "       width=\"24px\">\n",
              "    <path d=\"M0 0h24v24H0V0z\" fill=\"none\"/>\n",
              "    <path d=\"M18.56 5.44l.94 2.06.94-2.06 2.06-.94-2.06-.94-.94-2.06-.94 2.06-2.06.94zm-11 1L8.5 8.5l.94-2.06 2.06-.94-2.06-.94L8.5 2.5l-.94 2.06-2.06.94zm10 10l.94 2.06.94-2.06 2.06-.94-2.06-.94-.94-2.06-.94 2.06-2.06.94z\"/><path d=\"M17.41 7.96l-1.37-1.37c-.4-.4-.92-.59-1.43-.59-.52 0-1.04.2-1.43.59L10.3 9.45l-7.72 7.72c-.78.78-.78 2.05 0 2.83L4 21.41c.39.39.9.59 1.41.59.51 0 1.02-.2 1.41-.59l7.78-7.78 2.81-2.81c.8-.78.8-2.07 0-2.86zM5.41 20L4 18.59l7.72-7.72 1.47 1.35L5.41 20z\"/>\n",
              "  </svg>\n",
              "      </button>\n",
              "      \n",
              "  <style>\n",
              "    .colab-df-container {\n",
              "      display:flex;\n",
              "      flex-wrap:wrap;\n",
              "      gap: 12px;\n",
              "    }\n",
              "\n",
              "    .colab-df-convert {\n",
              "      background-color: #E8F0FE;\n",
              "      border: none;\n",
              "      border-radius: 50%;\n",
              "      cursor: pointer;\n",
              "      display: none;\n",
              "      fill: #1967D2;\n",
              "      height: 32px;\n",
              "      padding: 0 0 0 0;\n",
              "      width: 32px;\n",
              "    }\n",
              "\n",
              "    .colab-df-convert:hover {\n",
              "      background-color: #E2EBFA;\n",
              "      box-shadow: 0px 1px 2px rgba(60, 64, 67, 0.3), 0px 1px 3px 1px rgba(60, 64, 67, 0.15);\n",
              "      fill: #174EA6;\n",
              "    }\n",
              "\n",
              "    [theme=dark] .colab-df-convert {\n",
              "      background-color: #3B4455;\n",
              "      fill: #D2E3FC;\n",
              "    }\n",
              "\n",
              "    [theme=dark] .colab-df-convert:hover {\n",
              "      background-color: #434B5C;\n",
              "      box-shadow: 0px 1px 3px 1px rgba(0, 0, 0, 0.15);\n",
              "      filter: drop-shadow(0px 1px 2px rgba(0, 0, 0, 0.3));\n",
              "      fill: #FFFFFF;\n",
              "    }\n",
              "  </style>\n",
              "\n",
              "      <script>\n",
              "        const buttonEl =\n",
              "          document.querySelector('#df-f4da71a9-73c7-401a-b179-b483367f883c button.colab-df-convert');\n",
              "        buttonEl.style.display =\n",
              "          google.colab.kernel.accessAllowed ? 'block' : 'none';\n",
              "\n",
              "        async function convertToInteractive(key) {\n",
              "          const element = document.querySelector('#df-f4da71a9-73c7-401a-b179-b483367f883c');\n",
              "          const dataTable =\n",
              "            await google.colab.kernel.invokeFunction('convertToInteractive',\n",
              "                                                     [key], {});\n",
              "          if (!dataTable) return;\n",
              "\n",
              "          const docLinkHtml = 'Like what you see? Visit the ' +\n",
              "            '<a target=\"_blank\" href=https://colab.research.google.com/notebooks/data_table.ipynb>data table notebook</a>'\n",
              "            + ' to learn more about interactive tables.';\n",
              "          element.innerHTML = '';\n",
              "          dataTable['output_type'] = 'display_data';\n",
              "          await google.colab.output.renderOutput(dataTable, element);\n",
              "          const docLink = document.createElement('div');\n",
              "          docLink.innerHTML = docLinkHtml;\n",
              "          element.appendChild(docLink);\n",
              "        }\n",
              "      </script>\n",
              "    </div>\n",
              "  </div>\n",
              "  "
            ]
          },
          "metadata": {},
          "execution_count": 51
        }
      ]
    },
    {
      "cell_type": "markdown",
      "source": [
        "#### Melakukan Top N Recommendation"
      ],
      "metadata": {
        "id": "fUeG6weVkxIi"
      }
    },
    {
      "cell_type": "markdown",
      "source": [
        "Mulai melakukan rekomendasi pada data anime"
      ],
      "metadata": {
        "id": "yQFJSETLpn5c"
      }
    },
    {
      "cell_type": "code",
      "source": [
        "def get_anime_recommendations(anime_name,\n",
        "                              similarity_data = cosine_similarity_df,\n",
        "                              items = anime_cbf_df[[name_field, genre_field]],\n",
        "                              k = 4):\n",
        "  \n",
        "  print(range(-1, -k, -1))\n",
        "\n",
        "  index = similarity_data.loc[:, anime_name].to_numpy().argpartition(\n",
        "      range(-1, -k, -1)\n",
        "  )\n",
        "\n",
        "  closest = similarity_data.columns[index[-1:-(k+2):-1]]\n",
        "\n",
        "  return pd.DataFrame(closest).merge(items).head(k)"
      ],
      "metadata": {
        "id": "tTFD1yX5prTz"
      },
      "execution_count": 53,
      "outputs": []
    },
    {
      "cell_type": "markdown",
      "source": [
        "Melihat contoh data yang memiliki genre Drama"
      ],
      "metadata": {
        "id": "PUSMlII3yMg_"
      }
    },
    {
      "cell_type": "code",
      "source": [
        "anime_cbf_df[anime_cbf_df[genre_field].str.contains('Drama')]"
      ],
      "metadata": {
        "colab": {
          "base_uri": "https://localhost:8080/",
          "height": 423
        },
        "id": "QiKbRCQZyGGU",
        "outputId": "8900ba5c-f604-4dbc-877b-30d465885907"
      },
      "execution_count": 58,
      "outputs": [
        {
          "output_type": "execute_result",
          "data": {
            "text/plain": [
              "       anime_id                                               name  \\\n",
              "0         32281                                     Kimi no Na wa.   \n",
              "1          5114                   Fullmetal Alchemist: Brotherhood   \n",
              "5         32935  Haikyuu!!: Karasuno Koukou VS Shiratorizawa Ga...   \n",
              "7           820                               Ginga Eiyuu Densetsu   \n",
              "10         4181                               Clannad: After Story   \n",
              "...         ...                                                ...   \n",
              "12005      3976                                           Mamahaha   \n",
              "12017      2218                     Fujimi 2-choume Koukyougakudan   \n",
              "12071      3396                        Gloria: Kindan no Ketsuzoku   \n",
              "12143      4697                  Chimera: Target I Datenshi Kourin   \n",
              "12203       730                           Houkago no Shokuinshitsu   \n",
              "\n",
              "                                                   genre   type  episodes  \\\n",
              "0                   Drama, Romance, School, Supernatural  Movie       1.0   \n",
              "1      Action, Adventure, Drama, Fantasy, Magic, Mili...     TV      64.0   \n",
              "5                 Comedy, Drama, School, Shounen, Sports     TV      10.0   \n",
              "7                         Drama, Military, Sci-Fi, Space    OVA     110.0   \n",
              "10     Drama, Fantasy, Romance, Slice of Life, Supern...     TV      24.0   \n",
              "...                                                  ...    ...       ...   \n",
              "12005                             Drama, Hentai, Romance    OVA       2.0   \n",
              "12017  Drama, Music, Psychological, Romance, Slice of...    OVA       1.0   \n",
              "12071                    Drama, Hentai, Mystery, Romance    OVA       3.0   \n",
              "12143                                      Drama, Hentai    OVA       1.0   \n",
              "12203                               Drama, Romance, Yaoi    OVA       2.0   \n",
              "\n",
              "       rating  members  \n",
              "0        9.37   200630  \n",
              "1        9.26   793665  \n",
              "5        9.15    93351  \n",
              "7        9.11    80679  \n",
              "10       9.06   456749  \n",
              "...       ...      ...  \n",
              "12005    5.74     1546  \n",
              "12017    5.72     4981  \n",
              "12071    5.61      654  \n",
              "12143    5.46      841  \n",
              "12203    5.23     4550  \n",
              "\n",
              "[1972 rows x 7 columns]"
            ],
            "text/html": [
              "\n",
              "  <div id=\"df-633d365c-7e8e-45d8-a207-e6352fe8a484\">\n",
              "    <div class=\"colab-df-container\">\n",
              "      <div>\n",
              "<style scoped>\n",
              "    .dataframe tbody tr th:only-of-type {\n",
              "        vertical-align: middle;\n",
              "    }\n",
              "\n",
              "    .dataframe tbody tr th {\n",
              "        vertical-align: top;\n",
              "    }\n",
              "\n",
              "    .dataframe thead th {\n",
              "        text-align: right;\n",
              "    }\n",
              "</style>\n",
              "<table border=\"1\" class=\"dataframe\">\n",
              "  <thead>\n",
              "    <tr style=\"text-align: right;\">\n",
              "      <th></th>\n",
              "      <th>anime_id</th>\n",
              "      <th>name</th>\n",
              "      <th>genre</th>\n",
              "      <th>type</th>\n",
              "      <th>episodes</th>\n",
              "      <th>rating</th>\n",
              "      <th>members</th>\n",
              "    </tr>\n",
              "  </thead>\n",
              "  <tbody>\n",
              "    <tr>\n",
              "      <th>0</th>\n",
              "      <td>32281</td>\n",
              "      <td>Kimi no Na wa.</td>\n",
              "      <td>Drama, Romance, School, Supernatural</td>\n",
              "      <td>Movie</td>\n",
              "      <td>1.0</td>\n",
              "      <td>9.37</td>\n",
              "      <td>200630</td>\n",
              "    </tr>\n",
              "    <tr>\n",
              "      <th>1</th>\n",
              "      <td>5114</td>\n",
              "      <td>Fullmetal Alchemist: Brotherhood</td>\n",
              "      <td>Action, Adventure, Drama, Fantasy, Magic, Mili...</td>\n",
              "      <td>TV</td>\n",
              "      <td>64.0</td>\n",
              "      <td>9.26</td>\n",
              "      <td>793665</td>\n",
              "    </tr>\n",
              "    <tr>\n",
              "      <th>5</th>\n",
              "      <td>32935</td>\n",
              "      <td>Haikyuu!!: Karasuno Koukou VS Shiratorizawa Ga...</td>\n",
              "      <td>Comedy, Drama, School, Shounen, Sports</td>\n",
              "      <td>TV</td>\n",
              "      <td>10.0</td>\n",
              "      <td>9.15</td>\n",
              "      <td>93351</td>\n",
              "    </tr>\n",
              "    <tr>\n",
              "      <th>7</th>\n",
              "      <td>820</td>\n",
              "      <td>Ginga Eiyuu Densetsu</td>\n",
              "      <td>Drama, Military, Sci-Fi, Space</td>\n",
              "      <td>OVA</td>\n",
              "      <td>110.0</td>\n",
              "      <td>9.11</td>\n",
              "      <td>80679</td>\n",
              "    </tr>\n",
              "    <tr>\n",
              "      <th>10</th>\n",
              "      <td>4181</td>\n",
              "      <td>Clannad: After Story</td>\n",
              "      <td>Drama, Fantasy, Romance, Slice of Life, Supern...</td>\n",
              "      <td>TV</td>\n",
              "      <td>24.0</td>\n",
              "      <td>9.06</td>\n",
              "      <td>456749</td>\n",
              "    </tr>\n",
              "    <tr>\n",
              "      <th>...</th>\n",
              "      <td>...</td>\n",
              "      <td>...</td>\n",
              "      <td>...</td>\n",
              "      <td>...</td>\n",
              "      <td>...</td>\n",
              "      <td>...</td>\n",
              "      <td>...</td>\n",
              "    </tr>\n",
              "    <tr>\n",
              "      <th>12005</th>\n",
              "      <td>3976</td>\n",
              "      <td>Mamahaha</td>\n",
              "      <td>Drama, Hentai, Romance</td>\n",
              "      <td>OVA</td>\n",
              "      <td>2.0</td>\n",
              "      <td>5.74</td>\n",
              "      <td>1546</td>\n",
              "    </tr>\n",
              "    <tr>\n",
              "      <th>12017</th>\n",
              "      <td>2218</td>\n",
              "      <td>Fujimi 2-choume Koukyougakudan</td>\n",
              "      <td>Drama, Music, Psychological, Romance, Slice of...</td>\n",
              "      <td>OVA</td>\n",
              "      <td>1.0</td>\n",
              "      <td>5.72</td>\n",
              "      <td>4981</td>\n",
              "    </tr>\n",
              "    <tr>\n",
              "      <th>12071</th>\n",
              "      <td>3396</td>\n",
              "      <td>Gloria: Kindan no Ketsuzoku</td>\n",
              "      <td>Drama, Hentai, Mystery, Romance</td>\n",
              "      <td>OVA</td>\n",
              "      <td>3.0</td>\n",
              "      <td>5.61</td>\n",
              "      <td>654</td>\n",
              "    </tr>\n",
              "    <tr>\n",
              "      <th>12143</th>\n",
              "      <td>4697</td>\n",
              "      <td>Chimera: Target I Datenshi Kourin</td>\n",
              "      <td>Drama, Hentai</td>\n",
              "      <td>OVA</td>\n",
              "      <td>1.0</td>\n",
              "      <td>5.46</td>\n",
              "      <td>841</td>\n",
              "    </tr>\n",
              "    <tr>\n",
              "      <th>12203</th>\n",
              "      <td>730</td>\n",
              "      <td>Houkago no Shokuinshitsu</td>\n",
              "      <td>Drama, Romance, Yaoi</td>\n",
              "      <td>OVA</td>\n",
              "      <td>2.0</td>\n",
              "      <td>5.23</td>\n",
              "      <td>4550</td>\n",
              "    </tr>\n",
              "  </tbody>\n",
              "</table>\n",
              "<p>1972 rows × 7 columns</p>\n",
              "</div>\n",
              "      <button class=\"colab-df-convert\" onclick=\"convertToInteractive('df-633d365c-7e8e-45d8-a207-e6352fe8a484')\"\n",
              "              title=\"Convert this dataframe to an interactive table.\"\n",
              "              style=\"display:none;\">\n",
              "        \n",
              "  <svg xmlns=\"http://www.w3.org/2000/svg\" height=\"24px\"viewBox=\"0 0 24 24\"\n",
              "       width=\"24px\">\n",
              "    <path d=\"M0 0h24v24H0V0z\" fill=\"none\"/>\n",
              "    <path d=\"M18.56 5.44l.94 2.06.94-2.06 2.06-.94-2.06-.94-.94-2.06-.94 2.06-2.06.94zm-11 1L8.5 8.5l.94-2.06 2.06-.94-2.06-.94L8.5 2.5l-.94 2.06-2.06.94zm10 10l.94 2.06.94-2.06 2.06-.94-2.06-.94-.94-2.06-.94 2.06-2.06.94z\"/><path d=\"M17.41 7.96l-1.37-1.37c-.4-.4-.92-.59-1.43-.59-.52 0-1.04.2-1.43.59L10.3 9.45l-7.72 7.72c-.78.78-.78 2.05 0 2.83L4 21.41c.39.39.9.59 1.41.59.51 0 1.02-.2 1.41-.59l7.78-7.78 2.81-2.81c.8-.78.8-2.07 0-2.86zM5.41 20L4 18.59l7.72-7.72 1.47 1.35L5.41 20z\"/>\n",
              "  </svg>\n",
              "      </button>\n",
              "      \n",
              "  <style>\n",
              "    .colab-df-container {\n",
              "      display:flex;\n",
              "      flex-wrap:wrap;\n",
              "      gap: 12px;\n",
              "    }\n",
              "\n",
              "    .colab-df-convert {\n",
              "      background-color: #E8F0FE;\n",
              "      border: none;\n",
              "      border-radius: 50%;\n",
              "      cursor: pointer;\n",
              "      display: none;\n",
              "      fill: #1967D2;\n",
              "      height: 32px;\n",
              "      padding: 0 0 0 0;\n",
              "      width: 32px;\n",
              "    }\n",
              "\n",
              "    .colab-df-convert:hover {\n",
              "      background-color: #E2EBFA;\n",
              "      box-shadow: 0px 1px 2px rgba(60, 64, 67, 0.3), 0px 1px 3px 1px rgba(60, 64, 67, 0.15);\n",
              "      fill: #174EA6;\n",
              "    }\n",
              "\n",
              "    [theme=dark] .colab-df-convert {\n",
              "      background-color: #3B4455;\n",
              "      fill: #D2E3FC;\n",
              "    }\n",
              "\n",
              "    [theme=dark] .colab-df-convert:hover {\n",
              "      background-color: #434B5C;\n",
              "      box-shadow: 0px 1px 3px 1px rgba(0, 0, 0, 0.15);\n",
              "      filter: drop-shadow(0px 1px 2px rgba(0, 0, 0, 0.3));\n",
              "      fill: #FFFFFF;\n",
              "    }\n",
              "  </style>\n",
              "\n",
              "      <script>\n",
              "        const buttonEl =\n",
              "          document.querySelector('#df-633d365c-7e8e-45d8-a207-e6352fe8a484 button.colab-df-convert');\n",
              "        buttonEl.style.display =\n",
              "          google.colab.kernel.accessAllowed ? 'block' : 'none';\n",
              "\n",
              "        async function convertToInteractive(key) {\n",
              "          const element = document.querySelector('#df-633d365c-7e8e-45d8-a207-e6352fe8a484');\n",
              "          const dataTable =\n",
              "            await google.colab.kernel.invokeFunction('convertToInteractive',\n",
              "                                                     [key], {});\n",
              "          if (!dataTable) return;\n",
              "\n",
              "          const docLinkHtml = 'Like what you see? Visit the ' +\n",
              "            '<a target=\"_blank\" href=https://colab.research.google.com/notebooks/data_table.ipynb>data table notebook</a>'\n",
              "            + ' to learn more about interactive tables.';\n",
              "          element.innerHTML = '';\n",
              "          dataTable['output_type'] = 'display_data';\n",
              "          await google.colab.output.renderOutput(dataTable, element);\n",
              "          const docLink = document.createElement('div');\n",
              "          docLink.innerHTML = docLinkHtml;\n",
              "          element.appendChild(docLink);\n",
              "        }\n",
              "      </script>\n",
              "    </div>\n",
              "  </div>\n",
              "  "
            ]
          },
          "metadata": {},
          "execution_count": 58
        }
      ]
    },
    {
      "cell_type": "markdown",
      "source": [
        "Mendapatkan top N rekomendasi"
      ],
      "metadata": {
        "id": "yaWbLwp3e5KY"
      }
    },
    {
      "cell_type": "code",
      "source": [
        "anime_recommendations = get_anime_recommendations('Kimi no Na wa.')\n",
        "anime_recommendations"
      ],
      "metadata": {
        "colab": {
          "base_uri": "https://localhost:8080/",
          "height": 193
        },
        "id": "lYCLmGZ3zcQX",
        "outputId": "d52ddf57-2745-4586-807c-d7c2cfb380fe"
      },
      "execution_count": 59,
      "outputs": [
        {
          "output_type": "stream",
          "name": "stdout",
          "text": [
            "range(-1, -4, -1)\n"
          ]
        },
        {
          "output_type": "execute_result",
          "data": {
            "text/plain": [
              "                                    name  \\\n",
              "0                         Kimi no Na wa.   \n",
              "1            Wind: A Breath of Heart OVA   \n",
              "2           Wind: A Breath of Heart (TV)   \n",
              "3  Aura: Maryuuin Kouga Saigo no Tatakai   \n",
              "\n",
              "                                          genre  \n",
              "0          Drama, Romance, School, Supernatural  \n",
              "1          Drama, Romance, School, Supernatural  \n",
              "2          Drama, Romance, School, Supernatural  \n",
              "3  Comedy, Drama, Romance, School, Supernatural  "
            ],
            "text/html": [
              "\n",
              "  <div id=\"df-8be12959-4479-41f1-b8c7-a0939b2ccdbe\">\n",
              "    <div class=\"colab-df-container\">\n",
              "      <div>\n",
              "<style scoped>\n",
              "    .dataframe tbody tr th:only-of-type {\n",
              "        vertical-align: middle;\n",
              "    }\n",
              "\n",
              "    .dataframe tbody tr th {\n",
              "        vertical-align: top;\n",
              "    }\n",
              "\n",
              "    .dataframe thead th {\n",
              "        text-align: right;\n",
              "    }\n",
              "</style>\n",
              "<table border=\"1\" class=\"dataframe\">\n",
              "  <thead>\n",
              "    <tr style=\"text-align: right;\">\n",
              "      <th></th>\n",
              "      <th>name</th>\n",
              "      <th>genre</th>\n",
              "    </tr>\n",
              "  </thead>\n",
              "  <tbody>\n",
              "    <tr>\n",
              "      <th>0</th>\n",
              "      <td>Kimi no Na wa.</td>\n",
              "      <td>Drama, Romance, School, Supernatural</td>\n",
              "    </tr>\n",
              "    <tr>\n",
              "      <th>1</th>\n",
              "      <td>Wind: A Breath of Heart OVA</td>\n",
              "      <td>Drama, Romance, School, Supernatural</td>\n",
              "    </tr>\n",
              "    <tr>\n",
              "      <th>2</th>\n",
              "      <td>Wind: A Breath of Heart (TV)</td>\n",
              "      <td>Drama, Romance, School, Supernatural</td>\n",
              "    </tr>\n",
              "    <tr>\n",
              "      <th>3</th>\n",
              "      <td>Aura: Maryuuin Kouga Saigo no Tatakai</td>\n",
              "      <td>Comedy, Drama, Romance, School, Supernatural</td>\n",
              "    </tr>\n",
              "  </tbody>\n",
              "</table>\n",
              "</div>\n",
              "      <button class=\"colab-df-convert\" onclick=\"convertToInteractive('df-8be12959-4479-41f1-b8c7-a0939b2ccdbe')\"\n",
              "              title=\"Convert this dataframe to an interactive table.\"\n",
              "              style=\"display:none;\">\n",
              "        \n",
              "  <svg xmlns=\"http://www.w3.org/2000/svg\" height=\"24px\"viewBox=\"0 0 24 24\"\n",
              "       width=\"24px\">\n",
              "    <path d=\"M0 0h24v24H0V0z\" fill=\"none\"/>\n",
              "    <path d=\"M18.56 5.44l.94 2.06.94-2.06 2.06-.94-2.06-.94-.94-2.06-.94 2.06-2.06.94zm-11 1L8.5 8.5l.94-2.06 2.06-.94-2.06-.94L8.5 2.5l-.94 2.06-2.06.94zm10 10l.94 2.06.94-2.06 2.06-.94-2.06-.94-.94-2.06-.94 2.06-2.06.94z\"/><path d=\"M17.41 7.96l-1.37-1.37c-.4-.4-.92-.59-1.43-.59-.52 0-1.04.2-1.43.59L10.3 9.45l-7.72 7.72c-.78.78-.78 2.05 0 2.83L4 21.41c.39.39.9.59 1.41.59.51 0 1.02-.2 1.41-.59l7.78-7.78 2.81-2.81c.8-.78.8-2.07 0-2.86zM5.41 20L4 18.59l7.72-7.72 1.47 1.35L5.41 20z\"/>\n",
              "  </svg>\n",
              "      </button>\n",
              "      \n",
              "  <style>\n",
              "    .colab-df-container {\n",
              "      display:flex;\n",
              "      flex-wrap:wrap;\n",
              "      gap: 12px;\n",
              "    }\n",
              "\n",
              "    .colab-df-convert {\n",
              "      background-color: #E8F0FE;\n",
              "      border: none;\n",
              "      border-radius: 50%;\n",
              "      cursor: pointer;\n",
              "      display: none;\n",
              "      fill: #1967D2;\n",
              "      height: 32px;\n",
              "      padding: 0 0 0 0;\n",
              "      width: 32px;\n",
              "    }\n",
              "\n",
              "    .colab-df-convert:hover {\n",
              "      background-color: #E2EBFA;\n",
              "      box-shadow: 0px 1px 2px rgba(60, 64, 67, 0.3), 0px 1px 3px 1px rgba(60, 64, 67, 0.15);\n",
              "      fill: #174EA6;\n",
              "    }\n",
              "\n",
              "    [theme=dark] .colab-df-convert {\n",
              "      background-color: #3B4455;\n",
              "      fill: #D2E3FC;\n",
              "    }\n",
              "\n",
              "    [theme=dark] .colab-df-convert:hover {\n",
              "      background-color: #434B5C;\n",
              "      box-shadow: 0px 1px 3px 1px rgba(0, 0, 0, 0.15);\n",
              "      filter: drop-shadow(0px 1px 2px rgba(0, 0, 0, 0.3));\n",
              "      fill: #FFFFFF;\n",
              "    }\n",
              "  </style>\n",
              "\n",
              "      <script>\n",
              "        const buttonEl =\n",
              "          document.querySelector('#df-8be12959-4479-41f1-b8c7-a0939b2ccdbe button.colab-df-convert');\n",
              "        buttonEl.style.display =\n",
              "          google.colab.kernel.accessAllowed ? 'block' : 'none';\n",
              "\n",
              "        async function convertToInteractive(key) {\n",
              "          const element = document.querySelector('#df-8be12959-4479-41f1-b8c7-a0939b2ccdbe');\n",
              "          const dataTable =\n",
              "            await google.colab.kernel.invokeFunction('convertToInteractive',\n",
              "                                                     [key], {});\n",
              "          if (!dataTable) return;\n",
              "\n",
              "          const docLinkHtml = 'Like what you see? Visit the ' +\n",
              "            '<a target=\"_blank\" href=https://colab.research.google.com/notebooks/data_table.ipynb>data table notebook</a>'\n",
              "            + ' to learn more about interactive tables.';\n",
              "          element.innerHTML = '';\n",
              "          dataTable['output_type'] = 'display_data';\n",
              "          await google.colab.output.renderOutput(dataTable, element);\n",
              "          const docLink = document.createElement('div');\n",
              "          docLink.innerHTML = docLinkHtml;\n",
              "          element.appendChild(docLink);\n",
              "        }\n",
              "      </script>\n",
              "    </div>\n",
              "  </div>\n",
              "  "
            ]
          },
          "metadata": {},
          "execution_count": 59
        }
      ]
    },
    {
      "cell_type": "markdown",
      "source": [
        "#### Melakukan evaluasi dengan metrik akurasi."
      ],
      "metadata": {
        "id": "WFBT47Jd26-d"
      }
    },
    {
      "cell_type": "code",
      "source": [
        "def get_accuracy_content_based_filtering_metrics(df, \n",
        "                                                 comparation_index, \n",
        "                                                 field_to_be_compared,\n",
        "                                                 expected_name):\n",
        "\n",
        "  number_of_rows = df.shape[0]\n",
        "  one_correct_value = 100.0 / len(df)\n",
        "  total_accuracy_score = 0\n",
        "\n",
        "  for index in range(number_of_rows):\n",
        "    if index == comparation_index:\n",
        "      continue\n",
        "\n",
        "    if expected_name in df[field_to_be_compared][index]:\n",
        "      total_accuracy_score += one_correct_value\n",
        "\n",
        "  return total_accuracy_score"
      ],
      "metadata": {
        "id": "AFAAg94alAiq"
      },
      "execution_count": 60,
      "outputs": []
    },
    {
      "cell_type": "code",
      "source": [
        "genre_accuracy_score = get_accuracy_content_based_filtering_metrics(anime_recommendations,\n",
        "                                                                    -1,\n",
        "                                                                    genre_field,\n",
        "                                                                    \"Drama\")\n",
        "\n",
        "print(f\"Accuracy Score: {genre_accuracy_score}%\")"
      ],
      "metadata": {
        "id": "mVta_DZa5XZ2",
        "colab": {
          "base_uri": "https://localhost:8080/"
        },
        "outputId": "1ef1121e-00f5-463c-dd0e-859bb6e3c0e8"
      },
      "execution_count": 61,
      "outputs": [
        {
          "output_type": "stream",
          "name": "stdout",
          "text": [
            "Accuracy Score: 100.0%\n"
          ]
        }
      ]
    },
    {
      "cell_type": "markdown",
      "source": [
        "### Collaborative Filtering dengan SVD (Matrix Factorization)\n",
        "\n",
        "\n",
        "SVD adalah salah satu teknik yang digunakan untuk dimensionality reduction. Teknik ini bekerja dengan mengurangi jumlah fitur yang ada pada dataset (mirip dengan PCA) dengan jumlah fitur yang ditentukan oleh user.\n",
        "\n",
        "Namun, jika kita berbicara konteks sistem rekomendasi, SVD menggunakan sturktur matriks. Berikut adalah bagian-bagian dari SVD, jika menggunakan struktur matriks. \n",
        "\n",
        "  * Bagian row menunjukkan user\n",
        "  * Bagian column menunjukkan item\n",
        "  * Elemen-elemen pada matriks menunjukkan rating\n",
        "\n",
        "Dari matriks di atas, SVD mengurangi dimensi matriks terebut dengan faktor-faktor laten. Ia melakukan mapping setiap fitur dan item menjadi matriks yang lebih kecil. Matriks inilah yang memiliki informasi mengenai relasi user dan item.\n",
        "\n",
        "Rumus untuk SVD adalah sebagai berikut.\n",
        "\n",
        "![Rumus SVD](https://miro.medium.com/max/894/1*XNWUlrQJXGeoCDqUMd0iUA.png)\n",
        "\n",
        "Untuk melakukan training pada SVD, ia menggunakan teknik SGD (Schocastic Gradient Descent). SGD bekerja dengan meminimalkan nilai awal dan melakukan iterasi untuk mengurangi kesalahan antara nilai yang diprediksi dan nilai aktual. Mirip seperti SGD pada klasifikasi, ia akan mengoptimalkan cost function agar bisa konvergensi ke titik global optima.\n"
      ],
      "metadata": {
        "id": "MtPMZdr2Bo7c"
      }
    },
    {
      "cell_type": "markdown",
      "source": [
        "Impor Library yang akan digunakan untuk collaborative filtering"
      ],
      "metadata": {
        "id": "oiSam_esDV4a"
      }
    },
    {
      "cell_type": "code",
      "source": [
        "!pip install surprise\n",
        "import surprise\n",
        "from surprise import SVD\n",
        "from surprise import accuracy\n",
        "from sklearn.model_selection import train_test_split\n",
        "from surprise.model_selection import cross_validate\n",
        "from collections import defaultdict"
      ],
      "metadata": {
        "id": "6w22roJMDCPi",
        "colab": {
          "base_uri": "https://localhost:8080/"
        },
        "outputId": "bb91d5c9-dee7-4b14-c3f5-91536a8320bb"
      },
      "execution_count": 62,
      "outputs": [
        {
          "output_type": "stream",
          "name": "stdout",
          "text": [
            "Collecting surprise\n",
            "  Downloading surprise-0.1-py2.py3-none-any.whl (1.8 kB)\n",
            "Collecting scikit-surprise\n",
            "  Downloading scikit-surprise-1.1.1.tar.gz (11.8 MB)\n",
            "\u001b[K     |████████████████████████████████| 11.8 MB 5.4 MB/s \n",
            "\u001b[?25hRequirement already satisfied: joblib>=0.11 in /usr/local/lib/python3.7/dist-packages (from scikit-surprise->surprise) (1.1.0)\n",
            "Requirement already satisfied: numpy>=1.11.2 in /usr/local/lib/python3.7/dist-packages (from scikit-surprise->surprise) (1.21.5)\n",
            "Requirement already satisfied: scipy>=1.0.0 in /usr/local/lib/python3.7/dist-packages (from scikit-surprise->surprise) (1.4.1)\n",
            "Requirement already satisfied: six>=1.10.0 in /usr/local/lib/python3.7/dist-packages (from scikit-surprise->surprise) (1.15.0)\n",
            "Building wheels for collected packages: scikit-surprise\n",
            "  Building wheel for scikit-surprise (setup.py) ... \u001b[?25l\u001b[?25hdone\n",
            "  Created wheel for scikit-surprise: filename=scikit_surprise-1.1.1-cp37-cp37m-linux_x86_64.whl size=1630174 sha256=23bae0201b8daa8aa64f87cc870ad8600cf5d1b21808155b08378aa9e7e33411\n",
            "  Stored in directory: /root/.cache/pip/wheels/76/44/74/b498c42be47b2406bd27994e16c5188e337c657025ab400c1c\n",
            "Successfully built scikit-surprise\n",
            "Installing collected packages: scikit-surprise, surprise\n",
            "Successfully installed scikit-surprise-1.1.1 surprise-0.1\n"
          ]
        }
      ]
    },
    {
      "cell_type": "markdown",
      "source": [
        "#### Data Preparation"
      ],
      "metadata": {
        "id": "Lx-abA_elwIN"
      }
    },
    {
      "cell_type": "code",
      "source": [
        "anime_rating_cbf_df"
      ],
      "metadata": {
        "colab": {
          "base_uri": "https://localhost:8080/",
          "height": 423
        },
        "id": "97QzcFfKqSIw",
        "outputId": "dd1ec070-ff98-4ab2-d79e-fff0c6ca6eeb"
      },
      "execution_count": 63,
      "outputs": [
        {
          "output_type": "execute_result",
          "data": {
            "text/plain": [
              "         user_id  anime_id  rating\n",
              "47             1      8074      10\n",
              "81             1     11617      10\n",
              "83             1     11757      10\n",
              "101            1     15451      10\n",
              "153            2     11771      10\n",
              "...          ...       ...     ...\n",
              "7813732    73515     16512       7\n",
              "7813733    73515     17187       9\n",
              "7813734    73515     22145      10\n",
              "7813735    73516       790       9\n",
              "7813736    73516      8074       9\n",
              "\n",
              "[6337241 rows x 3 columns]"
            ],
            "text/html": [
              "\n",
              "  <div id=\"df-cc1bccd1-6347-4474-a2a8-4b64ae34e9af\">\n",
              "    <div class=\"colab-df-container\">\n",
              "      <div>\n",
              "<style scoped>\n",
              "    .dataframe tbody tr th:only-of-type {\n",
              "        vertical-align: middle;\n",
              "    }\n",
              "\n",
              "    .dataframe tbody tr th {\n",
              "        vertical-align: top;\n",
              "    }\n",
              "\n",
              "    .dataframe thead th {\n",
              "        text-align: right;\n",
              "    }\n",
              "</style>\n",
              "<table border=\"1\" class=\"dataframe\">\n",
              "  <thead>\n",
              "    <tr style=\"text-align: right;\">\n",
              "      <th></th>\n",
              "      <th>user_id</th>\n",
              "      <th>anime_id</th>\n",
              "      <th>rating</th>\n",
              "    </tr>\n",
              "  </thead>\n",
              "  <tbody>\n",
              "    <tr>\n",
              "      <th>47</th>\n",
              "      <td>1</td>\n",
              "      <td>8074</td>\n",
              "      <td>10</td>\n",
              "    </tr>\n",
              "    <tr>\n",
              "      <th>81</th>\n",
              "      <td>1</td>\n",
              "      <td>11617</td>\n",
              "      <td>10</td>\n",
              "    </tr>\n",
              "    <tr>\n",
              "      <th>83</th>\n",
              "      <td>1</td>\n",
              "      <td>11757</td>\n",
              "      <td>10</td>\n",
              "    </tr>\n",
              "    <tr>\n",
              "      <th>101</th>\n",
              "      <td>1</td>\n",
              "      <td>15451</td>\n",
              "      <td>10</td>\n",
              "    </tr>\n",
              "    <tr>\n",
              "      <th>153</th>\n",
              "      <td>2</td>\n",
              "      <td>11771</td>\n",
              "      <td>10</td>\n",
              "    </tr>\n",
              "    <tr>\n",
              "      <th>...</th>\n",
              "      <td>...</td>\n",
              "      <td>...</td>\n",
              "      <td>...</td>\n",
              "    </tr>\n",
              "    <tr>\n",
              "      <th>7813732</th>\n",
              "      <td>73515</td>\n",
              "      <td>16512</td>\n",
              "      <td>7</td>\n",
              "    </tr>\n",
              "    <tr>\n",
              "      <th>7813733</th>\n",
              "      <td>73515</td>\n",
              "      <td>17187</td>\n",
              "      <td>9</td>\n",
              "    </tr>\n",
              "    <tr>\n",
              "      <th>7813734</th>\n",
              "      <td>73515</td>\n",
              "      <td>22145</td>\n",
              "      <td>10</td>\n",
              "    </tr>\n",
              "    <tr>\n",
              "      <th>7813735</th>\n",
              "      <td>73516</td>\n",
              "      <td>790</td>\n",
              "      <td>9</td>\n",
              "    </tr>\n",
              "    <tr>\n",
              "      <th>7813736</th>\n",
              "      <td>73516</td>\n",
              "      <td>8074</td>\n",
              "      <td>9</td>\n",
              "    </tr>\n",
              "  </tbody>\n",
              "</table>\n",
              "<p>6337241 rows × 3 columns</p>\n",
              "</div>\n",
              "      <button class=\"colab-df-convert\" onclick=\"convertToInteractive('df-cc1bccd1-6347-4474-a2a8-4b64ae34e9af')\"\n",
              "              title=\"Convert this dataframe to an interactive table.\"\n",
              "              style=\"display:none;\">\n",
              "        \n",
              "  <svg xmlns=\"http://www.w3.org/2000/svg\" height=\"24px\"viewBox=\"0 0 24 24\"\n",
              "       width=\"24px\">\n",
              "    <path d=\"M0 0h24v24H0V0z\" fill=\"none\"/>\n",
              "    <path d=\"M18.56 5.44l.94 2.06.94-2.06 2.06-.94-2.06-.94-.94-2.06-.94 2.06-2.06.94zm-11 1L8.5 8.5l.94-2.06 2.06-.94-2.06-.94L8.5 2.5l-.94 2.06-2.06.94zm10 10l.94 2.06.94-2.06 2.06-.94-2.06-.94-.94-2.06-.94 2.06-2.06.94z\"/><path d=\"M17.41 7.96l-1.37-1.37c-.4-.4-.92-.59-1.43-.59-.52 0-1.04.2-1.43.59L10.3 9.45l-7.72 7.72c-.78.78-.78 2.05 0 2.83L4 21.41c.39.39.9.59 1.41.59.51 0 1.02-.2 1.41-.59l7.78-7.78 2.81-2.81c.8-.78.8-2.07 0-2.86zM5.41 20L4 18.59l7.72-7.72 1.47 1.35L5.41 20z\"/>\n",
              "  </svg>\n",
              "      </button>\n",
              "      \n",
              "  <style>\n",
              "    .colab-df-container {\n",
              "      display:flex;\n",
              "      flex-wrap:wrap;\n",
              "      gap: 12px;\n",
              "    }\n",
              "\n",
              "    .colab-df-convert {\n",
              "      background-color: #E8F0FE;\n",
              "      border: none;\n",
              "      border-radius: 50%;\n",
              "      cursor: pointer;\n",
              "      display: none;\n",
              "      fill: #1967D2;\n",
              "      height: 32px;\n",
              "      padding: 0 0 0 0;\n",
              "      width: 32px;\n",
              "    }\n",
              "\n",
              "    .colab-df-convert:hover {\n",
              "      background-color: #E2EBFA;\n",
              "      box-shadow: 0px 1px 2px rgba(60, 64, 67, 0.3), 0px 1px 3px 1px rgba(60, 64, 67, 0.15);\n",
              "      fill: #174EA6;\n",
              "    }\n",
              "\n",
              "    [theme=dark] .colab-df-convert {\n",
              "      background-color: #3B4455;\n",
              "      fill: #D2E3FC;\n",
              "    }\n",
              "\n",
              "    [theme=dark] .colab-df-convert:hover {\n",
              "      background-color: #434B5C;\n",
              "      box-shadow: 0px 1px 3px 1px rgba(0, 0, 0, 0.15);\n",
              "      filter: drop-shadow(0px 1px 2px rgba(0, 0, 0, 0.3));\n",
              "      fill: #FFFFFF;\n",
              "    }\n",
              "  </style>\n",
              "\n",
              "      <script>\n",
              "        const buttonEl =\n",
              "          document.querySelector('#df-cc1bccd1-6347-4474-a2a8-4b64ae34e9af button.colab-df-convert');\n",
              "        buttonEl.style.display =\n",
              "          google.colab.kernel.accessAllowed ? 'block' : 'none';\n",
              "\n",
              "        async function convertToInteractive(key) {\n",
              "          const element = document.querySelector('#df-cc1bccd1-6347-4474-a2a8-4b64ae34e9af');\n",
              "          const dataTable =\n",
              "            await google.colab.kernel.invokeFunction('convertToInteractive',\n",
              "                                                     [key], {});\n",
              "          if (!dataTable) return;\n",
              "\n",
              "          const docLinkHtml = 'Like what you see? Visit the ' +\n",
              "            '<a target=\"_blank\" href=https://colab.research.google.com/notebooks/data_table.ipynb>data table notebook</a>'\n",
              "            + ' to learn more about interactive tables.';\n",
              "          element.innerHTML = '';\n",
              "          dataTable['output_type'] = 'display_data';\n",
              "          await google.colab.output.renderOutput(dataTable, element);\n",
              "          const docLink = document.createElement('div');\n",
              "          docLink.innerHTML = docLinkHtml;\n",
              "          element.appendChild(docLink);\n",
              "        }\n",
              "      </script>\n",
              "    </div>\n",
              "  </div>\n",
              "  "
            ]
          },
          "metadata": {},
          "execution_count": 63
        }
      ]
    },
    {
      "cell_type": "markdown",
      "source": [
        "**Standardisasi Nilai Rating**\n",
        "\n",
        "Melakukan standardisasi pada nilai rating, agar machine learning bisa lebih cepat mempelajari data (terutama jika berbicara mengenai jarak dan gradient descent), dengan skala antara 0 - 1."
      ],
      "metadata": {
        "id": "JPMQT7b0lhuq"
      }
    },
    {
      "cell_type": "code",
      "source": [
        "anime_rating_cbf_df[rating_field] = anime_rating_cbf_df[rating_field].apply(\n",
        "    lambda x: (x - 1) / (10 - 1)\n",
        ").values\n",
        "anime_rating_cbf_df.describe()"
      ],
      "metadata": {
        "colab": {
          "base_uri": "https://localhost:8080/",
          "height": 300
        },
        "id": "L-yd6XisUnyD",
        "outputId": "1f0ceda1-1152-4d45-a280-2a36ddc9d30d"
      },
      "execution_count": 65,
      "outputs": [
        {
          "output_type": "execute_result",
          "data": {
            "text/plain": [
              "            user_id      anime_id        rating\n",
              "count  6.337241e+06  6.337241e+06  6.337241e+06\n",
              "mean   3.674791e+04  8.902866e+03  7.564997e-01\n",
              "std    2.101340e+04  8.882000e+03  1.747218e-01\n",
              "min    1.000000e+00  1.000000e+00  0.000000e+00\n",
              "25%    1.898400e+04  1.239000e+03  6.666667e-01\n",
              "50%    3.681500e+04  6.213000e+03  7.777778e-01\n",
              "75%    5.487300e+04  1.407500e+04  8.888889e-01\n",
              "max    7.351600e+04  3.447500e+04  1.000000e+00"
            ],
            "text/html": [
              "\n",
              "  <div id=\"df-8dfa18f9-21e9-4840-ab62-390b2290e31f\">\n",
              "    <div class=\"colab-df-container\">\n",
              "      <div>\n",
              "<style scoped>\n",
              "    .dataframe tbody tr th:only-of-type {\n",
              "        vertical-align: middle;\n",
              "    }\n",
              "\n",
              "    .dataframe tbody tr th {\n",
              "        vertical-align: top;\n",
              "    }\n",
              "\n",
              "    .dataframe thead th {\n",
              "        text-align: right;\n",
              "    }\n",
              "</style>\n",
              "<table border=\"1\" class=\"dataframe\">\n",
              "  <thead>\n",
              "    <tr style=\"text-align: right;\">\n",
              "      <th></th>\n",
              "      <th>user_id</th>\n",
              "      <th>anime_id</th>\n",
              "      <th>rating</th>\n",
              "    </tr>\n",
              "  </thead>\n",
              "  <tbody>\n",
              "    <tr>\n",
              "      <th>count</th>\n",
              "      <td>6.337241e+06</td>\n",
              "      <td>6.337241e+06</td>\n",
              "      <td>6.337241e+06</td>\n",
              "    </tr>\n",
              "    <tr>\n",
              "      <th>mean</th>\n",
              "      <td>3.674791e+04</td>\n",
              "      <td>8.902866e+03</td>\n",
              "      <td>7.564997e-01</td>\n",
              "    </tr>\n",
              "    <tr>\n",
              "      <th>std</th>\n",
              "      <td>2.101340e+04</td>\n",
              "      <td>8.882000e+03</td>\n",
              "      <td>1.747218e-01</td>\n",
              "    </tr>\n",
              "    <tr>\n",
              "      <th>min</th>\n",
              "      <td>1.000000e+00</td>\n",
              "      <td>1.000000e+00</td>\n",
              "      <td>0.000000e+00</td>\n",
              "    </tr>\n",
              "    <tr>\n",
              "      <th>25%</th>\n",
              "      <td>1.898400e+04</td>\n",
              "      <td>1.239000e+03</td>\n",
              "      <td>6.666667e-01</td>\n",
              "    </tr>\n",
              "    <tr>\n",
              "      <th>50%</th>\n",
              "      <td>3.681500e+04</td>\n",
              "      <td>6.213000e+03</td>\n",
              "      <td>7.777778e-01</td>\n",
              "    </tr>\n",
              "    <tr>\n",
              "      <th>75%</th>\n",
              "      <td>5.487300e+04</td>\n",
              "      <td>1.407500e+04</td>\n",
              "      <td>8.888889e-01</td>\n",
              "    </tr>\n",
              "    <tr>\n",
              "      <th>max</th>\n",
              "      <td>7.351600e+04</td>\n",
              "      <td>3.447500e+04</td>\n",
              "      <td>1.000000e+00</td>\n",
              "    </tr>\n",
              "  </tbody>\n",
              "</table>\n",
              "</div>\n",
              "      <button class=\"colab-df-convert\" onclick=\"convertToInteractive('df-8dfa18f9-21e9-4840-ab62-390b2290e31f')\"\n",
              "              title=\"Convert this dataframe to an interactive table.\"\n",
              "              style=\"display:none;\">\n",
              "        \n",
              "  <svg xmlns=\"http://www.w3.org/2000/svg\" height=\"24px\"viewBox=\"0 0 24 24\"\n",
              "       width=\"24px\">\n",
              "    <path d=\"M0 0h24v24H0V0z\" fill=\"none\"/>\n",
              "    <path d=\"M18.56 5.44l.94 2.06.94-2.06 2.06-.94-2.06-.94-.94-2.06-.94 2.06-2.06.94zm-11 1L8.5 8.5l.94-2.06 2.06-.94-2.06-.94L8.5 2.5l-.94 2.06-2.06.94zm10 10l.94 2.06.94-2.06 2.06-.94-2.06-.94-.94-2.06-.94 2.06-2.06.94z\"/><path d=\"M17.41 7.96l-1.37-1.37c-.4-.4-.92-.59-1.43-.59-.52 0-1.04.2-1.43.59L10.3 9.45l-7.72 7.72c-.78.78-.78 2.05 0 2.83L4 21.41c.39.39.9.59 1.41.59.51 0 1.02-.2 1.41-.59l7.78-7.78 2.81-2.81c.8-.78.8-2.07 0-2.86zM5.41 20L4 18.59l7.72-7.72 1.47 1.35L5.41 20z\"/>\n",
              "  </svg>\n",
              "      </button>\n",
              "      \n",
              "  <style>\n",
              "    .colab-df-container {\n",
              "      display:flex;\n",
              "      flex-wrap:wrap;\n",
              "      gap: 12px;\n",
              "    }\n",
              "\n",
              "    .colab-df-convert {\n",
              "      background-color: #E8F0FE;\n",
              "      border: none;\n",
              "      border-radius: 50%;\n",
              "      cursor: pointer;\n",
              "      display: none;\n",
              "      fill: #1967D2;\n",
              "      height: 32px;\n",
              "      padding: 0 0 0 0;\n",
              "      width: 32px;\n",
              "    }\n",
              "\n",
              "    .colab-df-convert:hover {\n",
              "      background-color: #E2EBFA;\n",
              "      box-shadow: 0px 1px 2px rgba(60, 64, 67, 0.3), 0px 1px 3px 1px rgba(60, 64, 67, 0.15);\n",
              "      fill: #174EA6;\n",
              "    }\n",
              "\n",
              "    [theme=dark] .colab-df-convert {\n",
              "      background-color: #3B4455;\n",
              "      fill: #D2E3FC;\n",
              "    }\n",
              "\n",
              "    [theme=dark] .colab-df-convert:hover {\n",
              "      background-color: #434B5C;\n",
              "      box-shadow: 0px 1px 3px 1px rgba(0, 0, 0, 0.15);\n",
              "      filter: drop-shadow(0px 1px 2px rgba(0, 0, 0, 0.3));\n",
              "      fill: #FFFFFF;\n",
              "    }\n",
              "  </style>\n",
              "\n",
              "      <script>\n",
              "        const buttonEl =\n",
              "          document.querySelector('#df-8dfa18f9-21e9-4840-ab62-390b2290e31f button.colab-df-convert');\n",
              "        buttonEl.style.display =\n",
              "          google.colab.kernel.accessAllowed ? 'block' : 'none';\n",
              "\n",
              "        async function convertToInteractive(key) {\n",
              "          const element = document.querySelector('#df-8dfa18f9-21e9-4840-ab62-390b2290e31f');\n",
              "          const dataTable =\n",
              "            await google.colab.kernel.invokeFunction('convertToInteractive',\n",
              "                                                     [key], {});\n",
              "          if (!dataTable) return;\n",
              "\n",
              "          const docLinkHtml = 'Like what you see? Visit the ' +\n",
              "            '<a target=\"_blank\" href=https://colab.research.google.com/notebooks/data_table.ipynb>data table notebook</a>'\n",
              "            + ' to learn more about interactive tables.';\n",
              "          element.innerHTML = '';\n",
              "          dataTable['output_type'] = 'display_data';\n",
              "          await google.colab.output.renderOutput(dataTable, element);\n",
              "          const docLink = document.createElement('div');\n",
              "          docLink.innerHTML = docLinkHtml;\n",
              "          element.appendChild(docLink);\n",
              "        }\n",
              "      </script>\n",
              "    </div>\n",
              "  </div>\n",
              "  "
            ]
          },
          "metadata": {},
          "execution_count": 65
        }
      ]
    },
    {
      "cell_type": "markdown",
      "source": [
        "**Train Tets Split**\n",
        "\n",
        "Melakukan train test split, dengan proporsi sebagai berikut:\n",
        "\n",
        "* **Train:** 80%\n",
        "* **Test:** 20%\n",
        "\n",
        "Tujuan dari pembagian data ini adalah agar kita bisa mengukur kemampuan machine learning dengan data yang belum pernah dipelajari. \n",
        "\n"
      ],
      "metadata": {
        "id": "p_tQMmBRhv9I"
      }
    },
    {
      "cell_type": "code",
      "source": [
        "anime_rating_train_data, anime_rating_test_data = train_test_split(\n",
        "    anime_rating_cbf_df,\n",
        "    test_size = 0.2,\n",
        "    random_state = 30\n",
        ")"
      ],
      "metadata": {
        "id": "gAYXuJfRhwLz"
      },
      "execution_count": 66,
      "outputs": []
    },
    {
      "cell_type": "markdown",
      "source": [
        "#### Training Model"
      ],
      "metadata": {
        "id": "16GzeIJHl6km"
      }
    },
    {
      "cell_type": "markdown",
      "source": [
        "Melakukan konversi dataframe menjadi data yang bisa dibaca dengan library surprise."
      ],
      "metadata": {
        "id": "hJwQ3g4arfe8"
      }
    },
    {
      "cell_type": "code",
      "source": [
        "data_reader = surprise.Reader(rating_scale=(0,1))\n",
        "\n",
        "train_surprise_data = surprise.Dataset.load_from_df(\n",
        "    anime_rating_train_data, \n",
        "    data_reader\n",
        ")\n",
        "\n",
        "test_surprise_data = surprise.Dataset.load_from_df(\n",
        "    anime_rating_test_data, \n",
        "    data_reader\n",
        ")\n",
        "\n",
        "anime_trainset_surprise = train_surprise_data.build_full_trainset()"
      ],
      "metadata": {
        "id": "Ax_W9BrNqlOr"
      },
      "execution_count": 67,
      "outputs": []
    },
    {
      "cell_type": "markdown",
      "source": [
        "Collaborative Filtering menggunakan SVD (Matrix Facrorization Technique). Di sini, saya akan menggunakan attribut pada genre"
      ],
      "metadata": {
        "id": "ChigvJukq1uL"
      }
    },
    {
      "cell_type": "code",
      "source": [
        "svd_classifier = SVD(n_epochs = 3, verbose=True)\n",
        "anime_predictor_surprise = svd_classifier.fit(anime_trainset_surprise)"
      ],
      "metadata": {
        "id": "N00Z5nueLjio",
        "colab": {
          "base_uri": "https://localhost:8080/"
        },
        "outputId": "ea75907b-8a0d-4c64-a11d-229776346bb8"
      },
      "execution_count": 68,
      "outputs": [
        {
          "output_type": "stream",
          "name": "stdout",
          "text": [
            "Processing epoch 0\n",
            "Processing epoch 1\n",
            "Processing epoch 2\n"
          ]
        }
      ]
    },
    {
      "cell_type": "markdown",
      "source": [
        "#### Evaluasi Model\n",
        "\n",
        "Dalam collaborative filtering, terdapat dua metrik yang saya gunakan, yaitu MAE dan RMSE. \n",
        "\n",
        "* **MAE**: rata-rata kesalahan absolut antara data sebenarnya dengan data yang diprediksikan. Rumusnya adalah sebagai berikut:\n",
        "\n",
        "  ![Rumus MAE](https://www.statisticshowto.com/wp-content/uploads/2016/10/MAE.png)\n",
        "\n",
        "* **RMSE**: akar kuadrat dari MSE. MSE sendiri adalah kuadrat dari rata-rata kesalahan. Rumusnya adalah sebagai berikut.\n",
        "\n",
        "  ![Rumus RMSE](https://1.bp.blogspot.com/-AodtifmdR1U/X-NOXo0avGI/AAAAAAAACmI/_jvy7eLB72UB00dW_buPYZCa9ST2yx8XACNcBGAsYHQ/s453/rumus%2Brmse.jpg)"
      ],
      "metadata": {
        "id": "afxB3Rlzl-sd"
      }
    },
    {
      "cell_type": "markdown",
      "source": [
        "Mendapatkan nilai MAE dan RMSE"
      ],
      "metadata": {
        "id": "s-9H0W_LqWZv"
      }
    },
    {
      "cell_type": "code",
      "source": [
        "cross_validate(svd_classifier, \n",
        "               train_surprise_data, \n",
        "               measures = ['RMSE', 'MSE'], \n",
        "               cv = 3,\n",
        "               verbose = True)"
      ],
      "metadata": {
        "id": "jqh1J_Fmm8E4",
        "colab": {
          "base_uri": "https://localhost:8080/"
        },
        "outputId": "1145013f-9a52-42f8-e532-06a4ca5b7e46"
      },
      "execution_count": 69,
      "outputs": [
        {
          "output_type": "stream",
          "name": "stdout",
          "text": [
            "Processing epoch 0\n",
            "Processing epoch 1\n",
            "Processing epoch 2\n",
            "Processing epoch 0\n",
            "Processing epoch 1\n",
            "Processing epoch 2\n",
            "Processing epoch 0\n",
            "Processing epoch 1\n",
            "Processing epoch 2\n",
            "Evaluating RMSE, MSE of algorithm SVD on 3 split(s).\n",
            "\n",
            "                  Fold 1  Fold 2  Fold 3  Mean    Std     \n",
            "RMSE (testset)    0.1478  0.1476  0.1478  0.1478  0.0001  \n",
            "MSE (testset)     0.0218  0.0218  0.0219  0.0218  0.0000  \n",
            "Fit time          36.71   38.20   39.11   38.01   0.99    \n",
            "Test time         36.84   38.53   37.52   37.63   0.69    \n"
          ]
        },
        {
          "output_type": "execute_result",
          "data": {
            "text/plain": [
              "{'fit_time': (36.71338868141174, 38.1976101398468, 39.10872268676758),\n",
              " 'test_mse': array([0.02184725, 0.02179346, 0.02185931]),\n",
              " 'test_rmse': array([0.14780814, 0.14762607, 0.14784894]),\n",
              " 'test_time': (36.84397292137146, 38.52534222602844, 37.51636838912964)}"
            ]
          },
          "metadata": {},
          "execution_count": 69
        }
      ]
    },
    {
      "cell_type": "markdown",
      "source": [
        "Melakukan prediksi dengan data testing"
      ],
      "metadata": {
        "id": "gH9pzif0dsiK"
      }
    },
    {
      "cell_type": "code",
      "source": [
        "anime_trainset_test_surprise = test_surprise_data.build_full_trainset()\n",
        "anime_surprise_testset = anime_trainset_test_surprise.build_testset()\n",
        "\n",
        "predictions = anime_predictor_surprise.test(anime_surprise_testset)"
      ],
      "metadata": {
        "id": "WZEc4RFjnGzn"
      },
      "execution_count": 70,
      "outputs": []
    },
    {
      "cell_type": "markdown",
      "source": [
        "#### Melihat top n rekomendasi dengan sampel user id 23435"
      ],
      "metadata": {
        "id": "CHp-mLOH4M2u"
      }
    },
    {
      "cell_type": "code",
      "source": [
        "predict_user_id = 23435"
      ],
      "metadata": {
        "id": "EhbsLN_C4vGB"
      },
      "execution_count": 71,
      "outputs": []
    },
    {
      "cell_type": "markdown",
      "source": [
        "Melihat hasil prediksi rating dari user-user pada data testing"
      ],
      "metadata": {
        "id": "sWKfZ3nVqcnk"
      }
    },
    {
      "cell_type": "code",
      "source": [
        "for index, prediction in enumerate(predictions):\n",
        "  if prediction[0] == predict_user_id:\n",
        "    print(prediction)"
      ],
      "metadata": {
        "colab": {
          "base_uri": "https://localhost:8080/"
        },
        "id": "YbU1y8VA3sZU",
        "outputId": "45c4fee3-7ec0-4289-aa0a-4a7905b20766"
      },
      "execution_count": 72,
      "outputs": [
        {
          "output_type": "stream",
          "name": "stdout",
          "text": [
            "user: 23435      item: 24415      r_ui = 1.00   est = 1.00   {'was_impossible': False}\n",
            "user: 23435      item: 551        r_ui = 0.78   est = 0.83   {'was_impossible': False}\n",
            "user: 23435      item: 22789      r_ui = 1.00   est = 0.95   {'was_impossible': False}\n",
            "user: 23435      item: 6974       r_ui = 0.78   est = 0.86   {'was_impossible': False}\n",
            "user: 23435      item: 4224       r_ui = 1.00   est = 0.95   {'was_impossible': False}\n",
            "user: 23435      item: 5040       r_ui = 1.00   est = 0.93   {'was_impossible': False}\n",
            "user: 23435      item: 5681       r_ui = 1.00   est = 0.91   {'was_impossible': False}\n",
            "user: 23435      item: 6213       r_ui = 0.89   est = 0.90   {'was_impossible': False}\n",
            "user: 23435      item: 431        r_ui = 0.67   est = 0.98   {'was_impossible': False}\n",
            "user: 23435      item: 11577      r_ui = 1.00   est = 0.94   {'was_impossible': False}\n",
            "user: 23435      item: 237        r_ui = 0.89   est = 0.92   {'was_impossible': False}\n",
            "user: 23435      item: 10408      r_ui = 0.89   est = 0.98   {'was_impossible': False}\n",
            "user: 23435      item: 11371      r_ui = 1.00   est = 0.80   {'was_impossible': False}\n",
            "user: 23435      item: 763        r_ui = 0.89   est = 0.80   {'was_impossible': False}\n",
            "user: 23435      item: 8557       r_ui = 0.78   est = 0.81   {'was_impossible': False}\n",
            "user: 23435      item: 883        r_ui = 1.00   est = 0.80   {'was_impossible': False}\n",
            "user: 23435      item: 790        r_ui = 0.89   est = 0.90   {'was_impossible': False}\n",
            "user: 23435      item: 2705       r_ui = 0.78   est = 0.70   {'was_impossible': False}\n",
            "user: 23435      item: 15809      r_ui = 0.78   est = 0.89   {'was_impossible': False}\n",
            "user: 23435      item: 400        r_ui = 0.78   est = 0.89   {'was_impossible': False}\n",
            "user: 23435      item: 9756       r_ui = 1.00   est = 0.96   {'was_impossible': False}\n",
            "user: 23435      item: 20583      r_ui = 1.00   est = 1.00   {'was_impossible': False}\n",
            "user: 23435      item: 154        r_ui = 1.00   est = 0.89   {'was_impossible': False}\n",
            "user: 23435      item: 5114       r_ui = 1.00   est = 1.00   {'was_impossible': False}\n",
            "user: 23435      item: 5258       r_ui = 1.00   est = 1.00   {'was_impossible': False}\n",
            "user: 23435      item: 190        r_ui = 0.78   est = 0.85   {'was_impossible': False}\n",
            "user: 23435      item: 1736       r_ui = 0.89   est = 0.71   {'was_impossible': False}\n",
            "user: 23435      item: 20889      r_ui = 0.89   est = 0.89   {'was_impossible': False}\n",
            "user: 23435      item: 16918      r_ui = 0.78   est = 0.95   {'was_impossible': False}\n",
            "user: 23435      item: 2698       r_ui = 1.00   est = 0.72   {'was_impossible': False}\n",
            "user: 23435      item: 1412       r_ui = 0.89   est = 0.82   {'was_impossible': False}\n",
            "user: 23435      item: 323        r_ui = 1.00   est = 0.83   {'was_impossible': False}\n",
            "user: 23435      item: 21327      r_ui = 0.78   est = 0.85   {'was_impossible': False}\n",
            "user: 23435      item: 4382       r_ui = 1.00   est = 0.82   {'was_impossible': False}\n",
            "user: 23435      item: 13601      r_ui = 0.89   est = 0.94   {'was_impossible': False}\n",
            "user: 23435      item: 12859      r_ui = 0.89   est = 0.89   {'was_impossible': False}\n",
            "user: 23435      item: 27991      r_ui = 1.00   est = 1.00   {'was_impossible': False}\n",
            "user: 23435      item: 9675       r_ui = 0.78   est = 0.76   {'was_impossible': False}\n",
            "user: 23435      item: 1573       r_ui = 0.89   est = 0.76   {'was_impossible': False}\n",
            "user: 23435      item: 90         r_ui = 1.00   est = 0.93   {'was_impossible': False}\n",
            "user: 23435      item: 28999      r_ui = 0.67   est = 0.87   {'was_impossible': False}\n",
            "user: 23435      item: 15315      r_ui = 0.67   est = 0.91   {'was_impossible': False}\n",
            "user: 23435      item: 1157       r_ui = 0.78   est = 0.88   {'was_impossible': False}\n",
            "user: 23435      item: 72         r_ui = 1.00   est = 0.90   {'was_impossible': False}\n",
            "user: 23435      item: 7465       r_ui = 0.89   est = 0.99   {'was_impossible': False}\n",
            "user: 23435      item: 11737      r_ui = 1.00   est = 0.85   {'was_impossible': False}\n",
            "user: 23435      item: 11433      r_ui = 0.78   est = 0.83   {'was_impossible': False}\n",
            "user: 23435      item: 15689      r_ui = 1.00   est = 0.90   {'was_impossible': False}\n",
            "user: 23435      item: 3901       r_ui = 1.00   est = 0.90   {'was_impossible': False}\n",
            "user: 23435      item: 50         r_ui = 0.67   est = 0.90   {'was_impossible': False}\n",
            "user: 23435      item: 7769       r_ui = 0.56   est = 0.81   {'was_impossible': False}\n",
            "user: 23435      item: 19647      r_ui = 1.00   est = 0.91   {'was_impossible': False}\n",
            "user: 23435      item: 189        r_ui = 0.78   est = 0.82   {'was_impossible': False}\n",
            "user: 23435      item: 10863      r_ui = 1.00   est = 0.95   {'was_impossible': False}\n",
            "user: 23435      item: 7661       r_ui = 1.00   est = 0.88   {'was_impossible': False}\n",
            "user: 23435      item: 552        r_ui = 0.89   est = 0.89   {'was_impossible': False}\n",
            "user: 23435      item: 4155       r_ui = 1.00   est = 0.96   {'was_impossible': False}\n",
            "user: 23435      item: 2391       r_ui = 0.78   est = 0.53   {'was_impossible': False}\n",
            "user: 23435      item: 21881      r_ui = 0.89   est = 0.84   {'was_impossible': False}\n",
            "user: 23435      item: 26243      r_ui = 0.67   est = 0.86   {'was_impossible': False}\n",
            "user: 23435      item: 205        r_ui = 1.00   est = 0.97   {'was_impossible': False}\n",
            "user: 23435      item: 2472       r_ui = 0.78   est = 0.83   {'was_impossible': False}\n",
            "user: 23435      item: 3588       r_ui = 0.89   est = 0.92   {'was_impossible': False}\n",
            "user: 23435      item: 25161      r_ui = 0.56   est = 0.88   {'was_impossible': False}\n"
          ]
        }
      ]
    },
    {
      "cell_type": "markdown",
      "source": [
        "Melakukan rekomendasi anime"
      ],
      "metadata": {
        "id": "hfoAFBz1qhih"
      }
    },
    {
      "cell_type": "code",
      "source": [
        "def get_top_n_from_specific_user_id(predictions, \n",
        "                                    number_of_items,\n",
        "                                    user_id,\n",
        "                                    except_array=[]):\n",
        "  top_n = defaultdict(list)\n",
        "\n",
        "  # Membuat pemetaan user terlebih dahulu, dengan melihat terlebih dahulu\n",
        "  # apakah user tersebut sudah pernah menonton movie tersebut\n",
        "  for uid, iid, true_r, est, _ in predictions:\n",
        "    if user_id == uid and iid not in except_array:\n",
        "      top_n[uid].append((iid, est))\n",
        "\n",
        "  # Melakukan pengurutan ranking pada user yang diberikan pada argument\n",
        "  for uid, user_ratings in top_n.items():\n",
        "    user_ratings.sort(key=lambda x: x[1], reverse=True)\n",
        "    top_n[uid] = user_ratings[:number_of_items]\n",
        "\n",
        "  return top_n\n",
        "\n",
        "watched_animes = anime_rating_cbf_df[anime_rating_cbf_df[user_id_field] == predict_user_id]\n",
        "top_n_animes = get_top_n_from_specific_user_id(predictions,\n",
        "                                               number_of_items = 5,\n",
        "                                               user_id = predict_user_id,\n",
        "                                               except_array = watched_animes)\n",
        "\n",
        "top_n_animes = top_n_animes[predict_user_id]"
      ],
      "metadata": {
        "id": "zuJ5hU46ed33"
      },
      "execution_count": 73,
      "outputs": []
    },
    {
      "cell_type": "code",
      "source": [
        "print(f\"Recommendation for user id: {predict_user_id}\")\n",
        "\n",
        "recommended_animes = []\n",
        "\n",
        "for i, recommended_anime_id in enumerate(top_n_animes):\n",
        "  recommended_animes.append(recommended_anime_id[0])\n",
        "\n",
        "recommended_anime_names = anime_cbf_df[anime_cbf_df[anime_id_field].isin(recommended_animes)]\n",
        "recommended_anime_names"
      ],
      "metadata": {
        "colab": {
          "base_uri": "https://localhost:8080/",
          "height": 225
        },
        "id": "HW6BlWNEufzK",
        "outputId": "18ea9819-d3b2-4ac0-9229-c66d7a074b5d"
      },
      "execution_count": 77,
      "outputs": [
        {
          "output_type": "stream",
          "name": "stdout",
          "text": [
            "Recommendation for user id: 23435\n"
          ]
        },
        {
          "output_type": "execute_result",
          "data": {
            "text/plain": [
              "     anime_id                              name  \\\n",
              "1        5114  Fullmetal Alchemist: Brotherhood   \n",
              "32       5258    Hajime no Ippo: New Challenger   \n",
              "43      20583                         Haikyuu!!   \n",
              "58      24415       Kuroko no Basket 3rd Season   \n",
              "814     27991                K: Return of Kings   \n",
              "\n",
              "                                                 genre type  episodes  rating  \\\n",
              "1    Action, Adventure, Drama, Fantasy, Magic, Mili...   TV      64.0    9.26   \n",
              "32                      Comedy, Drama, Shounen, Sports   TV      26.0    8.75   \n",
              "43              Comedy, Drama, School, Shounen, Sports   TV      25.0    8.68   \n",
              "58                     Comedy, School, Shounen, Sports   TV      25.0    8.62   \n",
              "814                  Action, Super Power, Supernatural   TV      13.0    7.82   \n",
              "\n",
              "     members  \n",
              "1     793665  \n",
              "32     88995  \n",
              "43    284498  \n",
              "58    184525  \n",
              "814   114904  "
            ],
            "text/html": [
              "\n",
              "  <div id=\"df-82b813fa-d56a-4994-bdd8-9dcc00c31b22\">\n",
              "    <div class=\"colab-df-container\">\n",
              "      <div>\n",
              "<style scoped>\n",
              "    .dataframe tbody tr th:only-of-type {\n",
              "        vertical-align: middle;\n",
              "    }\n",
              "\n",
              "    .dataframe tbody tr th {\n",
              "        vertical-align: top;\n",
              "    }\n",
              "\n",
              "    .dataframe thead th {\n",
              "        text-align: right;\n",
              "    }\n",
              "</style>\n",
              "<table border=\"1\" class=\"dataframe\">\n",
              "  <thead>\n",
              "    <tr style=\"text-align: right;\">\n",
              "      <th></th>\n",
              "      <th>anime_id</th>\n",
              "      <th>name</th>\n",
              "      <th>genre</th>\n",
              "      <th>type</th>\n",
              "      <th>episodes</th>\n",
              "      <th>rating</th>\n",
              "      <th>members</th>\n",
              "    </tr>\n",
              "  </thead>\n",
              "  <tbody>\n",
              "    <tr>\n",
              "      <th>1</th>\n",
              "      <td>5114</td>\n",
              "      <td>Fullmetal Alchemist: Brotherhood</td>\n",
              "      <td>Action, Adventure, Drama, Fantasy, Magic, Mili...</td>\n",
              "      <td>TV</td>\n",
              "      <td>64.0</td>\n",
              "      <td>9.26</td>\n",
              "      <td>793665</td>\n",
              "    </tr>\n",
              "    <tr>\n",
              "      <th>32</th>\n",
              "      <td>5258</td>\n",
              "      <td>Hajime no Ippo: New Challenger</td>\n",
              "      <td>Comedy, Drama, Shounen, Sports</td>\n",
              "      <td>TV</td>\n",
              "      <td>26.0</td>\n",
              "      <td>8.75</td>\n",
              "      <td>88995</td>\n",
              "    </tr>\n",
              "    <tr>\n",
              "      <th>43</th>\n",
              "      <td>20583</td>\n",
              "      <td>Haikyuu!!</td>\n",
              "      <td>Comedy, Drama, School, Shounen, Sports</td>\n",
              "      <td>TV</td>\n",
              "      <td>25.0</td>\n",
              "      <td>8.68</td>\n",
              "      <td>284498</td>\n",
              "    </tr>\n",
              "    <tr>\n",
              "      <th>58</th>\n",
              "      <td>24415</td>\n",
              "      <td>Kuroko no Basket 3rd Season</td>\n",
              "      <td>Comedy, School, Shounen, Sports</td>\n",
              "      <td>TV</td>\n",
              "      <td>25.0</td>\n",
              "      <td>8.62</td>\n",
              "      <td>184525</td>\n",
              "    </tr>\n",
              "    <tr>\n",
              "      <th>814</th>\n",
              "      <td>27991</td>\n",
              "      <td>K: Return of Kings</td>\n",
              "      <td>Action, Super Power, Supernatural</td>\n",
              "      <td>TV</td>\n",
              "      <td>13.0</td>\n",
              "      <td>7.82</td>\n",
              "      <td>114904</td>\n",
              "    </tr>\n",
              "  </tbody>\n",
              "</table>\n",
              "</div>\n",
              "      <button class=\"colab-df-convert\" onclick=\"convertToInteractive('df-82b813fa-d56a-4994-bdd8-9dcc00c31b22')\"\n",
              "              title=\"Convert this dataframe to an interactive table.\"\n",
              "              style=\"display:none;\">\n",
              "        \n",
              "  <svg xmlns=\"http://www.w3.org/2000/svg\" height=\"24px\"viewBox=\"0 0 24 24\"\n",
              "       width=\"24px\">\n",
              "    <path d=\"M0 0h24v24H0V0z\" fill=\"none\"/>\n",
              "    <path d=\"M18.56 5.44l.94 2.06.94-2.06 2.06-.94-2.06-.94-.94-2.06-.94 2.06-2.06.94zm-11 1L8.5 8.5l.94-2.06 2.06-.94-2.06-.94L8.5 2.5l-.94 2.06-2.06.94zm10 10l.94 2.06.94-2.06 2.06-.94-2.06-.94-.94-2.06-.94 2.06-2.06.94z\"/><path d=\"M17.41 7.96l-1.37-1.37c-.4-.4-.92-.59-1.43-.59-.52 0-1.04.2-1.43.59L10.3 9.45l-7.72 7.72c-.78.78-.78 2.05 0 2.83L4 21.41c.39.39.9.59 1.41.59.51 0 1.02-.2 1.41-.59l7.78-7.78 2.81-2.81c.8-.78.8-2.07 0-2.86zM5.41 20L4 18.59l7.72-7.72 1.47 1.35L5.41 20z\"/>\n",
              "  </svg>\n",
              "      </button>\n",
              "      \n",
              "  <style>\n",
              "    .colab-df-container {\n",
              "      display:flex;\n",
              "      flex-wrap:wrap;\n",
              "      gap: 12px;\n",
              "    }\n",
              "\n",
              "    .colab-df-convert {\n",
              "      background-color: #E8F0FE;\n",
              "      border: none;\n",
              "      border-radius: 50%;\n",
              "      cursor: pointer;\n",
              "      display: none;\n",
              "      fill: #1967D2;\n",
              "      height: 32px;\n",
              "      padding: 0 0 0 0;\n",
              "      width: 32px;\n",
              "    }\n",
              "\n",
              "    .colab-df-convert:hover {\n",
              "      background-color: #E2EBFA;\n",
              "      box-shadow: 0px 1px 2px rgba(60, 64, 67, 0.3), 0px 1px 3px 1px rgba(60, 64, 67, 0.15);\n",
              "      fill: #174EA6;\n",
              "    }\n",
              "\n",
              "    [theme=dark] .colab-df-convert {\n",
              "      background-color: #3B4455;\n",
              "      fill: #D2E3FC;\n",
              "    }\n",
              "\n",
              "    [theme=dark] .colab-df-convert:hover {\n",
              "      background-color: #434B5C;\n",
              "      box-shadow: 0px 1px 3px 1px rgba(0, 0, 0, 0.15);\n",
              "      filter: drop-shadow(0px 1px 2px rgba(0, 0, 0, 0.3));\n",
              "      fill: #FFFFFF;\n",
              "    }\n",
              "  </style>\n",
              "\n",
              "      <script>\n",
              "        const buttonEl =\n",
              "          document.querySelector('#df-82b813fa-d56a-4994-bdd8-9dcc00c31b22 button.colab-df-convert');\n",
              "        buttonEl.style.display =\n",
              "          google.colab.kernel.accessAllowed ? 'block' : 'none';\n",
              "\n",
              "        async function convertToInteractive(key) {\n",
              "          const element = document.querySelector('#df-82b813fa-d56a-4994-bdd8-9dcc00c31b22');\n",
              "          const dataTable =\n",
              "            await google.colab.kernel.invokeFunction('convertToInteractive',\n",
              "                                                     [key], {});\n",
              "          if (!dataTable) return;\n",
              "\n",
              "          const docLinkHtml = 'Like what you see? Visit the ' +\n",
              "            '<a target=\"_blank\" href=https://colab.research.google.com/notebooks/data_table.ipynb>data table notebook</a>'\n",
              "            + ' to learn more about interactive tables.';\n",
              "          element.innerHTML = '';\n",
              "          dataTable['output_type'] = 'display_data';\n",
              "          await google.colab.output.renderOutput(dataTable, element);\n",
              "          const docLink = document.createElement('div');\n",
              "          docLink.innerHTML = docLinkHtml;\n",
              "          element.appendChild(docLink);\n",
              "        }\n",
              "      </script>\n",
              "    </div>\n",
              "  </div>\n",
              "  "
            ]
          },
          "metadata": {},
          "execution_count": 77
        }
      ]
    }
  ]
}